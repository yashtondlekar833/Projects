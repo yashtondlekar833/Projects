{
  "nbformat": 4,
  "nbformat_minor": 0,
  "metadata": {
    "colab": {
      "provenance": [],
      "authorship_tag": "ABX9TyNxXFMsQI+/mOkvHIq0VV0c",
      "include_colab_link": true
    },
    "kernelspec": {
      "name": "python3",
      "display_name": "Python 3"
    },
    "language_info": {
      "name": "python"
    }
  },
  "cells": [
    {
      "cell_type": "markdown",
      "metadata": {
        "id": "view-in-github",
        "colab_type": "text"
      },
      "source": [
        "<a href=\"https://colab.research.google.com/github/yashtondlekar833/Projects/blob/main/Movie_Recommendation_project.ipynb\" target=\"_parent\"><img src=\"https://colab.research.google.com/assets/colab-badge.svg\" alt=\"Open In Colab\"/></a>"
      ]
    },
    {
      "cell_type": "code",
      "execution_count": 1,
      "metadata": {
        "id": "T5x4_7naRTYV"
      },
      "outputs": [],
      "source": [
        "import pandas as pd"
      ]
    },
    {
      "cell_type": "code",
      "source": [
        "import numpy as np"
      ],
      "metadata": {
        "id": "i64Lfq4kRb9X"
      },
      "execution_count": 2,
      "outputs": []
    },
    {
      "cell_type": "code",
      "source": [
        "df = pd.read_csv('https://github.com/YBI-Foundation/Dataset/raw/refs/heads/main/Movies%20Recommendation.csv')"
      ],
      "metadata": {
        "id": "6DXiorJNRgMY"
      },
      "execution_count": 3,
      "outputs": []
    },
    {
      "cell_type": "code",
      "source": [
        "df.head()"
      ],
      "metadata": {
        "colab": {
          "base_uri": "https://localhost:8080/",
          "height": 637
        },
        "id": "H1wXDBXORl2k",
        "outputId": "600985ff-33be-4eb8-f0ca-1c7a927513d4"
      },
      "execution_count": 4,
      "outputs": [
        {
          "output_type": "execute_result",
          "data": {
            "text/plain": [
              "   Movie_ID      Movie_Title                       Movie_Genre Movie_Language  \\\n",
              "0         1       Four Rooms                      Crime Comedy             en   \n",
              "1         2        Star Wars  Adventure Action Science Fiction             en   \n",
              "2         3     Finding Nemo                  Animation Family             en   \n",
              "3         4     Forrest Gump              Comedy Drama Romance             en   \n",
              "4         5  American Beauty                             Drama             en   \n",
              "\n",
              "   Movie_Budget  Movie_Popularity Movie_Release_Date  Movie_Revenue  \\\n",
              "0       4000000         22.876230         09-12-1995        4300000   \n",
              "1      11000000        126.393695         25-05-1977      775398007   \n",
              "2      94000000         85.688789         30-05-2003      940335536   \n",
              "3      55000000        138.133331         06-07-1994      677945399   \n",
              "4      15000000         80.878605         15-09-1999      356296601   \n",
              "\n",
              "   Movie_Runtime  Movie_Vote  ...  \\\n",
              "0           98.0         6.5  ...   \n",
              "1          121.0         8.1  ...   \n",
              "2          100.0         7.6  ...   \n",
              "3          142.0         8.2  ...   \n",
              "4          122.0         7.9  ...   \n",
              "\n",
              "                                      Movie_Homepage  \\\n",
              "0                                                NaN   \n",
              "1  http://www.starwars.com/films/star-wars-episod...   \n",
              "2              http://movies.disney.com/finding-nemo   \n",
              "3                                                NaN   \n",
              "4                      http://www.dreamworks.com/ab/   \n",
              "\n",
              "                                      Movie_Keywords  \\\n",
              "0          hotel new year's eve witch bet hotel room   \n",
              "1        android galaxy hermit death star lightsaber   \n",
              "2  father son relationship harbor underwater fish...   \n",
              "3  vietnam veteran hippie mentally disabled runni...   \n",
              "4  male nudity female nudity adultery midlife cri...   \n",
              "\n",
              "                                      Movie_Overview  \\\n",
              "0  It's Ted the Bellhop's first night on the job....   \n",
              "1  Princess Leia is captured and held hostage by ...   \n",
              "2  Nemo, an adventurous young clownfish, is unexp...   \n",
              "3  A man with a low IQ has accomplished great thi...   \n",
              "4  Lester Burnham, a depressed suburban father in...   \n",
              "\n",
              "                              Movie_Production_House  \\\n",
              "0  [{\"name\": \"Miramax Films\", \"id\": 14}, {\"name\":...   \n",
              "1  [{\"name\": \"Lucasfilm\", \"id\": 1}, {\"name\": \"Twe...   \n",
              "2     [{\"name\": \"Pixar Animation Studios\", \"id\": 3}]   \n",
              "3          [{\"name\": \"Paramount Pictures\", \"id\": 4}]   \n",
              "4  [{\"name\": \"DreamWorks SKG\", \"id\": 27}, {\"name\"...   \n",
              "\n",
              "                            Movie_Production_Country  \\\n",
              "0  [{\"iso_3166_1\": \"US\", \"name\": \"United States o...   \n",
              "1  [{\"iso_3166_1\": \"US\", \"name\": \"United States o...   \n",
              "2  [{\"iso_3166_1\": \"US\", \"name\": \"United States o...   \n",
              "3  [{\"iso_3166_1\": \"US\", \"name\": \"United States o...   \n",
              "4  [{\"iso_3166_1\": \"US\", \"name\": \"United States o...   \n",
              "\n",
              "                      Movie_Spoken_Language  \\\n",
              "0  [{\"iso_639_1\": \"en\", \"name\": \"English\"}]   \n",
              "1  [{\"iso_639_1\": \"en\", \"name\": \"English\"}]   \n",
              "2  [{\"iso_639_1\": \"en\", \"name\": \"English\"}]   \n",
              "3  [{\"iso_639_1\": \"en\", \"name\": \"English\"}]   \n",
              "4  [{\"iso_639_1\": \"en\", \"name\": \"English\"}]   \n",
              "\n",
              "                                       Movie_Tagline  \\\n",
              "0  Twelve outrageous guests. Four scandalous requ...   \n",
              "1       A long time ago in a galaxy far, far away...   \n",
              "2  There are 3.7 trillion fish in the ocean, they...   \n",
              "3  The world will never be the same, once you've ...   \n",
              "4                                       Look closer.   \n",
              "\n",
              "                                          Movie_Cast  \\\n",
              "0  Tim Roth Antonio Banderas Jennifer Beals Madon...   \n",
              "1  Mark Hamill Harrison Ford Carrie Fisher Peter ...   \n",
              "2  Albert Brooks Ellen DeGeneres Alexander Gould ...   \n",
              "3  Tom Hanks Robin Wright Gary Sinise Mykelti Wil...   \n",
              "4  Kevin Spacey Annette Bening Thora Birch Wes Be...   \n",
              "\n",
              "                                          Movie_Crew   Movie_Director  \n",
              "0  [{'name': 'Allison Anders', 'gender': 1, 'depa...   Allison Anders  \n",
              "1  [{'name': 'George Lucas', 'gender': 2, 'depart...     George Lucas  \n",
              "2  [{'name': 'Andrew Stanton', 'gender': 2, 'depa...   Andrew Stanton  \n",
              "3  [{'name': 'Alan Silvestri', 'gender': 2, 'depa...  Robert Zemeckis  \n",
              "4  [{'name': 'Thomas Newman', 'gender': 2, 'depar...       Sam Mendes  \n",
              "\n",
              "[5 rows x 21 columns]"
            ],
            "text/html": [
              "\n",
              "  <div id=\"df-c82215d7-99fc-445b-9cd7-e1b7366ed83a\" class=\"colab-df-container\">\n",
              "    <div>\n",
              "<style scoped>\n",
              "    .dataframe tbody tr th:only-of-type {\n",
              "        vertical-align: middle;\n",
              "    }\n",
              "\n",
              "    .dataframe tbody tr th {\n",
              "        vertical-align: top;\n",
              "    }\n",
              "\n",
              "    .dataframe thead th {\n",
              "        text-align: right;\n",
              "    }\n",
              "</style>\n",
              "<table border=\"1\" class=\"dataframe\">\n",
              "  <thead>\n",
              "    <tr style=\"text-align: right;\">\n",
              "      <th></th>\n",
              "      <th>Movie_ID</th>\n",
              "      <th>Movie_Title</th>\n",
              "      <th>Movie_Genre</th>\n",
              "      <th>Movie_Language</th>\n",
              "      <th>Movie_Budget</th>\n",
              "      <th>Movie_Popularity</th>\n",
              "      <th>Movie_Release_Date</th>\n",
              "      <th>Movie_Revenue</th>\n",
              "      <th>Movie_Runtime</th>\n",
              "      <th>Movie_Vote</th>\n",
              "      <th>...</th>\n",
              "      <th>Movie_Homepage</th>\n",
              "      <th>Movie_Keywords</th>\n",
              "      <th>Movie_Overview</th>\n",
              "      <th>Movie_Production_House</th>\n",
              "      <th>Movie_Production_Country</th>\n",
              "      <th>Movie_Spoken_Language</th>\n",
              "      <th>Movie_Tagline</th>\n",
              "      <th>Movie_Cast</th>\n",
              "      <th>Movie_Crew</th>\n",
              "      <th>Movie_Director</th>\n",
              "    </tr>\n",
              "  </thead>\n",
              "  <tbody>\n",
              "    <tr>\n",
              "      <th>0</th>\n",
              "      <td>1</td>\n",
              "      <td>Four Rooms</td>\n",
              "      <td>Crime Comedy</td>\n",
              "      <td>en</td>\n",
              "      <td>4000000</td>\n",
              "      <td>22.876230</td>\n",
              "      <td>09-12-1995</td>\n",
              "      <td>4300000</td>\n",
              "      <td>98.0</td>\n",
              "      <td>6.5</td>\n",
              "      <td>...</td>\n",
              "      <td>NaN</td>\n",
              "      <td>hotel new year's eve witch bet hotel room</td>\n",
              "      <td>It's Ted the Bellhop's first night on the job....</td>\n",
              "      <td>[{\"name\": \"Miramax Films\", \"id\": 14}, {\"name\":...</td>\n",
              "      <td>[{\"iso_3166_1\": \"US\", \"name\": \"United States o...</td>\n",
              "      <td>[{\"iso_639_1\": \"en\", \"name\": \"English\"}]</td>\n",
              "      <td>Twelve outrageous guests. Four scandalous requ...</td>\n",
              "      <td>Tim Roth Antonio Banderas Jennifer Beals Madon...</td>\n",
              "      <td>[{'name': 'Allison Anders', 'gender': 1, 'depa...</td>\n",
              "      <td>Allison Anders</td>\n",
              "    </tr>\n",
              "    <tr>\n",
              "      <th>1</th>\n",
              "      <td>2</td>\n",
              "      <td>Star Wars</td>\n",
              "      <td>Adventure Action Science Fiction</td>\n",
              "      <td>en</td>\n",
              "      <td>11000000</td>\n",
              "      <td>126.393695</td>\n",
              "      <td>25-05-1977</td>\n",
              "      <td>775398007</td>\n",
              "      <td>121.0</td>\n",
              "      <td>8.1</td>\n",
              "      <td>...</td>\n",
              "      <td>http://www.starwars.com/films/star-wars-episod...</td>\n",
              "      <td>android galaxy hermit death star lightsaber</td>\n",
              "      <td>Princess Leia is captured and held hostage by ...</td>\n",
              "      <td>[{\"name\": \"Lucasfilm\", \"id\": 1}, {\"name\": \"Twe...</td>\n",
              "      <td>[{\"iso_3166_1\": \"US\", \"name\": \"United States o...</td>\n",
              "      <td>[{\"iso_639_1\": \"en\", \"name\": \"English\"}]</td>\n",
              "      <td>A long time ago in a galaxy far, far away...</td>\n",
              "      <td>Mark Hamill Harrison Ford Carrie Fisher Peter ...</td>\n",
              "      <td>[{'name': 'George Lucas', 'gender': 2, 'depart...</td>\n",
              "      <td>George Lucas</td>\n",
              "    </tr>\n",
              "    <tr>\n",
              "      <th>2</th>\n",
              "      <td>3</td>\n",
              "      <td>Finding Nemo</td>\n",
              "      <td>Animation Family</td>\n",
              "      <td>en</td>\n",
              "      <td>94000000</td>\n",
              "      <td>85.688789</td>\n",
              "      <td>30-05-2003</td>\n",
              "      <td>940335536</td>\n",
              "      <td>100.0</td>\n",
              "      <td>7.6</td>\n",
              "      <td>...</td>\n",
              "      <td>http://movies.disney.com/finding-nemo</td>\n",
              "      <td>father son relationship harbor underwater fish...</td>\n",
              "      <td>Nemo, an adventurous young clownfish, is unexp...</td>\n",
              "      <td>[{\"name\": \"Pixar Animation Studios\", \"id\": 3}]</td>\n",
              "      <td>[{\"iso_3166_1\": \"US\", \"name\": \"United States o...</td>\n",
              "      <td>[{\"iso_639_1\": \"en\", \"name\": \"English\"}]</td>\n",
              "      <td>There are 3.7 trillion fish in the ocean, they...</td>\n",
              "      <td>Albert Brooks Ellen DeGeneres Alexander Gould ...</td>\n",
              "      <td>[{'name': 'Andrew Stanton', 'gender': 2, 'depa...</td>\n",
              "      <td>Andrew Stanton</td>\n",
              "    </tr>\n",
              "    <tr>\n",
              "      <th>3</th>\n",
              "      <td>4</td>\n",
              "      <td>Forrest Gump</td>\n",
              "      <td>Comedy Drama Romance</td>\n",
              "      <td>en</td>\n",
              "      <td>55000000</td>\n",
              "      <td>138.133331</td>\n",
              "      <td>06-07-1994</td>\n",
              "      <td>677945399</td>\n",
              "      <td>142.0</td>\n",
              "      <td>8.2</td>\n",
              "      <td>...</td>\n",
              "      <td>NaN</td>\n",
              "      <td>vietnam veteran hippie mentally disabled runni...</td>\n",
              "      <td>A man with a low IQ has accomplished great thi...</td>\n",
              "      <td>[{\"name\": \"Paramount Pictures\", \"id\": 4}]</td>\n",
              "      <td>[{\"iso_3166_1\": \"US\", \"name\": \"United States o...</td>\n",
              "      <td>[{\"iso_639_1\": \"en\", \"name\": \"English\"}]</td>\n",
              "      <td>The world will never be the same, once you've ...</td>\n",
              "      <td>Tom Hanks Robin Wright Gary Sinise Mykelti Wil...</td>\n",
              "      <td>[{'name': 'Alan Silvestri', 'gender': 2, 'depa...</td>\n",
              "      <td>Robert Zemeckis</td>\n",
              "    </tr>\n",
              "    <tr>\n",
              "      <th>4</th>\n",
              "      <td>5</td>\n",
              "      <td>American Beauty</td>\n",
              "      <td>Drama</td>\n",
              "      <td>en</td>\n",
              "      <td>15000000</td>\n",
              "      <td>80.878605</td>\n",
              "      <td>15-09-1999</td>\n",
              "      <td>356296601</td>\n",
              "      <td>122.0</td>\n",
              "      <td>7.9</td>\n",
              "      <td>...</td>\n",
              "      <td>http://www.dreamworks.com/ab/</td>\n",
              "      <td>male nudity female nudity adultery midlife cri...</td>\n",
              "      <td>Lester Burnham, a depressed suburban father in...</td>\n",
              "      <td>[{\"name\": \"DreamWorks SKG\", \"id\": 27}, {\"name\"...</td>\n",
              "      <td>[{\"iso_3166_1\": \"US\", \"name\": \"United States o...</td>\n",
              "      <td>[{\"iso_639_1\": \"en\", \"name\": \"English\"}]</td>\n",
              "      <td>Look closer.</td>\n",
              "      <td>Kevin Spacey Annette Bening Thora Birch Wes Be...</td>\n",
              "      <td>[{'name': 'Thomas Newman', 'gender': 2, 'depar...</td>\n",
              "      <td>Sam Mendes</td>\n",
              "    </tr>\n",
              "  </tbody>\n",
              "</table>\n",
              "<p>5 rows × 21 columns</p>\n",
              "</div>\n",
              "    <div class=\"colab-df-buttons\">\n",
              "\n",
              "  <div class=\"colab-df-container\">\n",
              "    <button class=\"colab-df-convert\" onclick=\"convertToInteractive('df-c82215d7-99fc-445b-9cd7-e1b7366ed83a')\"\n",
              "            title=\"Convert this dataframe to an interactive table.\"\n",
              "            style=\"display:none;\">\n",
              "\n",
              "  <svg xmlns=\"http://www.w3.org/2000/svg\" height=\"24px\" viewBox=\"0 -960 960 960\">\n",
              "    <path d=\"M120-120v-720h720v720H120Zm60-500h600v-160H180v160Zm220 220h160v-160H400v160Zm0 220h160v-160H400v160ZM180-400h160v-160H180v160Zm440 0h160v-160H620v160ZM180-180h160v-160H180v160Zm440 0h160v-160H620v160Z\"/>\n",
              "  </svg>\n",
              "    </button>\n",
              "\n",
              "  <style>\n",
              "    .colab-df-container {\n",
              "      display:flex;\n",
              "      gap: 12px;\n",
              "    }\n",
              "\n",
              "    .colab-df-convert {\n",
              "      background-color: #E8F0FE;\n",
              "      border: none;\n",
              "      border-radius: 50%;\n",
              "      cursor: pointer;\n",
              "      display: none;\n",
              "      fill: #1967D2;\n",
              "      height: 32px;\n",
              "      padding: 0 0 0 0;\n",
              "      width: 32px;\n",
              "    }\n",
              "\n",
              "    .colab-df-convert:hover {\n",
              "      background-color: #E2EBFA;\n",
              "      box-shadow: 0px 1px 2px rgba(60, 64, 67, 0.3), 0px 1px 3px 1px rgba(60, 64, 67, 0.15);\n",
              "      fill: #174EA6;\n",
              "    }\n",
              "\n",
              "    .colab-df-buttons div {\n",
              "      margin-bottom: 4px;\n",
              "    }\n",
              "\n",
              "    [theme=dark] .colab-df-convert {\n",
              "      background-color: #3B4455;\n",
              "      fill: #D2E3FC;\n",
              "    }\n",
              "\n",
              "    [theme=dark] .colab-df-convert:hover {\n",
              "      background-color: #434B5C;\n",
              "      box-shadow: 0px 1px 3px 1px rgba(0, 0, 0, 0.15);\n",
              "      filter: drop-shadow(0px 1px 2px rgba(0, 0, 0, 0.3));\n",
              "      fill: #FFFFFF;\n",
              "    }\n",
              "  </style>\n",
              "\n",
              "    <script>\n",
              "      const buttonEl =\n",
              "        document.querySelector('#df-c82215d7-99fc-445b-9cd7-e1b7366ed83a button.colab-df-convert');\n",
              "      buttonEl.style.display =\n",
              "        google.colab.kernel.accessAllowed ? 'block' : 'none';\n",
              "\n",
              "      async function convertToInteractive(key) {\n",
              "        const element = document.querySelector('#df-c82215d7-99fc-445b-9cd7-e1b7366ed83a');\n",
              "        const dataTable =\n",
              "          await google.colab.kernel.invokeFunction('convertToInteractive',\n",
              "                                                    [key], {});\n",
              "        if (!dataTable) return;\n",
              "\n",
              "        const docLinkHtml = 'Like what you see? Visit the ' +\n",
              "          '<a target=\"_blank\" href=https://colab.research.google.com/notebooks/data_table.ipynb>data table notebook</a>'\n",
              "          + ' to learn more about interactive tables.';\n",
              "        element.innerHTML = '';\n",
              "        dataTable['output_type'] = 'display_data';\n",
              "        await google.colab.output.renderOutput(dataTable, element);\n",
              "        const docLink = document.createElement('div');\n",
              "        docLink.innerHTML = docLinkHtml;\n",
              "        element.appendChild(docLink);\n",
              "      }\n",
              "    </script>\n",
              "  </div>\n",
              "\n",
              "\n",
              "<div id=\"df-e7ac7bb2-889b-4ebb-870f-9f753ae0147d\">\n",
              "  <button class=\"colab-df-quickchart\" onclick=\"quickchart('df-e7ac7bb2-889b-4ebb-870f-9f753ae0147d')\"\n",
              "            title=\"Suggest charts\"\n",
              "            style=\"display:none;\">\n",
              "\n",
              "<svg xmlns=\"http://www.w3.org/2000/svg\" height=\"24px\"viewBox=\"0 0 24 24\"\n",
              "     width=\"24px\">\n",
              "    <g>\n",
              "        <path d=\"M19 3H5c-1.1 0-2 .9-2 2v14c0 1.1.9 2 2 2h14c1.1 0 2-.9 2-2V5c0-1.1-.9-2-2-2zM9 17H7v-7h2v7zm4 0h-2V7h2v10zm4 0h-2v-4h2v4z\"/>\n",
              "    </g>\n",
              "</svg>\n",
              "  </button>\n",
              "\n",
              "<style>\n",
              "  .colab-df-quickchart {\n",
              "      --bg-color: #E8F0FE;\n",
              "      --fill-color: #1967D2;\n",
              "      --hover-bg-color: #E2EBFA;\n",
              "      --hover-fill-color: #174EA6;\n",
              "      --disabled-fill-color: #AAA;\n",
              "      --disabled-bg-color: #DDD;\n",
              "  }\n",
              "\n",
              "  [theme=dark] .colab-df-quickchart {\n",
              "      --bg-color: #3B4455;\n",
              "      --fill-color: #D2E3FC;\n",
              "      --hover-bg-color: #434B5C;\n",
              "      --hover-fill-color: #FFFFFF;\n",
              "      --disabled-bg-color: #3B4455;\n",
              "      --disabled-fill-color: #666;\n",
              "  }\n",
              "\n",
              "  .colab-df-quickchart {\n",
              "    background-color: var(--bg-color);\n",
              "    border: none;\n",
              "    border-radius: 50%;\n",
              "    cursor: pointer;\n",
              "    display: none;\n",
              "    fill: var(--fill-color);\n",
              "    height: 32px;\n",
              "    padding: 0;\n",
              "    width: 32px;\n",
              "  }\n",
              "\n",
              "  .colab-df-quickchart:hover {\n",
              "    background-color: var(--hover-bg-color);\n",
              "    box-shadow: 0 1px 2px rgba(60, 64, 67, 0.3), 0 1px 3px 1px rgba(60, 64, 67, 0.15);\n",
              "    fill: var(--button-hover-fill-color);\n",
              "  }\n",
              "\n",
              "  .colab-df-quickchart-complete:disabled,\n",
              "  .colab-df-quickchart-complete:disabled:hover {\n",
              "    background-color: var(--disabled-bg-color);\n",
              "    fill: var(--disabled-fill-color);\n",
              "    box-shadow: none;\n",
              "  }\n",
              "\n",
              "  .colab-df-spinner {\n",
              "    border: 2px solid var(--fill-color);\n",
              "    border-color: transparent;\n",
              "    border-bottom-color: var(--fill-color);\n",
              "    animation:\n",
              "      spin 1s steps(1) infinite;\n",
              "  }\n",
              "\n",
              "  @keyframes spin {\n",
              "    0% {\n",
              "      border-color: transparent;\n",
              "      border-bottom-color: var(--fill-color);\n",
              "      border-left-color: var(--fill-color);\n",
              "    }\n",
              "    20% {\n",
              "      border-color: transparent;\n",
              "      border-left-color: var(--fill-color);\n",
              "      border-top-color: var(--fill-color);\n",
              "    }\n",
              "    30% {\n",
              "      border-color: transparent;\n",
              "      border-left-color: var(--fill-color);\n",
              "      border-top-color: var(--fill-color);\n",
              "      border-right-color: var(--fill-color);\n",
              "    }\n",
              "    40% {\n",
              "      border-color: transparent;\n",
              "      border-right-color: var(--fill-color);\n",
              "      border-top-color: var(--fill-color);\n",
              "    }\n",
              "    60% {\n",
              "      border-color: transparent;\n",
              "      border-right-color: var(--fill-color);\n",
              "    }\n",
              "    80% {\n",
              "      border-color: transparent;\n",
              "      border-right-color: var(--fill-color);\n",
              "      border-bottom-color: var(--fill-color);\n",
              "    }\n",
              "    90% {\n",
              "      border-color: transparent;\n",
              "      border-bottom-color: var(--fill-color);\n",
              "    }\n",
              "  }\n",
              "</style>\n",
              "\n",
              "  <script>\n",
              "    async function quickchart(key) {\n",
              "      const quickchartButtonEl =\n",
              "        document.querySelector('#' + key + ' button');\n",
              "      quickchartButtonEl.disabled = true;  // To prevent multiple clicks.\n",
              "      quickchartButtonEl.classList.add('colab-df-spinner');\n",
              "      try {\n",
              "        const charts = await google.colab.kernel.invokeFunction(\n",
              "            'suggestCharts', [key], {});\n",
              "      } catch (error) {\n",
              "        console.error('Error during call to suggestCharts:', error);\n",
              "      }\n",
              "      quickchartButtonEl.classList.remove('colab-df-spinner');\n",
              "      quickchartButtonEl.classList.add('colab-df-quickchart-complete');\n",
              "    }\n",
              "    (() => {\n",
              "      let quickchartButtonEl =\n",
              "        document.querySelector('#df-e7ac7bb2-889b-4ebb-870f-9f753ae0147d button');\n",
              "      quickchartButtonEl.style.display =\n",
              "        google.colab.kernel.accessAllowed ? 'block' : 'none';\n",
              "    })();\n",
              "  </script>\n",
              "</div>\n",
              "\n",
              "    </div>\n",
              "  </div>\n"
            ],
            "application/vnd.google.colaboratory.intrinsic+json": {
              "type": "dataframe",
              "variable_name": "df"
            }
          },
          "metadata": {},
          "execution_count": 4
        }
      ]
    },
    {
      "cell_type": "code",
      "source": [
        "df.info()"
      ],
      "metadata": {
        "colab": {
          "base_uri": "https://localhost:8080/"
        },
        "id": "B-ZEkSocRpNb",
        "outputId": "1beab112-3c5a-4b28-b93a-e3a1d3799e38"
      },
      "execution_count": 5,
      "outputs": [
        {
          "output_type": "stream",
          "name": "stdout",
          "text": [
            "<class 'pandas.core.frame.DataFrame'>\n",
            "RangeIndex: 4760 entries, 0 to 4759\n",
            "Data columns (total 21 columns):\n",
            " #   Column                    Non-Null Count  Dtype  \n",
            "---  ------                    --------------  -----  \n",
            " 0   Movie_ID                  4760 non-null   int64  \n",
            " 1   Movie_Title               4760 non-null   object \n",
            " 2   Movie_Genre               4760 non-null   object \n",
            " 3   Movie_Language            4760 non-null   object \n",
            " 4   Movie_Budget              4760 non-null   int64  \n",
            " 5   Movie_Popularity          4760 non-null   float64\n",
            " 6   Movie_Release_Date        4760 non-null   object \n",
            " 7   Movie_Revenue             4760 non-null   int64  \n",
            " 8   Movie_Runtime             4758 non-null   float64\n",
            " 9   Movie_Vote                4760 non-null   float64\n",
            " 10  Movie_Vote_Count          4760 non-null   int64  \n",
            " 11  Movie_Homepage            1699 non-null   object \n",
            " 12  Movie_Keywords            4373 non-null   object \n",
            " 13  Movie_Overview            4757 non-null   object \n",
            " 14  Movie_Production_House    4760 non-null   object \n",
            " 15  Movie_Production_Country  4760 non-null   object \n",
            " 16  Movie_Spoken_Language     4760 non-null   object \n",
            " 17  Movie_Tagline             3942 non-null   object \n",
            " 18  Movie_Cast                4733 non-null   object \n",
            " 19  Movie_Crew                4760 non-null   object \n",
            " 20  Movie_Director            4738 non-null   object \n",
            "dtypes: float64(3), int64(4), object(14)\n",
            "memory usage: 781.1+ KB\n"
          ]
        }
      ]
    },
    {
      "cell_type": "code",
      "source": [
        "df.shape"
      ],
      "metadata": {
        "colab": {
          "base_uri": "https://localhost:8080/"
        },
        "id": "sI1TRGuzRsiL",
        "outputId": "6334b29b-533b-4f15-ef5d-bbc8e936edc8"
      },
      "execution_count": 6,
      "outputs": [
        {
          "output_type": "execute_result",
          "data": {
            "text/plain": [
              "(4760, 21)"
            ]
          },
          "metadata": {},
          "execution_count": 6
        }
      ]
    },
    {
      "cell_type": "code",
      "source": [
        "df.columns"
      ],
      "metadata": {
        "colab": {
          "base_uri": "https://localhost:8080/"
        },
        "id": "o1t0awLhRv8O",
        "outputId": "dd983179-f2f4-4add-de87-d0bfc0f9b5b3"
      },
      "execution_count": 7,
      "outputs": [
        {
          "output_type": "execute_result",
          "data": {
            "text/plain": [
              "Index(['Movie_ID', 'Movie_Title', 'Movie_Genre', 'Movie_Language',\n",
              "       'Movie_Budget', 'Movie_Popularity', 'Movie_Release_Date',\n",
              "       'Movie_Revenue', 'Movie_Runtime', 'Movie_Vote', 'Movie_Vote_Count',\n",
              "       'Movie_Homepage', 'Movie_Keywords', 'Movie_Overview',\n",
              "       'Movie_Production_House', 'Movie_Production_Country',\n",
              "       'Movie_Spoken_Language', 'Movie_Tagline', 'Movie_Cast', 'Movie_Crew',\n",
              "       'Movie_Director'],\n",
              "      dtype='object')"
            ]
          },
          "metadata": {},
          "execution_count": 7
        }
      ]
    },
    {
      "cell_type": "code",
      "source": [
        "df_features = df[['Movie_Genre','Movie_Keywords','Movie_Tagline','Movie_Cast','Movie_Director']].fillna('')"
      ],
      "metadata": {
        "id": "7Mh00oEsRy9r"
      },
      "execution_count": 8,
      "outputs": []
    },
    {
      "cell_type": "code",
      "source": [
        "df_features.shape"
      ],
      "metadata": {
        "colab": {
          "base_uri": "https://localhost:8080/"
        },
        "id": "RLsy5HzpR2DT",
        "outputId": "e8f7240e-e19b-40d5-f8a0-4425e0f4687b"
      },
      "execution_count": 9,
      "outputs": [
        {
          "output_type": "execute_result",
          "data": {
            "text/plain": [
              "(4760, 5)"
            ]
          },
          "metadata": {},
          "execution_count": 9
        }
      ]
    },
    {
      "cell_type": "code",
      "source": [
        "df_features"
      ],
      "metadata": {
        "colab": {
          "base_uri": "https://localhost:8080/",
          "height": 424
        },
        "id": "E1o4Ua42R6Vs",
        "outputId": "db3b8c96-13d4-4e27-c7ac-9200836b4bb9"
      },
      "execution_count": 10,
      "outputs": [
        {
          "output_type": "execute_result",
          "data": {
            "text/plain": [
              "                           Movie_Genre  \\\n",
              "0                         Crime Comedy   \n",
              "1     Adventure Action Science Fiction   \n",
              "2                     Animation Family   \n",
              "3                 Comedy Drama Romance   \n",
              "4                                Drama   \n",
              "...                                ...   \n",
              "4755                            Horror   \n",
              "4756               Comedy Family Drama   \n",
              "4757                    Thriller Drama   \n",
              "4758                            Family   \n",
              "4759                       Documentary   \n",
              "\n",
              "                                         Movie_Keywords  \\\n",
              "0             hotel new year's eve witch bet hotel room   \n",
              "1           android galaxy hermit death star lightsaber   \n",
              "2     father son relationship harbor underwater fish...   \n",
              "3     vietnam veteran hippie mentally disabled runni...   \n",
              "4     male nudity female nudity adultery midlife cri...   \n",
              "...                                                 ...   \n",
              "4755                                                      \n",
              "4756                                                      \n",
              "4757                     christian film sex trafficking   \n",
              "4758                                                      \n",
              "4759  music actors legendary perfomer classic hollyw...   \n",
              "\n",
              "                                          Movie_Tagline  \\\n",
              "0     Twelve outrageous guests. Four scandalous requ...   \n",
              "1          A long time ago in a galaxy far, far away...   \n",
              "2     There are 3.7 trillion fish in the ocean, they...   \n",
              "3     The world will never be the same, once you've ...   \n",
              "4                                          Look closer.   \n",
              "...                                                 ...   \n",
              "4755                The hot spot where Satan's waitin'.   \n",
              "4756           It’s better to stand out than to fit in.   \n",
              "4757           She never knew it could happen to her...   \n",
              "4758                                                      \n",
              "4759                                                      \n",
              "\n",
              "                                             Movie_Cast     Movie_Director  \n",
              "0     Tim Roth Antonio Banderas Jennifer Beals Madon...     Allison Anders  \n",
              "1     Mark Hamill Harrison Ford Carrie Fisher Peter ...       George Lucas  \n",
              "2     Albert Brooks Ellen DeGeneres Alexander Gould ...     Andrew Stanton  \n",
              "3     Tom Hanks Robin Wright Gary Sinise Mykelti Wil...    Robert Zemeckis  \n",
              "4     Kevin Spacey Annette Bening Thora Birch Wes Be...         Sam Mendes  \n",
              "...                                                 ...                ...  \n",
              "4755  Lisa Hart Carroll Michael Des Barres Paul Drak...         Pece Dingo  \n",
              "4756  Roni Akurati Brighton Sharbino Jason Lee Anjul...       Frank Lotito  \n",
              "4757  Nicole Smolen Kim Baldwin Ariana Stephens Brys...       Jaco Booyens  \n",
              "4758                                                                        \n",
              "4759                                    Tony Oppedisano  Simon Napier-Bell  \n",
              "\n",
              "[4760 rows x 5 columns]"
            ],
            "text/html": [
              "\n",
              "  <div id=\"df-c38c2b1c-2859-4443-a243-037e47eb036e\" class=\"colab-df-container\">\n",
              "    <div>\n",
              "<style scoped>\n",
              "    .dataframe tbody tr th:only-of-type {\n",
              "        vertical-align: middle;\n",
              "    }\n",
              "\n",
              "    .dataframe tbody tr th {\n",
              "        vertical-align: top;\n",
              "    }\n",
              "\n",
              "    .dataframe thead th {\n",
              "        text-align: right;\n",
              "    }\n",
              "</style>\n",
              "<table border=\"1\" class=\"dataframe\">\n",
              "  <thead>\n",
              "    <tr style=\"text-align: right;\">\n",
              "      <th></th>\n",
              "      <th>Movie_Genre</th>\n",
              "      <th>Movie_Keywords</th>\n",
              "      <th>Movie_Tagline</th>\n",
              "      <th>Movie_Cast</th>\n",
              "      <th>Movie_Director</th>\n",
              "    </tr>\n",
              "  </thead>\n",
              "  <tbody>\n",
              "    <tr>\n",
              "      <th>0</th>\n",
              "      <td>Crime Comedy</td>\n",
              "      <td>hotel new year's eve witch bet hotel room</td>\n",
              "      <td>Twelve outrageous guests. Four scandalous requ...</td>\n",
              "      <td>Tim Roth Antonio Banderas Jennifer Beals Madon...</td>\n",
              "      <td>Allison Anders</td>\n",
              "    </tr>\n",
              "    <tr>\n",
              "      <th>1</th>\n",
              "      <td>Adventure Action Science Fiction</td>\n",
              "      <td>android galaxy hermit death star lightsaber</td>\n",
              "      <td>A long time ago in a galaxy far, far away...</td>\n",
              "      <td>Mark Hamill Harrison Ford Carrie Fisher Peter ...</td>\n",
              "      <td>George Lucas</td>\n",
              "    </tr>\n",
              "    <tr>\n",
              "      <th>2</th>\n",
              "      <td>Animation Family</td>\n",
              "      <td>father son relationship harbor underwater fish...</td>\n",
              "      <td>There are 3.7 trillion fish in the ocean, they...</td>\n",
              "      <td>Albert Brooks Ellen DeGeneres Alexander Gould ...</td>\n",
              "      <td>Andrew Stanton</td>\n",
              "    </tr>\n",
              "    <tr>\n",
              "      <th>3</th>\n",
              "      <td>Comedy Drama Romance</td>\n",
              "      <td>vietnam veteran hippie mentally disabled runni...</td>\n",
              "      <td>The world will never be the same, once you've ...</td>\n",
              "      <td>Tom Hanks Robin Wright Gary Sinise Mykelti Wil...</td>\n",
              "      <td>Robert Zemeckis</td>\n",
              "    </tr>\n",
              "    <tr>\n",
              "      <th>4</th>\n",
              "      <td>Drama</td>\n",
              "      <td>male nudity female nudity adultery midlife cri...</td>\n",
              "      <td>Look closer.</td>\n",
              "      <td>Kevin Spacey Annette Bening Thora Birch Wes Be...</td>\n",
              "      <td>Sam Mendes</td>\n",
              "    </tr>\n",
              "    <tr>\n",
              "      <th>...</th>\n",
              "      <td>...</td>\n",
              "      <td>...</td>\n",
              "      <td>...</td>\n",
              "      <td>...</td>\n",
              "      <td>...</td>\n",
              "    </tr>\n",
              "    <tr>\n",
              "      <th>4755</th>\n",
              "      <td>Horror</td>\n",
              "      <td></td>\n",
              "      <td>The hot spot where Satan's waitin'.</td>\n",
              "      <td>Lisa Hart Carroll Michael Des Barres Paul Drak...</td>\n",
              "      <td>Pece Dingo</td>\n",
              "    </tr>\n",
              "    <tr>\n",
              "      <th>4756</th>\n",
              "      <td>Comedy Family Drama</td>\n",
              "      <td></td>\n",
              "      <td>It’s better to stand out than to fit in.</td>\n",
              "      <td>Roni Akurati Brighton Sharbino Jason Lee Anjul...</td>\n",
              "      <td>Frank Lotito</td>\n",
              "    </tr>\n",
              "    <tr>\n",
              "      <th>4757</th>\n",
              "      <td>Thriller Drama</td>\n",
              "      <td>christian film sex trafficking</td>\n",
              "      <td>She never knew it could happen to her...</td>\n",
              "      <td>Nicole Smolen Kim Baldwin Ariana Stephens Brys...</td>\n",
              "      <td>Jaco Booyens</td>\n",
              "    </tr>\n",
              "    <tr>\n",
              "      <th>4758</th>\n",
              "      <td>Family</td>\n",
              "      <td></td>\n",
              "      <td></td>\n",
              "      <td></td>\n",
              "      <td></td>\n",
              "    </tr>\n",
              "    <tr>\n",
              "      <th>4759</th>\n",
              "      <td>Documentary</td>\n",
              "      <td>music actors legendary perfomer classic hollyw...</td>\n",
              "      <td></td>\n",
              "      <td>Tony Oppedisano</td>\n",
              "      <td>Simon Napier-Bell</td>\n",
              "    </tr>\n",
              "  </tbody>\n",
              "</table>\n",
              "<p>4760 rows × 5 columns</p>\n",
              "</div>\n",
              "    <div class=\"colab-df-buttons\">\n",
              "\n",
              "  <div class=\"colab-df-container\">\n",
              "    <button class=\"colab-df-convert\" onclick=\"convertToInteractive('df-c38c2b1c-2859-4443-a243-037e47eb036e')\"\n",
              "            title=\"Convert this dataframe to an interactive table.\"\n",
              "            style=\"display:none;\">\n",
              "\n",
              "  <svg xmlns=\"http://www.w3.org/2000/svg\" height=\"24px\" viewBox=\"0 -960 960 960\">\n",
              "    <path d=\"M120-120v-720h720v720H120Zm60-500h600v-160H180v160Zm220 220h160v-160H400v160Zm0 220h160v-160H400v160ZM180-400h160v-160H180v160Zm440 0h160v-160H620v160ZM180-180h160v-160H180v160Zm440 0h160v-160H620v160Z\"/>\n",
              "  </svg>\n",
              "    </button>\n",
              "\n",
              "  <style>\n",
              "    .colab-df-container {\n",
              "      display:flex;\n",
              "      gap: 12px;\n",
              "    }\n",
              "\n",
              "    .colab-df-convert {\n",
              "      background-color: #E8F0FE;\n",
              "      border: none;\n",
              "      border-radius: 50%;\n",
              "      cursor: pointer;\n",
              "      display: none;\n",
              "      fill: #1967D2;\n",
              "      height: 32px;\n",
              "      padding: 0 0 0 0;\n",
              "      width: 32px;\n",
              "    }\n",
              "\n",
              "    .colab-df-convert:hover {\n",
              "      background-color: #E2EBFA;\n",
              "      box-shadow: 0px 1px 2px rgba(60, 64, 67, 0.3), 0px 1px 3px 1px rgba(60, 64, 67, 0.15);\n",
              "      fill: #174EA6;\n",
              "    }\n",
              "\n",
              "    .colab-df-buttons div {\n",
              "      margin-bottom: 4px;\n",
              "    }\n",
              "\n",
              "    [theme=dark] .colab-df-convert {\n",
              "      background-color: #3B4455;\n",
              "      fill: #D2E3FC;\n",
              "    }\n",
              "\n",
              "    [theme=dark] .colab-df-convert:hover {\n",
              "      background-color: #434B5C;\n",
              "      box-shadow: 0px 1px 3px 1px rgba(0, 0, 0, 0.15);\n",
              "      filter: drop-shadow(0px 1px 2px rgba(0, 0, 0, 0.3));\n",
              "      fill: #FFFFFF;\n",
              "    }\n",
              "  </style>\n",
              "\n",
              "    <script>\n",
              "      const buttonEl =\n",
              "        document.querySelector('#df-c38c2b1c-2859-4443-a243-037e47eb036e button.colab-df-convert');\n",
              "      buttonEl.style.display =\n",
              "        google.colab.kernel.accessAllowed ? 'block' : 'none';\n",
              "\n",
              "      async function convertToInteractive(key) {\n",
              "        const element = document.querySelector('#df-c38c2b1c-2859-4443-a243-037e47eb036e');\n",
              "        const dataTable =\n",
              "          await google.colab.kernel.invokeFunction('convertToInteractive',\n",
              "                                                    [key], {});\n",
              "        if (!dataTable) return;\n",
              "\n",
              "        const docLinkHtml = 'Like what you see? Visit the ' +\n",
              "          '<a target=\"_blank\" href=https://colab.research.google.com/notebooks/data_table.ipynb>data table notebook</a>'\n",
              "          + ' to learn more about interactive tables.';\n",
              "        element.innerHTML = '';\n",
              "        dataTable['output_type'] = 'display_data';\n",
              "        await google.colab.output.renderOutput(dataTable, element);\n",
              "        const docLink = document.createElement('div');\n",
              "        docLink.innerHTML = docLinkHtml;\n",
              "        element.appendChild(docLink);\n",
              "      }\n",
              "    </script>\n",
              "  </div>\n",
              "\n",
              "\n",
              "<div id=\"df-3c7411d3-adaa-4734-bccf-a930d8d5189b\">\n",
              "  <button class=\"colab-df-quickchart\" onclick=\"quickchart('df-3c7411d3-adaa-4734-bccf-a930d8d5189b')\"\n",
              "            title=\"Suggest charts\"\n",
              "            style=\"display:none;\">\n",
              "\n",
              "<svg xmlns=\"http://www.w3.org/2000/svg\" height=\"24px\"viewBox=\"0 0 24 24\"\n",
              "     width=\"24px\">\n",
              "    <g>\n",
              "        <path d=\"M19 3H5c-1.1 0-2 .9-2 2v14c0 1.1.9 2 2 2h14c1.1 0 2-.9 2-2V5c0-1.1-.9-2-2-2zM9 17H7v-7h2v7zm4 0h-2V7h2v10zm4 0h-2v-4h2v4z\"/>\n",
              "    </g>\n",
              "</svg>\n",
              "  </button>\n",
              "\n",
              "<style>\n",
              "  .colab-df-quickchart {\n",
              "      --bg-color: #E8F0FE;\n",
              "      --fill-color: #1967D2;\n",
              "      --hover-bg-color: #E2EBFA;\n",
              "      --hover-fill-color: #174EA6;\n",
              "      --disabled-fill-color: #AAA;\n",
              "      --disabled-bg-color: #DDD;\n",
              "  }\n",
              "\n",
              "  [theme=dark] .colab-df-quickchart {\n",
              "      --bg-color: #3B4455;\n",
              "      --fill-color: #D2E3FC;\n",
              "      --hover-bg-color: #434B5C;\n",
              "      --hover-fill-color: #FFFFFF;\n",
              "      --disabled-bg-color: #3B4455;\n",
              "      --disabled-fill-color: #666;\n",
              "  }\n",
              "\n",
              "  .colab-df-quickchart {\n",
              "    background-color: var(--bg-color);\n",
              "    border: none;\n",
              "    border-radius: 50%;\n",
              "    cursor: pointer;\n",
              "    display: none;\n",
              "    fill: var(--fill-color);\n",
              "    height: 32px;\n",
              "    padding: 0;\n",
              "    width: 32px;\n",
              "  }\n",
              "\n",
              "  .colab-df-quickchart:hover {\n",
              "    background-color: var(--hover-bg-color);\n",
              "    box-shadow: 0 1px 2px rgba(60, 64, 67, 0.3), 0 1px 3px 1px rgba(60, 64, 67, 0.15);\n",
              "    fill: var(--button-hover-fill-color);\n",
              "  }\n",
              "\n",
              "  .colab-df-quickchart-complete:disabled,\n",
              "  .colab-df-quickchart-complete:disabled:hover {\n",
              "    background-color: var(--disabled-bg-color);\n",
              "    fill: var(--disabled-fill-color);\n",
              "    box-shadow: none;\n",
              "  }\n",
              "\n",
              "  .colab-df-spinner {\n",
              "    border: 2px solid var(--fill-color);\n",
              "    border-color: transparent;\n",
              "    border-bottom-color: var(--fill-color);\n",
              "    animation:\n",
              "      spin 1s steps(1) infinite;\n",
              "  }\n",
              "\n",
              "  @keyframes spin {\n",
              "    0% {\n",
              "      border-color: transparent;\n",
              "      border-bottom-color: var(--fill-color);\n",
              "      border-left-color: var(--fill-color);\n",
              "    }\n",
              "    20% {\n",
              "      border-color: transparent;\n",
              "      border-left-color: var(--fill-color);\n",
              "      border-top-color: var(--fill-color);\n",
              "    }\n",
              "    30% {\n",
              "      border-color: transparent;\n",
              "      border-left-color: var(--fill-color);\n",
              "      border-top-color: var(--fill-color);\n",
              "      border-right-color: var(--fill-color);\n",
              "    }\n",
              "    40% {\n",
              "      border-color: transparent;\n",
              "      border-right-color: var(--fill-color);\n",
              "      border-top-color: var(--fill-color);\n",
              "    }\n",
              "    60% {\n",
              "      border-color: transparent;\n",
              "      border-right-color: var(--fill-color);\n",
              "    }\n",
              "    80% {\n",
              "      border-color: transparent;\n",
              "      border-right-color: var(--fill-color);\n",
              "      border-bottom-color: var(--fill-color);\n",
              "    }\n",
              "    90% {\n",
              "      border-color: transparent;\n",
              "      border-bottom-color: var(--fill-color);\n",
              "    }\n",
              "  }\n",
              "</style>\n",
              "\n",
              "  <script>\n",
              "    async function quickchart(key) {\n",
              "      const quickchartButtonEl =\n",
              "        document.querySelector('#' + key + ' button');\n",
              "      quickchartButtonEl.disabled = true;  // To prevent multiple clicks.\n",
              "      quickchartButtonEl.classList.add('colab-df-spinner');\n",
              "      try {\n",
              "        const charts = await google.colab.kernel.invokeFunction(\n",
              "            'suggestCharts', [key], {});\n",
              "      } catch (error) {\n",
              "        console.error('Error during call to suggestCharts:', error);\n",
              "      }\n",
              "      quickchartButtonEl.classList.remove('colab-df-spinner');\n",
              "      quickchartButtonEl.classList.add('colab-df-quickchart-complete');\n",
              "    }\n",
              "    (() => {\n",
              "      let quickchartButtonEl =\n",
              "        document.querySelector('#df-3c7411d3-adaa-4734-bccf-a930d8d5189b button');\n",
              "      quickchartButtonEl.style.display =\n",
              "        google.colab.kernel.accessAllowed ? 'block' : 'none';\n",
              "    })();\n",
              "  </script>\n",
              "</div>\n",
              "\n",
              "  <div id=\"id_8bd711ab-8aff-4924-97c1-8f591bf35f4e\">\n",
              "    <style>\n",
              "      .colab-df-generate {\n",
              "        background-color: #E8F0FE;\n",
              "        border: none;\n",
              "        border-radius: 50%;\n",
              "        cursor: pointer;\n",
              "        display: none;\n",
              "        fill: #1967D2;\n",
              "        height: 32px;\n",
              "        padding: 0 0 0 0;\n",
              "        width: 32px;\n",
              "      }\n",
              "\n",
              "      .colab-df-generate:hover {\n",
              "        background-color: #E2EBFA;\n",
              "        box-shadow: 0px 1px 2px rgba(60, 64, 67, 0.3), 0px 1px 3px 1px rgba(60, 64, 67, 0.15);\n",
              "        fill: #174EA6;\n",
              "      }\n",
              "\n",
              "      [theme=dark] .colab-df-generate {\n",
              "        background-color: #3B4455;\n",
              "        fill: #D2E3FC;\n",
              "      }\n",
              "\n",
              "      [theme=dark] .colab-df-generate:hover {\n",
              "        background-color: #434B5C;\n",
              "        box-shadow: 0px 1px 3px 1px rgba(0, 0, 0, 0.15);\n",
              "        filter: drop-shadow(0px 1px 2px rgba(0, 0, 0, 0.3));\n",
              "        fill: #FFFFFF;\n",
              "      }\n",
              "    </style>\n",
              "    <button class=\"colab-df-generate\" onclick=\"generateWithVariable('df_features')\"\n",
              "            title=\"Generate code using this dataframe.\"\n",
              "            style=\"display:none;\">\n",
              "\n",
              "  <svg xmlns=\"http://www.w3.org/2000/svg\" height=\"24px\"viewBox=\"0 0 24 24\"\n",
              "       width=\"24px\">\n",
              "    <path d=\"M7,19H8.4L18.45,9,17,7.55,7,17.6ZM5,21V16.75L18.45,3.32a2,2,0,0,1,2.83,0l1.4,1.43a1.91,1.91,0,0,1,.58,1.4,1.91,1.91,0,0,1-.58,1.4L9.25,21ZM18.45,9,17,7.55Zm-12,3A5.31,5.31,0,0,0,4.9,8.1,5.31,5.31,0,0,0,1,6.5,5.31,5.31,0,0,0,4.9,4.9,5.31,5.31,0,0,0,6.5,1,5.31,5.31,0,0,0,8.1,4.9,5.31,5.31,0,0,0,12,6.5,5.46,5.46,0,0,0,6.5,12Z\"/>\n",
              "  </svg>\n",
              "    </button>\n",
              "    <script>\n",
              "      (() => {\n",
              "      const buttonEl =\n",
              "        document.querySelector('#id_8bd711ab-8aff-4924-97c1-8f591bf35f4e button.colab-df-generate');\n",
              "      buttonEl.style.display =\n",
              "        google.colab.kernel.accessAllowed ? 'block' : 'none';\n",
              "\n",
              "      buttonEl.onclick = () => {\n",
              "        google.colab.notebook.generateWithVariable('df_features');\n",
              "      }\n",
              "      })();\n",
              "    </script>\n",
              "  </div>\n",
              "\n",
              "    </div>\n",
              "  </div>\n"
            ],
            "application/vnd.google.colaboratory.intrinsic+json": {
              "type": "dataframe",
              "variable_name": "df_features",
              "summary": "{\n  \"name\": \"df_features\",\n  \"rows\": 4760,\n  \"fields\": [\n    {\n      \"column\": \"Movie_Genre\",\n      \"properties\": {\n        \"dtype\": \"category\",\n        \"num_unique_values\": 1164,\n        \"samples\": [\n          \"Family Animation Adventure\",\n          \"Adventure Science Fiction Action\",\n          \"Action Crime Drama Romance Thriller\"\n        ],\n        \"semantic_type\": \"\",\n        \"description\": \"\"\n      }\n    },\n    {\n      \"column\": \"Movie_Keywords\",\n      \"properties\": {\n        \"dtype\": \"string\",\n        \"num_unique_values\": 4203,\n        \"samples\": [\n          \"canada nazis sequel spin off ancient evil\",\n          \"sex professor wedding woman director columbia university\",\n          \"prophecy sea beach gold small town\"\n        ],\n        \"semantic_type\": \"\",\n        \"description\": \"\"\n      }\n    },\n    {\n      \"column\": \"Movie_Tagline\",\n      \"properties\": {\n        \"dtype\": \"string\",\n        \"num_unique_values\": 3928,\n        \"samples\": [\n          \"The messenger must be silenced.\",\n          \"It's not the house that's haunted.\",\n          \"The final hunt begins.\"\n        ],\n        \"semantic_type\": \"\",\n        \"description\": \"\"\n      }\n    },\n    {\n      \"column\": \"Movie_Cast\",\n      \"properties\": {\n        \"dtype\": \"string\",\n        \"num_unique_values\": 4715,\n        \"samples\": [\n          \"Robin Tunney Fairuza Balk Neve Campbell Rachel True Skeet Ulrich\",\n          \"Peter Sellers Christopher Plummer Herbert Lom Catherine Schell Peter Arne\",\n          \"John Wayne Laraine Day Cedric Hardwicke Judith Anderson Anthony Quinn\"\n        ],\n        \"semantic_type\": \"\",\n        \"description\": \"\"\n      }\n    },\n    {\n      \"column\": \"Movie_Director\",\n      \"properties\": {\n        \"dtype\": \"category\",\n        \"num_unique_values\": 2332,\n        \"samples\": [\n          \"Rob McKittrick\",\n          \"Terron R. Parsons\",\n          \"Cyrus Nowrasteh\"\n        ],\n        \"semantic_type\": \"\",\n        \"description\": \"\"\n      }\n    }\n  ]\n}"
            }
          },
          "metadata": {},
          "execution_count": 10
        }
      ]
    },
    {
      "cell_type": "code",
      "source": [
        "x = df_features['Movie_Genre']+''+ df_features['Movie_Keywords']+''+ df_features['Movie_Tagline']+''+ df_features['Movie_Cast']+''+ df_features['Movie_Director']+''"
      ],
      "metadata": {
        "id": "-qDg_UU1R8m8"
      },
      "execution_count": 11,
      "outputs": []
    },
    {
      "cell_type": "code",
      "source": [
        "x"
      ],
      "metadata": {
        "colab": {
          "base_uri": "https://localhost:8080/",
          "height": 458
        },
        "id": "6f0SpHXLR_z_",
        "outputId": "a6475f8d-d5fb-43a3-97ba-b21b33a848c2"
      },
      "execution_count": 12,
      "outputs": [
        {
          "output_type": "execute_result",
          "data": {
            "text/plain": [
              "0       Crime Comedyhotel new year's eve witch bet hot...\n",
              "1       Adventure Action Science Fictionandroid galaxy...\n",
              "2       Animation Familyfather son relationship harbor...\n",
              "3       Comedy Drama Romancevietnam veteran hippie men...\n",
              "4       Dramamale nudity female nudity adultery midlif...\n",
              "                              ...                        \n",
              "4755    HorrorThe hot spot where Satan's waitin'.Lisa ...\n",
              "4756    Comedy Family DramaIt’s better to stand out th...\n",
              "4757    Thriller Dramachristian film sex traffickingSh...\n",
              "4758                                               Family\n",
              "4759    Documentarymusic actors legendary perfomer cla...\n",
              "Length: 4760, dtype: object"
            ],
            "text/html": [
              "<div>\n",
              "<style scoped>\n",
              "    .dataframe tbody tr th:only-of-type {\n",
              "        vertical-align: middle;\n",
              "    }\n",
              "\n",
              "    .dataframe tbody tr th {\n",
              "        vertical-align: top;\n",
              "    }\n",
              "\n",
              "    .dataframe thead th {\n",
              "        text-align: right;\n",
              "    }\n",
              "</style>\n",
              "<table border=\"1\" class=\"dataframe\">\n",
              "  <thead>\n",
              "    <tr style=\"text-align: right;\">\n",
              "      <th></th>\n",
              "      <th>0</th>\n",
              "    </tr>\n",
              "  </thead>\n",
              "  <tbody>\n",
              "    <tr>\n",
              "      <th>0</th>\n",
              "      <td>Crime Comedyhotel new year's eve witch bet hot...</td>\n",
              "    </tr>\n",
              "    <tr>\n",
              "      <th>1</th>\n",
              "      <td>Adventure Action Science Fictionandroid galaxy...</td>\n",
              "    </tr>\n",
              "    <tr>\n",
              "      <th>2</th>\n",
              "      <td>Animation Familyfather son relationship harbor...</td>\n",
              "    </tr>\n",
              "    <tr>\n",
              "      <th>3</th>\n",
              "      <td>Comedy Drama Romancevietnam veteran hippie men...</td>\n",
              "    </tr>\n",
              "    <tr>\n",
              "      <th>4</th>\n",
              "      <td>Dramamale nudity female nudity adultery midlif...</td>\n",
              "    </tr>\n",
              "    <tr>\n",
              "      <th>...</th>\n",
              "      <td>...</td>\n",
              "    </tr>\n",
              "    <tr>\n",
              "      <th>4755</th>\n",
              "      <td>HorrorThe hot spot where Satan's waitin'.Lisa ...</td>\n",
              "    </tr>\n",
              "    <tr>\n",
              "      <th>4756</th>\n",
              "      <td>Comedy Family DramaIt’s better to stand out th...</td>\n",
              "    </tr>\n",
              "    <tr>\n",
              "      <th>4757</th>\n",
              "      <td>Thriller Dramachristian film sex traffickingSh...</td>\n",
              "    </tr>\n",
              "    <tr>\n",
              "      <th>4758</th>\n",
              "      <td>Family</td>\n",
              "    </tr>\n",
              "    <tr>\n",
              "      <th>4759</th>\n",
              "      <td>Documentarymusic actors legendary perfomer cla...</td>\n",
              "    </tr>\n",
              "  </tbody>\n",
              "</table>\n",
              "<p>4760 rows × 1 columns</p>\n",
              "</div><br><label><b>dtype:</b> object</label>"
            ]
          },
          "metadata": {},
          "execution_count": 12
        }
      ]
    },
    {
      "cell_type": "code",
      "source": [
        "x.shape"
      ],
      "metadata": {
        "colab": {
          "base_uri": "https://localhost:8080/"
        },
        "id": "YpqIoqwfSCaC",
        "outputId": "555fb1eb-9d80-434b-c2be-5b54c898ed19"
      },
      "execution_count": 13,
      "outputs": [
        {
          "output_type": "execute_result",
          "data": {
            "text/plain": [
              "(4760,)"
            ]
          },
          "metadata": {},
          "execution_count": 13
        }
      ]
    },
    {
      "cell_type": "code",
      "source": [
        "from sklearn.feature_extraction.text import TfidfVectorizer"
      ],
      "metadata": {
        "id": "JIq0cGSqSFtd"
      },
      "execution_count": 14,
      "outputs": []
    },
    {
      "cell_type": "code",
      "source": [
        "Tfidf = TfidfVectorizer()"
      ],
      "metadata": {
        "id": "GXFTD7XPSIbf"
      },
      "execution_count": 15,
      "outputs": []
    },
    {
      "cell_type": "code",
      "source": [
        "x = Tfidf.fit_transform(x)"
      ],
      "metadata": {
        "id": "XTYzaYruSIma"
      },
      "execution_count": 16,
      "outputs": []
    },
    {
      "cell_type": "code",
      "source": [
        "x.shape"
      ],
      "metadata": {
        "colab": {
          "base_uri": "https://localhost:8080/"
        },
        "id": "B40i8bXFSQY_",
        "outputId": "73af5d4d-f2bf-4724-e397-f0a53b83ca72"
      },
      "execution_count": 17,
      "outputs": [
        {
          "output_type": "execute_result",
          "data": {
            "text/plain": [
              "(4760, 27466)"
            ]
          },
          "metadata": {},
          "execution_count": 17
        }
      ]
    },
    {
      "cell_type": "code",
      "source": [
        "print(x)"
      ],
      "metadata": {
        "colab": {
          "base_uri": "https://localhost:8080/"
        },
        "id": "bMt3_RIFSTPx",
        "outputId": "5562dec2-8209-4ddc-af73-0067a7b795eb"
      },
      "execution_count": 18,
      "outputs": [
        {
          "output_type": "stream",
          "name": "stdout",
          "text": [
            "  (0, 5553)\t0.07352252655701756\n",
            "  (0, 4842)\t0.175053052455033\n",
            "  (0, 17725)\t0.19515517646728336\n",
            "  (0, 27198)\t0.2597527006839562\n",
            "  (0, 8412)\t0.30116325256269705\n",
            "  (0, 26906)\t0.14779363579183874\n",
            "  (0, 2421)\t0.1645837911577698\n",
            "  (0, 12418)\t0.1351418753960437\n",
            "  (0, 21107)\t0.1954632929283795\n",
            "  (0, 18350)\t0.1864316176399999\n",
            "  (0, 11084)\t0.1864316176399999\n",
            "  (0, 9905)\t0.14914404027246494\n",
            "  (0, 21613)\t0.1954632929283795\n",
            "  (0, 20254)\t0.1954632929283795\n",
            "  (0, 1025)\t0.07583312551941795\n",
            "  (0, 18196)\t0.08579029869987485\n",
            "  (0, 15172)\t0.1537691763994982\n",
            "  (0, 2292)\t0.1954632929283795\n",
            "  (0, 12801)\t0.1530338818199682\n",
            "  (0, 11960)\t0.20134029899961134\n",
            "  (0, 9626)\t0.11757910435818826\n",
            "  (0, 6172)\t0.11970212451073885\n",
            "  (0, 18192)\t0.07278761942152372\n",
            "  (0, 24105)\t0.10726395493180996\n",
            "  (0, 13401)\t0.13748876529263096\n",
            "  :\t:\n",
            "  (4757, 17789)\t0.18881341937258544\n",
            "  (4757, 22017)\t0.1646400247918531\n",
            "  (4757, 11350)\t0.21582294886514122\n",
            "  (4757, 5410)\t0.19734759150400596\n",
            "  (4757, 1839)\t0.19327629083107672\n",
            "  (4757, 23178)\t0.25562985703864616\n",
            "  (4757, 7244)\t0.25562985703864616\n",
            "  (4757, 24915)\t0.28543491773969387\n",
            "  (4757, 22633)\t0.28543491773969387\n",
            "  (4757, 1328)\t0.28543491773969387\n",
            "  (4757, 3295)\t0.28543491773969387\n",
            "  (4757, 10137)\t0.28543491773969387\n",
            "  (4757, 2866)\t0.28543491773969387\n",
            "  (4758, 8651)\t1.0\n",
            "  (4759, 2285)\t0.21465229435984196\n",
            "  (4759, 9955)\t0.21805075638656476\n",
            "  (4759, 17552)\t0.3087899934962816\n",
            "  (4759, 4446)\t0.282306565154911\n",
            "  (4759, 12139)\t0.2778063685558062\n",
            "  (4759, 14742)\t0.31978160936741457\n",
            "  (4759, 345)\t0.31978160936741457\n",
            "  (4759, 6950)\t0.33527342183765224\n",
            "  (4759, 18841)\t0.33527342183765224\n",
            "  (4759, 22434)\t0.33527342183765224\n",
            "  (4759, 18229)\t0.33527342183765224\n"
          ]
        }
      ]
    },
    {
      "cell_type": "code",
      "source": [
        "from sklearn.metrics.pairwise import cosine_similarity"
      ],
      "metadata": {
        "id": "37urve29SXBe"
      },
      "execution_count": 19,
      "outputs": []
    },
    {
      "cell_type": "code",
      "source": [
        "similarity_score = cosine_similarity(x)"
      ],
      "metadata": {
        "id": "y9zklfceSami"
      },
      "execution_count": 20,
      "outputs": []
    },
    {
      "cell_type": "code",
      "source": [
        "similarity_score"
      ],
      "metadata": {
        "colab": {
          "base_uri": "https://localhost:8080/"
        },
        "id": "yUgttQQVSeG-",
        "outputId": "76db38e8-e9b4-48ab-a5af-1e670204b28f"
      },
      "execution_count": 21,
      "outputs": [
        {
          "output_type": "execute_result",
          "data": {
            "text/plain": [
              "array([[1.        , 0.01438634, 0.03807033, ..., 0.        , 0.        ,\n",
              "        0.        ],\n",
              "       [0.01438634, 1.        , 0.00844858, ..., 0.        , 0.        ,\n",
              "        0.        ],\n",
              "       [0.03807033, 0.00844858, 1.        , ..., 0.        , 0.        ,\n",
              "        0.        ],\n",
              "       ...,\n",
              "       [0.        , 0.        , 0.        , ..., 1.        , 0.        ,\n",
              "        0.        ],\n",
              "       [0.        , 0.        , 0.        , ..., 0.        , 1.        ,\n",
              "        0.        ],\n",
              "       [0.        , 0.        , 0.        , ..., 0.        , 0.        ,\n",
              "        1.        ]])"
            ]
          },
          "metadata": {},
          "execution_count": 21
        }
      ]
    },
    {
      "cell_type": "code",
      "source": [
        "similarity_score.shape"
      ],
      "metadata": {
        "colab": {
          "base_uri": "https://localhost:8080/"
        },
        "id": "aPIJ4NVYShVj",
        "outputId": "b66ed75a-915e-49c9-83f5-6ebdd770ec7d"
      },
      "execution_count": 22,
      "outputs": [
        {
          "output_type": "execute_result",
          "data": {
            "text/plain": [
              "(4760, 4760)"
            ]
          },
          "metadata": {},
          "execution_count": 22
        }
      ]
    },
    {
      "cell_type": "code",
      "source": [
        "Favourite_Movie_Name = input('Enter your favourite movie name: ')"
      ],
      "metadata": {
        "colab": {
          "base_uri": "https://localhost:8080/"
        },
        "id": "ObwM9j0SSkeW",
        "outputId": "8e384dbf-291f-41d5-e366-786f84a13500"
      },
      "execution_count": 23,
      "outputs": [
        {
          "name": "stdout",
          "output_type": "stream",
          "text": [
            "Enter your favourite movie name: avtaar\n"
          ]
        }
      ]
    },
    {
      "cell_type": "code",
      "source": [
        "All_Movies_Title_List = df['Movie_Title'].tolist()"
      ],
      "metadata": {
        "id": "WPBYC8dVS8hR"
      },
      "execution_count": 24,
      "outputs": []
    },
    {
      "cell_type": "code",
      "source": [
        "import difflib"
      ],
      "metadata": {
        "id": "2itdf8hGTmqk"
      },
      "execution_count": 25,
      "outputs": []
    },
    {
      "cell_type": "code",
      "source": [
        "Movie_Recommendation = difflib.get_close_matches(Favourite_Movie_Name,All_Movies_Title_List)\n",
        "print(Movie_Recommendation)"
      ],
      "metadata": {
        "colab": {
          "base_uri": "https://localhost:8080/"
        },
        "id": "_6QLvNvwTv1R",
        "outputId": "8caf416a-e456-445c-d540-72c488c3d95a"
      },
      "execution_count": 26,
      "outputs": [
        {
          "output_type": "stream",
          "name": "stdout",
          "text": [
            "['Avatar', 'Gattaca']\n"
          ]
        }
      ]
    },
    {
      "cell_type": "code",
      "source": [
        "Close_Match = Movie_Recommendation[0]\n",
        "print(Close_Match)"
      ],
      "metadata": {
        "colab": {
          "base_uri": "https://localhost:8080/"
        },
        "id": "ZOfaQF0-T3Y_",
        "outputId": "fdc7c8c1-d91a-4176-c212-3ffcd4602cf7"
      },
      "execution_count": 27,
      "outputs": [
        {
          "output_type": "stream",
          "name": "stdout",
          "text": [
            "Avatar\n"
          ]
        }
      ]
    },
    {
      "cell_type": "code",
      "source": [
        "Index_of_Close_Match_Movie = df[df.Movie_Title == Close_Match]['Movie_ID'].values[0]\n",
        "print(Index_of_Close_Match_Movie)"
      ],
      "metadata": {
        "colab": {
          "base_uri": "https://localhost:8080/"
        },
        "id": "XS1H98YhT63b",
        "outputId": "3ec0b759-e739-4122-aacb-02ed66563240"
      },
      "execution_count": 28,
      "outputs": [
        {
          "output_type": "stream",
          "name": "stdout",
          "text": [
            "2692\n"
          ]
        }
      ]
    },
    {
      "cell_type": "code",
      "source": [
        "# getting a list of similar movies\n",
        "Recommendation_Score = list(enumerate(similarity_score[Index_of_Close_Match_Movie]))\n",
        "print(Recommendation_Score)"
      ],
      "metadata": {
        "colab": {
          "base_uri": "https://localhost:8080/"
        },
        "id": "371e-6-XT_mx",
        "outputId": "81851630-c209-4410-b3e6-65778c758073"
      },
      "execution_count": 29,
      "outputs": [
        {
          "output_type": "stream",
          "name": "stdout",
          "text": [
            "[(0, 0.011030833064862303), (1, 0.0), (2, 0.0), (3, 0.008556266387176357), (4, 0.0), (5, 0.012499153688449184), (6, 0.0), (7, 0.014064418289266698), (8, 0.004073868046412163), (9, 0.005893715712413232), (10, 0.0), (11, 0.0038744350042877254), (12, 0.004103246860382845), (13, 0.013219405087101963), (14, 0.0), (15, 0.02271065092657263), (16, 0.00323920825233975), (17, 0.0), (18, 0.0034819594616662805), (19, 0.009946079752603336), (20, 0.0), (21, 0.014143738774611671), (22, 0.006154963368437306), (23, 0.003877990808082296), (24, 0.0), (25, 0.028059141501387462), (26, 0.0), (27, 0.0), (28, 0.0), (29, 0.009680447771487346), (30, 0.0), (31, 0.003515224093396232), (32, 0.009257022828857226), (33, 0.019113111052402675), (34, 0.0039382031226651935), (35, 0.005810871872628744), (36, 0.0), (37, 0.0), (38, 0.0), (39, 0.0), (40, 0.007026839741904725), (41, 0.004018772525455649), (42, 0.0), (43, 0.01339219050587919), (44, 0.036213370247967884), (45, 0.046890551121866526), (46, 0.013921583304188589), (47, 0.0), (48, 0.013813956207629364), (49, 0.0), (50, 0.0), (51, 0.01300265411990091), (52, 0.01186505772679206), (53, 0.0), (54, 0.0), (55, 0.0), (56, 0.006360520624700797), (57, 0.01057398085186226), (58, 0.0), (59, 0.0), (60, 0.008666795147761525), (61, 0.01800489296664041), (62, 0.06877126058304428), (63, 0.008450299024233674), (64, 0.0), (65, 0.031578728530921876), (66, 0.0), (67, 0.04062406884638547), (68, 0.02266206525062858), (69, 0.0), (70, 0.0), (71, 0.0037977356354650968), (72, 0.0), (73, 0.0), (74, 0.00395469790349282), (75, 0.013226433991358253), (76, 0.0), (77, 0.0), (78, 0.005308041561391281), (79, 0.009793697093190779), (80, 0.0), (81, 0.0), (82, 0.009891659509105427), (83, 0.015264580033105274), (84, 0.025332709598550513), (85, 0.018140025805589998), (86, 0.012943737725065432), (87, 0.012718767781911278), (88, 0.012415477794410202), (89, 0.037607391448293045), (90, 0.0), (91, 0.0), (92, 0.0034743201912726066), (93, 0.0), (94, 0.0), (95, 0.0), (96, 0.0035092595730166457), (97, 0.003255704095665302), (98, 0.0), (99, 0.0), (100, 0.0), (101, 0.0), (102, 0.0), (103, 0.0033914792908233196), (104, 0.009829886192158875), (105, 0.008714622365753264), (106, 0.016807391435630294), (107, 0.004183291225760562), (108, 0.03660943163889683), (109, 0.02453044653849549), (110, 0.08195740486074782), (111, 0.0034760839688809256), (112, 0.02685844526416762), (113, 0.008222839981141181), (114, 0.0036608606802512886), (115, 0.0), (116, 0.0203135608278819), (117, 0.0), (118, 0.0), (119, 0.009624580090449544), (120, 0.013436120369739566), (121, 0.003481474952508777), (122, 0.00801628006935803), (123, 0.018661941356170098), (124, 0.022924907403512263), (125, 0.007550162765712659), (126, 0.03260997835259098), (127, 0.003574015775535735), (128, 0.0), (129, 0.002630542380460003), (130, 0.011232917832644398), (131, 0.006516361421348343), (132, 0.003533811810041309), (133, 0.0), (134, 0.0), (135, 0.0), (136, 0.0034169156440037045), (137, 0.049552951106454086), (138, 0.022571466223490343), (139, 0.0), (140, 0.0), (141, 0.0), (142, 0.008412825796129569), (143, 0.0), (144, 0.014505497258134915), (145, 0.017428675510470844), (146, 0.0), (147, 0.016761296337096825), (148, 0.007930849004450949), (149, 0.011278788994365293), (150, 0.0), (151, 0.0), (152, 0.0), (153, 0.0), (154, 0.0), (155, 0.0046876627474438355), (156, 0.008130352981790144), (157, 0.0), (158, 0.0), (159, 0.00505835463370556), (160, 0.013669601592204473), (161, 0.04299512728494489), (162, 0.009472782166328289), (163, 0.0), (164, 0.006072261003831069), (165, 0.003235992440952877), (166, 0.032673633570285035), (167, 0.0), (168, 0.0050176844960099325), (169, 0.0038026073102590463), (170, 0.008212411862992972), (171, 0.0), (172, 0.04098833552721158), (173, 0.01023565749564271), (174, 0.034314918816637265), (175, 0.02053300245341473), (176, 0.027175328259604753), (177, 0.005323932447861261), (178, 0.003898147340154244), (179, 0.030858620723447423), (180, 0.009465442543840063), (181, 0.01744574453448987), (182, 0.006281191547593625), (183, 0.009111549357113667), (184, 0.003392951330185178), (185, 0.039744965621600736), (186, 0.0), (187, 0.0), (188, 0.0), (189, 0.0), (190, 0.0032285669869116006), (191, 0.0), (192, 0.003909751707564704), (193, 0.02817501941340443), (194, 0.0032721312973549273), (195, 0.003195700142896886), (196, 0.0), (197, 0.009628783959843065), (198, 0.003744072807223909), (199, 0.017042825242863106), (200, 0.003459215079436364), (201, 0.009173687817643073), (202, 0.002452654024505966), (203, 0.014200108613688917), (204, 0.01939630529843217), (205, 0.0), (206, 0.004018047158382346), (207, 0.009876667254712061), (208, 0.011109554342889107), (209, 0.015758398001600192), (210, 0.0391409809773798), (211, 0.0), (212, 0.0), (213, 0.04737383351338188), (214, 0.0), (215, 0.0035576449563773653), (216, 0.0038539414968706423), (217, 0.0), (218, 0.01722790250497939), (219, 0.0), (220, 0.0), (221, 0.00357520041156839), (222, 0.01433574850414026), (223, 0.0), (224, 0.009833351194148155), (225, 0.0), (226, 0.0), (227, 0.05264968200145985), (228, 0.0028448620728628153), (229, 0.0), (230, 0.006033721816799256), (231, 0.012859412564061543), (232, 0.006593921088203634), (233, 0.0), (234, 0.0), (235, 0.0), (236, 0.011748931273435273), (237, 0.0), (238, 0.0037735499266449966), (239, 0.0), (240, 0.023896653257442113), (241, 0.0), (242, 0.008785649890321136), (243, 0.007095822136006831), (244, 0.00901179056982185), (245, 0.0), (246, 0.0), (247, 0.0), (248, 0.005925427367671947), (249, 0.0), (250, 0.025671125642918), (251, 0.016589847669407163), (252, 0.015123476086782404), (253, 0.0), (254, 0.061965829647199884), (255, 0.0039040337681435127), (256, 0.00297006619224765), (257, 0.0), (258, 0.0), (259, 0.0), (260, 0.0), (261, 0.01728407456945424), (262, 0.0), (263, 0.005983694769291916), (264, 0.0), (265, 0.0), (266, 0.007687352938714006), (267, 0.003326249939646005), (268, 0.0), (269, 0.024648836109458276), (270, 0.012652810364268897), (271, 0.007906651382996935), (272, 0.0), (273, 0.0061623988613518), (274, 0.004213351927081419), (275, 0.0), (276, 0.011903387893325488), (277, 0.0054265141901217815), (278, 0.0), (279, 0.0), (280, 0.01005628187630405), (281, 0.010010425921262304), (282, 0.027046874873784744), (283, 0.007115362995892679), (284, 0.02375202505468913), (285, 0.007957860541728883), (286, 0.003372489655812492), (287, 0.014460928955376057), (288, 0.005277087279318339), (289, 0.0), (290, 0.0), (291, 0.0), (292, 0.050163024296716804), (293, 0.0), (294, 0.0), (295, 0.0), (296, 0.01272696046976489), (297, 0.0), (298, 0.0), (299, 0.0), (300, 0.005955194815963848), (301, 0.0064831626775899995), (302, 0.0), (303, 0.0), (304, 0.0), (305, 0.0), (306, 0.0), (307, 0.00917610295665701), (308, 0.0), (309, 0.00811693456675516), (310, 0.0), (311, 0.0), (312, 0.0), (313, 0.006364061615090337), (314, 0.0), (315, 0.0), (316, 0.0), (317, 0.011108212593763942), (318, 0.004031707272954909), (319, 0.0), (320, 0.0), (321, 0.006156772667539889), (322, 0.006154155639590199), (323, 0.0), (324, 0.0), (325, 0.003551013481231663), (326, 0.004509531071415281), (327, 0.005688884029845159), (328, 0.04480472795993682), (329, 0.011993583837178055), (330, 0.020131929032753404), (331, 0.0), (332, 0.009511029320073175), (333, 0.007778637984921778), (334, 0.020925617642175248), (335, 0.0), (336, 0.004662310031327448), (337, 0.0), (338, 0.0), (339, 0.0), (340, 0.006777016372290377), (341, 0.006738782862458076), (342, 0.010655859466779119), (343, 0.015767544239570004), (344, 0.0), (345, 0.016633298200576716), (346, 0.006174624184713735), (347, 0.0), (348, 0.003653648332072435), (349, 0.0036210412242481814), (350, 0.004078142786008543), (351, 0.0029621661194130264), (352, 0.0), (353, 0.009918720357672066), (354, 0.005746380737848924), (355, 0.0034897970083911495), (356, 0.009464553882018242), (357, 0.0033249957047303833), (358, 0.01569891896451261), (359, 0.0034825036548198746), (360, 0.008792989390460915), (361, 0.0), (362, 0.0), (363, 0.0066356722068611936), (364, 0.019145482928018306), (365, 0.0), (366, 0.0), (367, 0.0), (368, 0.010105073419505521), (369, 0.0068346519861507546), (370, 0.01241093041308338), (371, 0.022957596860234526), (372, 0.0035050538730487697), (373, 0.0036039415925399744), (374, 0.0157411773681761), (375, 0.0), (376, 0.0), (377, 0.0), (378, 0.0), (379, 0.0), (380, 0.0), (381, 0.026277174528693624), (382, 0.0), (383, 0.02169711981717913), (384, 0.027729495428457863), (385, 0.009697860761931649), (386, 0.006826523344417922), (387, 0.03637931174408888), (388, 0.0035427715494642776), (389, 0.0), (390, 0.0), (391, 0.0), (392, 0.0), (393, 0.0), (394, 0.0), (395, 0.0), (396, 0.008538302223078727), (397, 0.0), (398, 0.023601173359146382), (399, 0.0), (400, 0.003668238756333899), (401, 0.0), (402, 0.007431236549668564), (403, 0.008658039661083208), (404, 0.0), (405, 0.0), (406, 0.010091241397990624), (407, 0.013010338454898398), (408, 0.04605345269090999), (409, 0.0167571316284367), (410, 0.003368779790754775), (411, 0.0), (412, 0.04158177581722731), (413, 0.00646006985155423), (414, 0.0047166149171640375), (415, 0.0), (416, 0.0033880815217616654), (417, 0.0), (418, 0.009295128205807203), (419, 0.0043219395510782485), (420, 0.0), (421, 0.02904905510898707), (422, 0.0), (423, 0.0), (424, 0.02641652035274678), (425, 0.0), (426, 0.0), (427, 0.0), (428, 0.009138200469818582), (429, 0.013133359284342899), (430, 0.030234958178933218), (431, 0.004253731224117698), (432, 0.0), (433, 0.013240242583328588), (434, 0.011732983373727118), (435, 0.007134994014550277), (436, 0.004367638607825826), (437, 0.016163855437143635), (438, 0.040117770359875335), (439, 0.0), (440, 0.0), (441, 0.008451965201581278), (442, 0.018131110471171975), (443, 0.004173485641770981), (444, 0.0), (445, 0.0054930588187041), (446, 0.006213018848706032), (447, 0.008838647950200146), (448, 0.00438761079971699), (449, 0.005888928591764765), (450, 0.013355373147177363), (451, 0.0), (452, 0.01246640989768695), (453, 0.0030370313465163724), (454, 0.0), (455, 0.02128955139463924), (456, 0.003947551770055118), (457, 0.0033692576948616665), (458, 0.014178106952497136), (459, 0.026446032923904284), (460, 0.0), (461, 0.010028397266772427), (462, 0.0), (463, 0.008984959984842516), (464, 0.010095774430494817), (465, 0.028726103031691257), (466, 0.0), (467, 0.0), (468, 0.005812107528425204), (469, 0.0), (470, 0.010513126076556478), (471, 0.0035477479248976285), (472, 0.010534769725268383), (473, 0.0), (474, 0.0), (475, 0.0035987768509329818), (476, 0.0), (477, 0.005108906710807928), (478, 0.0), (479, 0.044137282040169284), (480, 0.0032793846358005183), (481, 0.0040380960492236405), (482, 0.010482824276952404), (483, 0.008967683385060527), (484, 0.0), (485, 0.009421709875664772), (486, 0.0), (487, 0.0), (488, 0.0035627522404169405), (489, 0.0), (490, 0.0036881295771363097), (491, 0.0), (492, 0.0), (493, 0.003959454368698261), (494, 0.00871441922702086), (495, 0.003388958428105248), (496, 0.01418373746721707), (497, 0.0), (498, 0.0), (499, 0.0), (500, 0.008359803495500152), (501, 0.008093060535906737), (502, 0.01276985516724257), (503, 0.0), (504, 0.0037911506408442085), (505, 0.0), (506, 0.0), (507, 0.0), (508, 0.0), (509, 0.003761346832845196), (510, 0.01487675400502619), (511, 0.011506869261534866), (512, 0.0), (513, 0.0), (514, 0.0), (515, 0.025231636316324503), (516, 0.0), (517, 0.0), (518, 0.0), (519, 0.045979873591039874), (520, 0.0), (521, 0.006258208083095621), (522, 0.0036300630567401826), (523, 0.006373792107219134), (524, 0.0), (525, 0.0), (526, 0.0), (527, 0.01003187506493514), (528, 0.0), (529, 0.0), (530, 0.025755193511603033), (531, 0.0), (532, 0.0), (533, 0.014137543318232765), (534, 0.013423529226724646), (535, 0.0), (536, 0.0), (537, 0.006904650253934126), (538, 0.010926596821725245), (539, 0.0), (540, 0.03143752852304211), (541, 0.0), (542, 0.009137332583311533), (543, 0.01298592019961901), (544, 0.009226556772081326), (545, 0.013035522950908337), (546, 0.0), (547, 0.015954215736828592), (548, 0.0), (549, 0.0), (550, 0.0), (551, 0.016874796183789714), (552, 0.0), (553, 0.017999209635930172), (554, 0.0), (555, 0.010410756012279712), (556, 0.0), (557, 0.0), (558, 0.0033823345092622347), (559, 0.0), (560, 0.0), (561, 0.00468805877070059), (562, 0.0028986331601652646), (563, 0.0034164469712637457), (564, 0.003914516109648322), (565, 0.0), (566, 0.021594645455275903), (567, 0.0), (568, 0.006037966036721978), (569, 0.0), (570, 0.0), (571, 0.0029274138869878437), (572, 0.0), (573, 0.0), (574, 0.0), (575, 0.0), (576, 0.004126208071341264), (577, 0.0), (578, 0.03570919581263062), (579, 0.0038338222239748376), (580, 0.0038394189732998494), (581, 0.0), (582, 0.007393401238887704), (583, 0.005668807847433948), (584, 0.013193157225183069), (585, 0.0), (586, 0.015043838912854237), (587, 0.004113686825008192), (588, 0.0038099797471671244), (589, 0.003504417792277305), (590, 0.019676293955674856), (591, 0.0), (592, 0.0), (593, 0.0), (594, 0.0034837348933997162), (595, 0.0), (596, 0.004249523053030152), (597, 0.005585296910327887), (598, 0.0036165708537115623), (599, 0.0), (600, 0.006391090692947357), (601, 0.0), (602, 0.0), (603, 0.0), (604, 0.003365485167040566), (605, 0.0034733896521694473), (606, 0.0038957010951978475), (607, 0.0029039219848088263), (608, 0.0034612218006752796), (609, 0.013124868987567869), (610, 0.0), (611, 0.0032257042387001237), (612, 0.004036692546863975), (613, 0.023360005747407833), (614, 0.004288750672739078), (615, 0.042178058941379735), (616, 0.008284466466940338), (617, 0.003275360297449851), (618, 0.03078424196491305), (619, 0.0), (620, 0.011905409052499183), (621, 0.0), (622, 0.012924041058040441), (623, 0.004096377238705219), (624, 0.0), (625, 0.0), (626, 0.003181275485933571), (627, 0.00497300781867873), (628, 0.07782347562546076), (629, 0.026465351112131823), (630, 0.0), (631, 0.006435223702269604), (632, 0.033508798073326934), (633, 0.0), (634, 0.0), (635, 0.006826589081409233), (636, 0.0038101653903028056), (637, 0.04032519631390886), (638, 0.017053448093546024), (639, 0.0), (640, 0.0), (641, 0.007615606304705988), (642, 0.003249440196549821), (643, 0.017890465958555198), (644, 0.0037892605548322986), (645, 0.0), (646, 0.0), (647, 0.0), (648, 0.01148932099177248), (649, 0.0), (650, 0.0), (651, 0.009675872005106619), (652, 0.0038617818559141147), (653, 0.010992564495749167), (654, 0.009137985078526102), (655, 0.0035041331761543632), (656, 0.0), (657, 0.019029186776422926), (658, 0.0), (659, 0.003487857543478633), (660, 0.003777580102216636), (661, 0.0), (662, 0.0), (663, 0.0), (664, 0.005621543679482347), (665, 0.0), (666, 0.0), (667, 0.009466726882698475), (668, 0.007010024149398858), (669, 0.01728883063481928), (670, 0.022358617621920047), (671, 0.006370293268521527), (672, 0.024191461351672695), (673, 0.003974402797592962), (674, 0.0), (675, 0.009398956760921423), (676, 0.012045766162713708), (677, 0.016160805108634633), (678, 0.0), (679, 0.0), (680, 0.0), (681, 0.0), (682, 0.039758646243485206), (683, 0.009616876214454003), (684, 0.014624033923226757), (685, 0.0), (686, 0.0), (687, 0.0), (688, 0.0040664659040184955), (689, 0.009767853373253192), (690, 0.0), (691, 0.019705460892332043), (692, 0.012753874784590889), (693, 0.003717672679127258), (694, 0.03240117832356697), (695, 0.007865699296181349), (696, 0.0037520033709557794), (697, 0.010063880214992363), (698, 0.003711145775241242), (699, 0.0), (700, 0.0), (701, 0.014001106138123227), (702, 0.0), (703, 0.0033837562169483117), (704, 0.0), (705, 0.008849003520667616), (706, 0.020906587455013885), (707, 0.0031779641872713023), (708, 0.0), (709, 0.0), (710, 0.03622637841301389), (711, 0.0), (712, 0.003227168239782347), (713, 0.0), (714, 0.0), (715, 0.006718437900896872), (716, 0.004111876669264274), (717, 0.0), (718, 0.0), (719, 0.008323580340979672), (720, 0.0), (721, 0.004351798040170862), (722, 0.003351570420359679), (723, 0.0), (724, 0.0), (725, 0.0), (726, 0.0), (727, 0.0036379244399111148), (728, 0.00394095822639957), (729, 0.004042392455553271), (730, 0.0), (731, 0.0), (732, 0.008601203498079696), (733, 0.01089223933783324), (734, 0.009330460942637137), (735, 0.005409992240879334), (736, 0.0), (737, 0.00679046919906129), (738, 0.0), (739, 0.0041544324526385954), (740, 0.0), (741, 0.0), (742, 0.009376108974102789), (743, 0.003889005634785748), (744, 0.0033880368274692312), (745, 0.0), (746, 0.0), (747, 0.0), (748, 0.006469467667377661), (749, 0.0037125009869399535), (750, 0.003688636201393131), (751, 0.0), (752, 0.006467980048867923), (753, 0.009957383938650179), (754, 0.0), (755, 0.003765446962747147), (756, 0.0), (757, 0.017113087304093784), (758, 0.006159661484248016), (759, 0.0), (760, 0.010327950760938077), (761, 0.0039041281589229197), (762, 0.01086634593134054), (763, 0.01978646943212837), (764, 0.0), (765, 0.0), (766, 0.005738451158784623), (767, 0.0), (768, 0.017489673834048702), (769, 0.0037034608685001663), (770, 0.0), (771, 0.0), (772, 0.0), (773, 0.0), (774, 0.03747363036192332), (775, 0.009820640273312333), (776, 0.016434663595932972), (777, 0.0), (778, 0.006507201744080069), (779, 0.015559303700559454), (780, 0.0), (781, 0.0), (782, 0.006485287162109586), (783, 0.003850714663983295), (784, 0.0), (785, 0.0), (786, 0.0), (787, 0.015654212273660782), (788, 0.03658784694404663), (789, 0.0), (790, 0.008440627947769756), (791, 0.0), (792, 0.003933400315170967), (793, 0.0), (794, 0.01652991697599048), (795, 0.020358656176454458), (796, 0.018331137262800768), (797, 0.0), (798, 0.0035497108223854256), (799, 0.01229172157910061), (800, 0.0088620641542253), (801, 0.007945568255324975), (802, 0.0), (803, 0.0), (804, 0.0033866047267014456), (805, 0.0), (806, 0.012454536871270006), (807, 0.0), (808, 0.014292875555487137), (809, 0.006405004651484134), (810, 0.0), (811, 0.0), (812, 0.03118075970155866), (813, 0.004284072736745843), (814, 0.012549332742373345), (815, 0.003326561574790431), (816, 0.010938968543632823), (817, 0.006357746832484934), (818, 0.03512972383440589), (819, 0.0), (820, 0.0), (821, 0.006213509850356218), (822, 0.0), (823, 0.0), (824, 0.026059707471364227), (825, 0.0), (826, 0.003984919033035857), (827, 0.008318481071895117), (828, 0.008383323028886877), (829, 0.008163802724838796), (830, 0.03969111840728246), (831, 0.0027998660376699893), (832, 0.021498845411267415), (833, 0.014380862757060867), (834, 0.0061603555315207165), (835, 0.005929335403242158), (836, 0.028509177278749104), (837, 0.0), (838, 0.009626459688352669), (839, 0.0), (840, 0.0), (841, 0.0), (842, 0.010420095601244352), (843, 0.00829768123510693), (844, 0.010444848119725972), (845, 0.0), (846, 0.0), (847, 0.011170959908007113), (848, 0.0), (849, 0.0), (850, 0.009933955796671426), (851, 0.0033625129044804808), (852, 0.0036028548157452565), (853, 0.011629613688559302), (854, 0.0036070993702956218), (855, 0.0), (856, 0.003320780217770334), (857, 0.0041673257670812045), (858, 0.020523894221730895), (859, 0.0), (860, 0.014491056408246893), (861, 0.003210146846434373), (862, 0.0), (863, 0.0), (864, 0.02486329191739635), (865, 0.003939757432092839), (866, 0.011880750449006683), (867, 0.016222119390137346), (868, 0.0), (869, 0.00883494668912585), (870, 0.01823775624151315), (871, 0.0038390492302952093), (872, 0.003936386708637261), (873, 0.05137041713163419), (874, 0.01370786263314905), (875, 0.0), (876, 0.004104279970578756), (877, 0.0460321198649145), (878, 0.011995378496967279), (879, 0.013125425078490877), (880, 0.003581354789936831), (881, 0.0), (882, 0.0), (883, 0.0), (884, 0.0), (885, 0.023043502642482613), (886, 0.003465996798156877), (887, 0.0), (888, 0.00402526197599645), (889, 0.0), (890, 0.0), (891, 0.0), (892, 0.0), (893, 0.0), (894, 0.00369562694879765), (895, 0.011556955470140878), (896, 0.013375361646994155), (897, 0.010105533484417707), (898, 0.0), (899, 0.01153136637791897), (900, 0.009327860583620375), (901, 0.0), (902, 0.0), (903, 0.03206187364595148), (904, 0.04307314034720889), (905, 0.010028592330043822), (906, 0.012562565902849297), (907, 0.0035232983693335514), (908, 0.009067705968381804), (909, 0.0), (910, 0.0034160695114940276), (911, 0.028018418342585793), (912, 0.0), (913, 0.0), (914, 0.0), (915, 0.008319397113436017), (916, 0.013881461165234425), (917, 0.02283238901741577), (918, 0.00907907200775608), (919, 0.0), (920, 0.0), (921, 0.006283165705018465), (922, 0.0), (923, 0.0037728049295947825), (924, 0.00848321087343808), (925, 0.004384858122764016), (926, 0.0), (927, 0.0), (928, 0.0), (929, 0.016451366138125856), (930, 0.0039053029887390644), (931, 0.008985164965648931), (932, 0.0), (933, 0.0), (934, 0.015002311094369825), (935, 0.031207114612885615), (936, 0.009003277999938792), (937, 0.014868996416454703), (938, 0.0), (939, 0.00834493328814595), (940, 0.007017471911449878), (941, 0.0), (942, 0.022597435457319317), (943, 0.0), (944, 0.0034140921716819656), (945, 0.0), (946, 0.0), (947, 0.01794558421713812), (948, 0.010837176224295695), (949, 0.007280717162900338), (950, 0.0), (951, 0.0033775604499462876), (952, 0.023575257379915213), (953, 0.002999083841600729), (954, 0.0), (955, 0.0), (956, 0.0), (957, 0.014692027330752512), (958, 0.005907065057759524), (959, 0.003659537603860518), (960, 0.0), (961, 0.0), (962, 0.00966265544798381), (963, 0.009330441443226745), (964, 0.0), (965, 0.0), (966, 0.009758755553470645), (967, 0.020469552153414082), (968, 0.01480922324451343), (969, 0.0037113737059104777), (970, 0.005544337751770287), (971, 0.0), (972, 0.0), (973, 0.0), (974, 0.0), (975, 0.0035142471076253633), (976, 0.024639530976636192), (977, 0.0), (978, 0.0), (979, 0.005541527406106496), (980, 0.0037856092171204454), (981, 0.0033609643645975355), (982, 0.0), (983, 0.0), (984, 0.0), (985, 0.004280760355939876), (986, 0.013319947454723376), (987, 0.0), (988, 0.012150783887888744), (989, 0.012114278902246381), (990, 0.0), (991, 0.003936705091717945), (992, 0.0), (993, 0.0), (994, 0.00899620965120128), (995, 0.0), (996, 0.0), (997, 0.0), (998, 0.004231550323159826), (999, 0.004207810923003221), (1000, 0.011465808267637783), (1001, 0.00354893697853095), (1002, 0.003566501054403115), (1003, 0.016264639637270917), (1004, 0.0), (1005, 0.007918510792987069), (1006, 0.010373461632628783), (1007, 0.004048973039009419), (1008, 0.0), (1009, 0.009336414376491726), (1010, 0.0), (1011, 0.0), (1012, 0.006147533259474906), (1013, 0.0), (1014, 0.0071436243984466475), (1015, 0.010349921605827253), (1016, 0.0), (1017, 0.00998651870631949), (1018, 0.013056738407929945), (1019, 0.010125459720913537), (1020, 0.01003974100990462), (1021, 0.05931787002291666), (1022, 0.0), (1023, 0.04759038732138235), (1024, 0.03570385025389275), (1025, 0.0), (1026, 0.003633250579385586), (1027, 0.003637571926009078), (1028, 0.0), (1029, 0.0), (1030, 0.04611305422021393), (1031, 0.0), (1032, 0.0), (1033, 0.01753960866997368), (1034, 0.0035214648667209244), (1035, 0.012455959788933076), (1036, 0.0), (1037, 0.005308215557034724), (1038, 0.0), (1039, 0.0), (1040, 0.0032528149380941004), (1041, 0.003484092446271787), (1042, 0.0), (1043, 0.02542024005841169), (1044, 0.0036234415066681257), (1045, 0.015266048746463182), (1046, 0.02823403100037597), (1047, 0.0), (1048, 0.006397750882378347), (1049, 0.00437988439005701), (1050, 0.011107904812121554), (1051, 0.0), (1052, 0.01986102182481821), (1053, 0.014837349408068719), (1054, 0.0), (1055, 0.0), (1056, 0.0), (1057, 0.0), (1058, 0.010486349695375805), (1059, 0.024992099239510446), (1060, 0.0036034809852214045), (1061, 0.008225775017168974), (1062, 0.0), (1063, 0.03115956434080156), (1064, 0.015266845883841505), (1065, 0.0034691472976990595), (1066, 0.0), (1067, 0.0), (1068, 0.0287383797220047), (1069, 0.0071359415631314345), (1070, 0.046612904005117674), (1071, 0.0038868454683056485), (1072, 0.0), (1073, 0.0), (1074, 0.014740413465869122), (1075, 0.009999377646145533), (1076, 0.0), (1077, 0.010078879825883472), (1078, 0.003189347252562698), (1079, 0.0034361025311263537), (1080, 0.0033683132556038696), (1081, 0.0), (1082, 0.0), (1083, 0.0038412219774477097), (1084, 0.0035604358860121406), (1085, 0.037651922955996855), (1086, 0.0), (1087, 0.006146600329746245), (1088, 0.003216775199535571), (1089, 0.0), (1090, 0.010832780498579529), (1091, 0.0), (1092, 0.0), (1093, 0.0), (1094, 0.0064082795801333105), (1095, 0.028435035120171433), (1096, 0.005991634857819857), (1097, 0.0), (1098, 0.0), (1099, 0.006796306109233245), (1100, 0.0), (1101, 0.0), (1102, 0.0037223432847900547), (1103, 0.0), (1104, 0.0), (1105, 0.0), (1106, 0.0), (1107, 0.003462218517042727), (1108, 0.0), (1109, 0.004147961237801971), (1110, 0.0), (1111, 0.006248117716703152), (1112, 0.014706707811841068), (1113, 0.0), (1114, 0.011484239276600885), (1115, 0.007541801105045005), (1116, 0.015693380200495027), (1117, 0.0), (1118, 0.062325592121086223), (1119, 0.01381332344575345), (1120, 0.0), (1121, 0.0), (1122, 0.0038340880313551136), (1123, 0.0036411322334286094), (1124, 0.00650888947012324), (1125, 0.009217990655017456), (1126, 0.0), (1127, 0.0), (1128, 0.014854876632306462), (1129, 0.012294899928794702), (1130, 0.0), (1131, 0.003795799847966243), (1132, 0.020414390989033006), (1133, 0.0), (1134, 0.05499820976290373), (1135, 0.0), (1136, 0.008897993810106546), (1137, 0.01901210439699599), (1138, 0.003676936399278171), (1139, 0.0), (1140, 0.003861700402914815), (1141, 0.02055555024890834), (1142, 0.0), (1143, 0.0), (1144, 0.005048612003253931), (1145, 0.0), (1146, 0.03012139890719629), (1147, 0.0), (1148, 0.010027288945568197), (1149, 0.0), (1150, 0.0), (1151, 0.0), (1152, 0.013909984865496567), (1153, 0.0), (1154, 0.0), (1155, 0.0), (1156, 0.0), (1157, 0.011455509578586561), (1158, 0.0), (1159, 0.0), (1160, 0.012529367430933084), (1161, 0.00363995973590148), (1162, 0.013687385572713808), (1163, 0.0037709720188192127), (1164, 0.0), (1165, 0.0), (1166, 0.0), (1167, 0.0), (1168, 0.0), (1169, 0.0), (1170, 0.0036726265779276875), (1171, 0.0), (1172, 0.00642349673900924), (1173, 0.019587889505678024), (1174, 0.0), (1175, 0.018723753488293395), (1176, 0.0038128730722391422), (1177, 0.003536755410072221), (1178, 0.0), (1179, 0.003790942666752646), (1180, 0.0), (1181, 0.0), (1182, 0.010629575542107196), (1183, 0.011930443741645562), (1184, 0.01417646464349925), (1185, 0.009037521924613245), (1186, 0.02599140312066724), (1187, 0.004352099800905718), (1188, 0.003971661432899526), (1189, 0.0), (1190, 0.0), (1191, 0.003722543640045908), (1192, 0.010115457401886045), (1193, 0.0), (1194, 0.005455364807246986), (1195, 0.0326942736945909), (1196, 0.0), (1197, 0.0), (1198, 0.0), (1199, 0.0033325819682980327), (1200, 0.0), (1201, 0.0), (1202, 0.015800924471871227), (1203, 0.0), (1204, 0.0), (1205, 0.0), (1206, 0.009351313288086416), (1207, 0.0), (1208, 0.004548675156639525), (1209, 0.0034308323748892125), (1210, 0.0), (1211, 0.0), (1212, 0.0), (1213, 0.0), (1214, 0.0), (1215, 0.008626565449165811), (1216, 0.016823696036736387), (1217, 0.0034773890429542586), (1218, 0.0), (1219, 0.0033747864055786564), (1220, 0.009446879512136793), (1221, 0.0), (1222, 0.0), (1223, 0.003804477871532644), (1224, 0.013329410014484372), (1225, 0.003959287022362345), (1226, 0.006155233838739037), (1227, 0.0), (1228, 0.0), (1229, 0.0039071907903005), (1230, 0.008457876352421543), (1231, 0.008522959525536226), (1232, 0.012780976454561914), (1233, 0.0), (1234, 0.009146403680034904), (1235, 0.0), (1236, 0.008070444072351813), (1237, 0.011132212382045158), (1238, 0.006186731479104556), (1239, 0.012543147062274036), (1240, 0.0), (1241, 0.038660893051306114), (1242, 0.0), (1243, 0.0530964300030573), (1244, 0.0), (1245, 0.018141267850498265), (1246, 0.0), (1247, 0.0036395578442724166), (1248, 0.04137751588618972), (1249, 0.011163980292075012), (1250, 0.00641683496923753), (1251, 0.0033131818143747314), (1252, 0.012641092696744446), (1253, 0.0), (1254, 0.013117125784640273), (1255, 0.009439997026022377), (1256, 0.0), (1257, 0.015948858403827437), (1258, 0.0), (1259, 0.0), (1260, 0.0), (1261, 0.020588147365939783), (1262, 0.006405285940141727), (1263, 0.0), (1264, 0.0045874719373458685), (1265, 0.0), (1266, 0.006533043818100306), (1267, 0.005852380382508747), (1268, 0.0), (1269, 0.0), (1270, 0.016245933685208137), (1271, 0.0), (1272, 0.02925878168151672), (1273, 0.0034026148319021656), (1274, 0.017047369211396466), (1275, 0.013991650333335935), (1276, 0.006614054128701511), (1277, 0.0), (1278, 0.014393994636618333), (1279, 0.0052407809458423285), (1280, 0.0), (1281, 0.0), (1282, 0.0), (1283, 0.025114633265967967), (1284, 0.0), (1285, 0.0), (1286, 0.0038752696269623637), (1287, 0.0), (1288, 0.0), (1289, 0.0), (1290, 0.01113228929824366), (1291, 0.0), (1292, 0.039557457171338524), (1293, 0.012050886936231603), (1294, 0.0), (1295, 0.0), (1296, 0.0), (1297, 0.0), (1298, 0.0), (1299, 0.0), (1300, 0.007367657059104361), (1301, 0.0), (1302, 0.006269061689062126), (1303, 0.003015139805316055), (1304, 0.0), (1305, 0.0030903675503261073), (1306, 0.007339233947179436), (1307, 0.005952320082634653), (1308, 0.009284043803934593), (1309, 0.0), (1310, 0.011603462769513956), (1311, 0.03977574354604474), (1312, 0.005577902334941482), (1313, 0.0036740090131864517), (1314, 0.02232459652157416), (1315, 0.0), (1316, 0.005724155894227563), (1317, 0.012662791811060232), (1318, 0.0033069308198840166), (1319, 0.0), (1320, 0.04246557303614283), (1321, 0.0), (1322, 0.0), (1323, 0.0), (1324, 0.003926118637913383), (1325, 0.004160422073783942), (1326, 0.0), (1327, 0.005903565203267584), (1328, 0.0), (1329, 0.006106156356986539), (1330, 0.0), (1331, 0.013893614625477727), (1332, 0.0), (1333, 0.0), (1334, 0.012492251296617182), (1335, 0.0037979196976866423), (1336, 0.0), (1337, 0.012278297237720975), (1338, 0.003707012816683064), (1339, 0.009052277838383721), (1340, 0.0034679718599189067), (1341, 0.07717392157086961), (1342, 0.012568193892735354), (1343, 0.010328090800264826), (1344, 0.0), (1345, 0.006376898357406536), (1346, 0.0), (1347, 0.0), (1348, 0.007881962483207145), (1349, 0.004110495877261438), (1350, 0.003964492580592976), (1351, 0.02213829857385903), (1352, 0.0033137081805464375), (1353, 0.0), (1354, 0.0), (1355, 0.0), (1356, 0.0031216462093363955), (1357, 0.0034807166511366503), (1358, 0.04134662963444112), (1359, 0.006512723499510721), (1360, 0.011939429404648913), (1361, 0.015378112771317301), (1362, 0.0), (1363, 0.0), (1364, 0.003947215663627192), (1365, 0.01837227113367126), (1366, 0.0), (1367, 0.029534600668867345), (1368, 0.0), (1369, 0.037274158734264026), (1370, 0.003225527873621232), (1371, 0.00957054639983264), (1372, 0.003488023338861938), (1373, 0.0), (1374, 0.006134071493539366), (1375, 0.0034922369071192306), (1376, 0.012227542181032227), (1377, 0.016081671975163157), (1378, 0.0036939263596528146), (1379, 0.03419977885517687), (1380, 0.0), (1381, 0.0), (1382, 0.0104832173825564), (1383, 0.0813458431259538), (1384, 0.013529009522546778), (1385, 0.017854291038061916), (1386, 0.01748329235849552), (1387, 0.01106881943557811), (1388, 0.009320922232145605), (1389, 0.03467728117936206), (1390, 0.0), (1391, 0.0), (1392, 0.0), (1393, 0.0353900263539787), (1394, 0.00323184357736905), (1395, 0.0), (1396, 0.006373246277033534), (1397, 0.021292712783005346), (1398, 0.03130589449922978), (1399, 0.0), (1400, 0.0038788587592287096), (1401, 0.012985401642111098), (1402, 0.0), (1403, 0.017391220098015407), (1404, 0.0), (1405, 0.02947020532552296), (1406, 0.008715865555429941), (1407, 0.006473984166827939), (1408, 0.0036282044513429985), (1409, 0.0), (1410, 0.0037602549549913336), (1411, 0.0), (1412, 0.019986146071083434), (1413, 0.01024077818404051), (1414, 0.003272454655742446), (1415, 0.003180932163616488), (1416, 0.0), (1417, 0.014771714264830253), (1418, 0.009805577051881736), (1419, 0.008881197370332751), (1420, 0.006161704383061443), (1421, 0.003643597117520775), (1422, 0.0036750288825570638), (1423, 0.0033025999356113434), (1424, 0.0), (1425, 0.006051217661671701), (1426, 0.0), (1427, 0.003415252367341169), (1428, 0.0), (1429, 0.004426209969535897), (1430, 0.0), (1431, 0.0), (1432, 0.009373032386066201), (1433, 0.0), (1434, 0.0), (1435, 0.0), (1436, 0.008938571568867907), (1437, 0.0), (1438, 0.0036212714271144472), (1439, 0.0), (1440, 0.008853117226043912), (1441, 0.0), (1442, 0.0073005119752241774), (1443, 0.012802520263878863), (1444, 0.0), (1445, 0.015603819372676646), (1446, 0.009647700897706007), (1447, 0.0), (1448, 0.003578831799999405), (1449, 0.0), (1450, 0.0), (1451, 0.0), (1452, 0.0), (1453, 0.005284316699600489), (1454, 0.003950480685552301), (1455, 0.00876162456390698), (1456, 0.0), (1457, 0.0), (1458, 0.0), (1459, 0.0), (1460, 0.0), (1461, 0.006334019764356985), (1462, 0.003425418487802099), (1463, 0.00392832270564878), (1464, 0.030316679527595813), (1465, 0.01095562370233047), (1466, 0.0), (1467, 0.0), (1468, 0.0), (1469, 0.0), (1470, 0.0), (1471, 0.019041132971720706), (1472, 0.0036751652778347103), (1473, 0.0), (1474, 0.004081101034194675), (1475, 0.01032434138856811), (1476, 0.003702147471099595), (1477, 0.009104512782271252), (1478, 0.0035317477593361903), (1479, 0.0), (1480, 0.0), (1481, 0.0035699302667946283), (1482, 0.029188454351301796), (1483, 0.003656312018406975), (1484, 0.0), (1485, 0.0), (1486, 0.006851120900473863), (1487, 0.0), (1488, 0.003679160813920836), (1489, 0.004248304548395753), (1490, 0.0), (1491, 0.0), (1492, 0.020804197524067855), (1493, 0.011844149659840146), (1494, 0.006336597494822925), (1495, 0.0), (1496, 0.0), (1497, 0.0), (1498, 0.004321613570788369), (1499, 0.0), (1500, 0.02341852421825481), (1501, 0.006269585509345801), (1502, 0.0), (1503, 0.0034164672394538377), (1504, 0.0), (1505, 0.02182888650267572), (1506, 0.0411933077000933), (1507, 0.0), (1508, 0.0), (1509, 0.00695956991238211), (1510, 0.015643287350205606), (1511, 0.0), (1512, 0.015105156333574532), (1513, 0.003995925154450479), (1514, 0.009399120827011156), (1515, 0.0209732137511307), (1516, 0.0), (1517, 0.0), (1518, 0.004008396366025895), (1519, 0.009518468720580993), (1520, 0.0), (1521, 0.0), (1522, 0.0), (1523, 0.01493998207588212), (1524, 0.0), (1525, 0.0), (1526, 0.006191248200788653), (1527, 0.0379458651838679), (1528, 0.0), (1529, 0.0), (1530, 0.0), (1531, 0.0), (1532, 0.0), (1533, 0.003751095199279216), (1534, 0.0), (1535, 0.0), (1536, 0.0), (1537, 0.003986084245345789), (1538, 0.005740706436787912), (1539, 0.008985003115166602), (1540, 0.0), (1541, 0.0), (1542, 0.008922610992510112), (1543, 0.003400847067610205), (1544, 0.025489098824972092), (1545, 0.0), (1546, 0.0), (1547, 0.004349403978789484), (1548, 0.0), (1549, 0.0), (1550, 0.0), (1551, 0.006247971193594754), (1552, 0.006064104281738212), (1553, 0.005468802635089677), (1554, 0.0), (1555, 0.0), (1556, 0.0), (1557, 0.0), (1558, 0.0036270352219224086), (1559, 0.0), (1560, 0.0), (1561, 0.0), (1562, 0.0), (1563, 0.0), (1564, 0.0), (1565, 0.0033795243607600434), (1566, 0.0), (1567, 0.005666022714901487), (1568, 0.030576936251757784), (1569, 0.0), (1570, 0.0039917942664750685), (1571, 0.005542339842628268), (1572, 0.015761052100360134), (1573, 0.0), (1574, 0.0), (1575, 0.0), (1576, 0.0), (1577, 0.0), (1578, 0.0), (1579, 0.016375386427263022), (1580, 0.0), (1581, 0.0), (1582, 0.003514602526579033), (1583, 0.006771163066395369), (1584, 0.0), (1585, 0.024763409792078694), (1586, 0.0), (1587, 0.0), (1588, 0.0), (1589, 0.0), (1590, 0.0), (1591, 0.009884857948337393), (1592, 0.0), (1593, 0.0), (1594, 0.0), (1595, 0.011442638074796879), (1596, 0.0), (1597, 0.003599302551969332), (1598, 0.0036302055478271283), (1599, 0.0), (1600, 0.0), (1601, 0.0), (1602, 0.0), (1603, 0.0), (1604, 0.0), (1605, 0.003436700298662233), (1606, 0.0), (1607, 0.0), (1608, 0.003501520146495738), (1609, 0.016503959378870642), (1610, 0.0), (1611, 0.0), (1612, 0.006194457782488938), (1613, 0.0), (1614, 0.0), (1615, 0.0), (1616, 0.003274343708536424), (1617, 0.0), (1618, 0.0), (1619, 0.010335815764741293), (1620, 0.0036776307783581434), (1621, 0.012381129810705965), (1622, 0.0), (1623, 0.0), (1624, 0.0031170416920500315), (1625, 0.0), (1626, 0.0), (1627, 0.003382508166365211), (1628, 0.0035974840262917376), (1629, 0.01880197654801146), (1630, 0.008267208641332522), (1631, 0.0), (1632, 0.0), (1633, 0.0), (1634, 0.0036621265706347924), (1635, 0.0), (1636, 0.0), (1637, 0.0), (1638, 0.0), (1639, 0.0), (1640, 0.0), (1641, 0.0), (1642, 0.0), (1643, 0.003877106881756381), (1644, 0.0062212259838310205), (1645, 0.0038213697798105775), (1646, 0.0), (1647, 0.04179019935306565), (1648, 0.03008348035783432), (1649, 0.0), (1650, 0.005706051039527364), (1651, 0.0), (1652, 0.02099753905716646), (1653, 0.003706744611499162), (1654, 0.011898948788709248), (1655, 0.012362760417628706), (1656, 0.0), (1657, 0.0), (1658, 0.011607768537716988), (1659, 0.0), (1660, 0.0), (1661, 0.0), (1662, 0.005829779356871764), (1663, 0.0), (1664, 0.005859291843286879), (1665, 0.011986879649931188), (1666, 0.003630309565622164), (1667, 0.0035925386564476976), (1668, 0.0), (1669, 0.0), (1670, 0.0), (1671, 0.02122345647963981), (1672, 0.0), (1673, 0.0), (1674, 0.009845773417721485), (1675, 0.03860588059157164), (1676, 0.03655073356744264), (1677, 0.0030212382275475263), (1678, 0.009993355681673071), (1679, 0.0), (1680, 0.008185950327376991), (1681, 0.0), (1682, 0.015177399279512553), (1683, 0.0), (1684, 0.005641138507204858), (1685, 0.010727409621856674), (1686, 0.0), (1687, 0.00400941819009056), (1688, 0.006435917891544071), (1689, 0.0), (1690, 0.009007106158152433), (1691, 0.0), (1692, 0.0061002065533307375), (1693, 0.003656042851587201), (1694, 0.007723967300006686), (1695, 0.004960645979833711), (1696, 0.0061218851632689145), (1697, 0.0), (1698, 0.0), (1699, 0.0), (1700, 0.0), (1701, 0.00490630381916937), (1702, 0.034405642729509064), (1703, 0.003976447032563009), (1704, 0.0), (1705, 0.009532234016706486), (1706, 0.0036772013357669335), (1707, 0.021257258556859778), (1708, 0.0071671147057300625), (1709, 0.0), (1710, 0.00971426521500396), (1711, 0.004574946131045152), (1712, 0.006919911881675323), (1713, 0.007298425352073791), (1714, 0.011552232141558223), (1715, 0.005679952042418794), (1716, 0.013705584684864387), (1717, 0.0037504377187499312), (1718, 0.006663251550867471), (1719, 0.003360123847980295), (1720, 0.026256143599770562), (1721, 0.01222163216659464), (1722, 0.003833939073492607), (1723, 0.0058636276109985475), (1724, 0.0), (1725, 0.0), (1726, 0.0), (1727, 0.009302183404980216), (1728, 0.0), (1729, 0.0), (1730, 0.009925420034824179), (1731, 0.0), (1732, 0.0), (1733, 0.0), (1734, 0.0), (1735, 0.009272270298771394), (1736, 0.009412785023736952), (1737, 0.006597102647461051), (1738, 0.0), (1739, 0.011485814574896523), (1740, 0.0037441876867928916), (1741, 0.014530636200448458), (1742, 0.0), (1743, 0.00842639869069019), (1744, 0.0035348429333598246), (1745, 0.0), (1746, 0.005849200858437631), (1747, 0.007880814579366763), (1748, 0.004304566848083177), (1749, 0.022863707645125814), (1750, 0.03176023152734208), (1751, 0.0), (1752, 0.012210340137298652), (1753, 0.0), (1754, 0.009649595332284466), (1755, 0.0), (1756, 0.0), (1757, 0.023237569072937406), (1758, 0.0), (1759, 0.014961250936879458), (1760, 0.0034316451201380697), (1761, 0.006393704266044299), (1762, 0.008965322531332314), (1763, 0.02735923750881085), (1764, 0.008894003345368207), (1765, 0.0), (1766, 0.0), (1767, 0.0), (1768, 0.0037184960521689735), (1769, 0.0), (1770, 0.006988637843490415), (1771, 0.0), (1772, 0.0), (1773, 0.00627039973082657), (1774, 0.01446124630231882), (1775, 0.0), (1776, 0.008172718063000205), (1777, 0.0), (1778, 0.0), (1779, 0.010241732024901959), (1780, 0.0), (1781, 0.0), (1782, 0.0035862515688681058), (1783, 0.0), (1784, 0.0), (1785, 0.0), (1786, 0.0), (1787, 0.01164344006812103), (1788, 0.0234174468623724), (1789, 0.0), (1790, 0.00745169013853522), (1791, 0.0), (1792, 0.0), (1793, 0.005978721581259061), (1794, 0.0), (1795, 0.03012034517654455), (1796, 0.003553019787482629), (1797, 0.008250318423686297), (1798, 0.010882098521846122), (1799, 0.006933678663723955), (1800, 0.0), (1801, 0.0), (1802, 0.012739144304659446), (1803, 0.0), (1804, 0.0), (1805, 0.0), (1806, 0.01010974199790092), (1807, 0.006137633871941601), (1808, 0.0), (1809, 0.0480060449940912), (1810, 0.0), (1811, 0.0), (1812, 0.006780834800184142), (1813, 0.0035810914599377474), (1814, 0.0), (1815, 0.01008656002188582), (1816, 0.007907071356667052), (1817, 0.016192724346573106), (1818, 0.005857232263280462), (1819, 0.0035453734336019062), (1820, 0.0), (1821, 0.04733057406950497), (1822, 0.004065111847046713), (1823, 0.0), (1824, 0.0), (1825, 0.0), (1826, 0.0), (1827, 0.003410096933583782), (1828, 0.0031818357035508175), (1829, 0.0), (1830, 0.0033478877868222895), (1831, 0.0), (1832, 0.009136490596023976), (1833, 0.0058321866808757955), (1834, 0.0), (1835, 0.0), (1836, 0.0), (1837, 0.03201009581891257), (1838, 0.015571607283653808), (1839, 0.0), (1840, 0.0), (1841, 0.006702080580324413), (1842, 0.0), (1843, 0.014207964695811542), (1844, 0.0), (1845, 0.023148656759047627), (1846, 0.0), (1847, 0.018037183204218054), (1848, 0.0), (1849, 0.00613634637647924), (1850, 0.04233392197274074), (1851, 0.003966031182737786), (1852, 0.006155842767343842), (1853, 0.013142204080760719), (1854, 0.008260641232631838), (1855, 0.0), (1856, 0.0), (1857, 0.0), (1858, 0.009466127625544265), (1859, 0.0), (1860, 0.006315255761489598), (1861, 0.020224758491197033), (1862, 0.0), (1863, 0.005410975850823095), (1864, 0.009507931640787852), (1865, 0.01941951698855973), (1866, 0.004005571770876432), (1867, 0.0061515768976829), (1868, 0.03042027491972496), (1869, 0.003375315822459053), (1870, 0.011252547527929514), (1871, 0.040962730035055045), (1872, 0.015692537268481428), (1873, 0.006268039394155508), (1874, 0.009357390163306077), (1875, 0.009100439741183484), (1876, 0.010483848182741945), (1877, 0.0), (1878, 0.047858166951707574), (1879, 0.0), (1880, 0.014804807313627828), (1881, 0.0), (1882, 0.0036810614124885865), (1883, 0.0), (1884, 0.003508827016536016), (1885, 0.03433352019007693), (1886, 0.067174259060718), (1887, 0.0), (1888, 0.0), (1889, 0.0), (1890, 0.0), (1891, 0.003658445692092096), (1892, 0.003639588353424558), (1893, 0.003980338184280997), (1894, 0.0), (1895, 0.013985329766178783), (1896, 0.004027427114282581), (1897, 0.010829345530888285), (1898, 0.0), (1899, 0.0), (1900, 0.0), (1901, 0.0), (1902, 0.00386924929317378), (1903, 0.005693983328227994), (1904, 0.0), (1905, 0.004039460321391906), (1906, 0.0146859257533795), (1907, 0.004005871120524592), (1908, 0.006397575132623749), (1909, 0.004291061654801142), (1910, 0.0), (1911, 0.006449888207801162), (1912, 0.0), (1913, 0.006054978381891237), (1914, 0.0), (1915, 0.0), (1916, 0.003979154520239049), (1917, 0.0), (1918, 0.003925777704061014), (1919, 0.012239874938960235), (1920, 0.008985177008065394), (1921, 0.0), (1922, 0.008943890949809224), (1923, 0.0040714343410673546), (1924, 0.004128532623898025), (1925, 0.0), (1926, 0.0), (1927, 0.014758211144249881), (1928, 0.0), (1929, 0.0), (1930, 0.0), (1931, 0.0038073108692581134), (1932, 0.0), (1933, 0.0), (1934, 0.008943298391312793), (1935, 0.02219045664126484), (1936, 0.006305430087786054), (1937, 0.008654757524009689), (1938, 0.0), (1939, 0.0), (1940, 0.0), (1941, 0.0), (1942, 0.0193043748919663), (1943, 0.0032003487431303225), (1944, 0.0), (1945, 0.015161239811709028), (1946, 0.0038806148773646485), (1947, 0.004353213609204301), (1948, 0.008890677672108344), (1949, 0.009118393212296688), (1950, 0.008346046814557124), (1951, 0.010559684480975853), (1952, 0.0), (1953, 0.0), (1954, 0.0), (1955, 0.0), (1956, 0.0), (1957, 0.010537224394864972), (1958, 0.0), (1959, 0.0), (1960, 0.003933090858881329), (1961, 0.0), (1962, 0.0), (1963, 0.0), (1964, 0.003350857381542689), (1965, 0.0), (1966, 0.0), (1967, 0.012677475509606382), (1968, 0.004154577961484482), (1969, 0.003712972821482269), (1970, 0.02363683048252821), (1971, 0.01113588715560851), (1972, 0.0), (1973, 0.0), (1974, 0.0), (1975, 0.0), (1976, 0.02541109805088632), (1977, 0.07537861825634712), (1978, 0.0), (1979, 0.0), (1980, 0.0), (1981, 0.0), (1982, 0.03326191839678874), (1983, 0.003764834634659372), (1984, 0.0), (1985, 0.01904147240178907), (1986, 0.006222022283687611), (1987, 0.0), (1988, 0.01194458805313237), (1989, 0.0030238702166364272), (1990, 0.02416023656477233), (1991, 0.0), (1992, 0.008281699695740639), (1993, 0.0), (1994, 0.08144186697343063), (1995, 0.0044436102806826834), (1996, 0.01623804544027116), (1997, 0.013649980051440474), (1998, 0.0), (1999, 0.0260667438568667), (2000, 0.013268608318562428), (2001, 0.0), (2002, 0.0), (2003, 0.0), (2004, 0.00354114644985211), (2005, 0.011530647123605941), (2006, 0.0), (2007, 0.0), (2008, 0.009874158380024606), (2009, 0.0), (2010, 0.003073652848798076), (2011, 0.02494104877051777), (2012, 0.035089579505028085), (2013, 0.023761211338486878), (2014, 0.03325061809077767), (2015, 0.0), (2016, 0.013291218879617279), (2017, 0.0), (2018, 0.019731665503076493), (2019, 0.0), (2020, 0.026610105822813465), (2021, 0.0), (2022, 0.005131983202077059), (2023, 0.025947955937296388), (2024, 0.012362786797810246), (2025, 0.0), (2026, 0.05691048163932928), (2027, 0.01603633192662615), (2028, 0.0), (2029, 0.0035907570386724875), (2030, 0.0), (2031, 0.003397882046338487), (2032, 0.0), (2033, 0.0), (2034, 0.003169679387679302), (2035, 0.018174236250627442), (2036, 0.0), (2037, 0.026206932525124953), (2038, 0.0), (2039, 0.0031119680398722736), (2040, 0.020212378900794702), (2041, 0.0), (2042, 0.0), (2043, 0.0), (2044, 0.0), (2045, 0.009920350327257004), (2046, 0.0), (2047, 0.0), (2048, 0.003933931429131373), (2049, 0.01121382820002913), (2050, 0.0), (2051, 0.011485145475242601), (2052, 0.01228499721811029), (2053, 0.013255282671346895), (2054, 0.0), (2055, 0.022634181180971005), (2056, 0.006098723091929036), (2057, 0.0), (2058, 0.005658675379845469), (2059, 0.0), (2060, 0.0), (2061, 0.0036880780775694275), (2062, 0.005894860260396621), (2063, 0.0), (2064, 0.004607259431012567), (2065, 0.011053789179580869), (2066, 0.0), (2067, 0.003945005496740625), (2068, 0.0036106948534651005), (2069, 0.0036124485721363204), (2070, 0.015945266224748646), (2071, 0.0), (2072, 0.0), (2073, 0.003736901957794846), (2074, 0.00556854762824834), (2075, 0.0047370335377893685), (2076, 0.007485873593425451), (2077, 0.0), (2078, 0.0), (2079, 0.0), (2080, 0.009004882703390567), (2081, 0.0), (2082, 0.036153262232181176), (2083, 0.0038823131114611685), (2084, 0.0), (2085, 0.0), (2086, 0.0), (2087, 0.009889226565354198), (2088, 0.0039483411116405485), (2089, 0.004286194841507684), (2090, 0.0), (2091, 0.0038730989928387172), (2092, 0.0), (2093, 0.0), (2094, 0.005859455891114358), (2095, 0.0060166676358271685), (2096, 0.010651617023942125), (2097, 0.01371061780175991), (2098, 0.005443617071356677), (2099, 0.0), (2100, 0.02987092022462737), (2101, 0.006877008144985985), (2102, 0.029380324291087348), (2103, 0.00971924367034297), (2104, 0.003953250436432129), (2105, 0.003912244584782794), (2106, 0.0), (2107, 0.0), (2108, 0.00417747184396007), (2109, 0.006214193738489697), (2110, 0.014104670647504506), (2111, 0.0), (2112, 0.0589767313850757), (2113, 0.005307919250109017), (2114, 0.028712100252303883), (2115, 0.0), (2116, 0.01098020735105048), (2117, 0.0035686685573511788), (2118, 0.0), (2119, 0.0140136405478456), (2120, 0.0), (2121, 0.009838878061357694), (2122, 0.03773976134441147), (2123, 0.03477640934743824), (2124, 0.0), (2125, 0.0), (2126, 0.009239017185028372), (2127, 0.0031631587841316395), (2128, 0.0), (2129, 0.0), (2130, 0.0), (2131, 0.0036242245181985914), (2132, 0.0031539216690710907), (2133, 0.047263999803888665), (2134, 0.004316308001329558), (2135, 0.0), (2136, 0.0), (2137, 0.0), (2138, 0.0), (2139, 0.0), (2140, 0.0), (2141, 0.0), (2142, 0.0), (2143, 0.009379844389145672), (2144, 0.010130144538242531), (2145, 0.011440972794550272), (2146, 0.0), (2147, 0.0), (2148, 0.0), (2149, 0.01745223099693851), (2150, 0.0), (2151, 0.0), (2152, 0.0), (2153, 0.0), (2154, 0.012051365619406859), (2155, 0.010063479130561156), (2156, 0.0055342322180278024), (2157, 0.024966752633916425), (2158, 0.0), (2159, 0.004078677153362273), (2160, 0.0061390046905465375), (2161, 0.015786401126837803), (2162, 0.004219380930073339), (2163, 0.0), (2164, 0.0), (2165, 0.0), (2166, 0.0), (2167, 0.01734009349241759), (2168, 0.0), (2169, 0.003734089236230955), (2170, 0.0), (2171, 0.0), (2172, 0.0), (2173, 0.0), (2174, 0.009780036285254617), (2175, 0.005892255271023451), (2176, 0.004164126357746437), (2177, 0.012852422457026271), (2178, 0.0), (2179, 0.0), (2180, 0.0), (2181, 0.0), (2182, 0.0), (2183, 0.0), (2184, 0.0), (2185, 0.005646400586412353), (2186, 0.0), (2187, 0.0), (2188, 0.004375691568349756), (2189, 0.0), (2190, 0.0), (2191, 0.04706246023996079), (2192, 0.0), (2193, 0.006296592999865005), (2194, 0.0), (2195, 0.003633196303266304), (2196, 0.009344872320040984), (2197, 0.005333969546736109), (2198, 0.029861296497183464), (2199, 0.004704795197696951), (2200, 0.0), (2201, 0.003465820505030529), (2202, 0.006073899359268226), (2203, 0.005727766766285533), (2204, 0.0), (2205, 0.005815130147419336), (2206, 0.008519222193445024), (2207, 0.0), (2208, 0.0), (2209, 0.006997119013187289), (2210, 0.0208455084138911), (2211, 0.00852428985726586), (2212, 0.039121700458684065), (2213, 0.0), (2214, 0.051393830280760944), (2215, 0.0), (2216, 0.01222091648729642), (2217, 0.0), (2218, 0.0), (2219, 0.0), (2220, 0.0), (2221, 0.025075647928166606), (2222, 0.0), (2223, 0.004087624754337736), (2224, 0.011623168269039174), (2225, 0.0), (2226, 0.0036905347181645926), (2227, 0.0), (2228, 0.0), (2229, 0.004282793679232643), (2230, 0.003906489071106083), (2231, 0.0), (2232, 0.0), (2233, 0.0), (2234, 0.0), (2235, 0.009318997077894905), (2236, 0.0057286794003774425), (2237, 0.01869006723390553), (2238, 0.0), (2239, 0.0061541199867669195), (2240, 0.0033332653428590534), (2241, 0.0), (2242, 0.0038596322529828226), (2243, 0.0), (2244, 0.006717837371850314), (2245, 0.0), (2246, 0.0), (2247, 0.0), (2248, 0.0), (2249, 0.0), (2250, 0.012254850716171226), (2251, 0.005193711524066312), (2252, 0.0), (2253, 0.0), (2254, 0.013017138972357485), (2255, 0.004844559062704156), (2256, 0.0), (2257, 0.004815633554564352), (2258, 0.0158456543773228), (2259, 0.0), (2260, 0.004185191893101069), (2261, 0.0), (2262, 0.0), (2263, 0.0), (2264, 0.00797200282685808), (2265, 0.009181724474316918), (2266, 0.004504841352039065), (2267, 0.0), (2268, 0.0), (2269, 0.004270122217059199), (2270, 0.0), (2271, 0.0), (2272, 0.0), (2273, 0.0), (2274, 0.0), (2275, 0.011737685372040153), (2276, 0.014953886035301317), (2277, 0.01041947725210706), (2278, 0.0), (2279, 0.012580191777461117), (2280, 0.00862571183756089), (2281, 0.0), (2282, 0.0), (2283, 0.0), (2284, 0.0089251354233724), (2285, 0.00561857012245303), (2286, 0.004597623407953293), (2287, 0.003435324581547673), (2288, 0.0), (2289, 0.0040231225470428195), (2290, 0.014948279224281944), (2291, 0.005879130716563472), (2292, 0.0), (2293, 0.0), (2294, 0.04876182616630248), (2295, 0.003802258369106475), (2296, 0.0), (2297, 0.0), (2298, 0.014590333682421542), (2299, 0.0), (2300, 0.0), (2301, 0.020647137565360914), (2302, 0.004223791158832708), (2303, 0.006573782648744838), (2304, 0.0), (2305, 0.0), (2306, 0.007681778560562664), (2307, 0.0), (2308, 0.0), (2309, 0.006600324021109643), (2310, 0.0), (2311, 0.0), (2312, 0.0), (2313, 0.0037333091584494187), (2314, 0.0), (2315, 0.0), (2316, 0.03697540786844064), (2317, 0.0), (2318, 0.058842599556840416), (2319, 0.003863939448542352), (2320, 0.004336076933437823), (2321, 0.03844507682349361), (2322, 0.0), (2323, 0.0), (2324, 0.0), (2325, 0.0), (2326, 0.0), (2327, 0.0), (2328, 0.0), (2329, 0.0), (2330, 0.0), (2331, 0.0), (2332, 0.0), (2333, 0.0), (2334, 0.013245544160489422), (2335, 0.006195122217349195), (2336, 0.0), (2337, 0.0), (2338, 0.003341366411496087), (2339, 0.007044200538948881), (2340, 0.0), (2341, 0.0), (2342, 0.0), (2343, 0.0), (2344, 0.00396899541483667), (2345, 0.0), (2346, 0.00973808109082574), (2347, 0.01748043215732105), (2348, 0.0040508095610195865), (2349, 0.005095915627530099), (2350, 0.004795459943669426), (2351, 0.0), (2352, 0.0), (2353, 0.015411440468041855), (2354, 0.0), (2355, 0.0032050194463498346), (2356, 0.0), (2357, 0.0), (2358, 0.0), (2359, 0.0031816483472386944), (2360, 0.0), (2361, 0.004067476899476646), (2362, 0.021138152933174947), (2363, 0.0), (2364, 0.0), (2365, 0.033719003777833795), (2366, 0.013612017910568616), (2367, 0.0034590493202609554), (2368, 0.01758596248268904), (2369, 0.0), (2370, 0.0), (2371, 0.03499359538445242), (2372, 0.0), (2373, 0.0), (2374, 0.042213084203431867), (2375, 0.040942550867656774), (2376, 0.014707914904369861), (2377, 0.0), (2378, 0.0), (2379, 0.005161053352063444), (2380, 0.0), (2381, 0.0), (2382, 0.0), (2383, 0.0), (2384, 0.0), (2385, 0.0), (2386, 0.0038764082153973246), (2387, 0.0), (2388, 0.004418364074326682), (2389, 0.0), (2390, 0.004009681151503006), (2391, 0.004019969730514939), (2392, 0.0), (2393, 0.0038251073590487555), (2394, 0.0040796126162555724), (2395, 0.0), (2396, 0.0), (2397, 0.0036429537830676745), (2398, 0.0), (2399, 0.0034072474410291823), (2400, 0.004160705241176061), (2401, 0.0), (2402, 0.0035911142286497054), (2403, 0.0071640051545217385), (2404, 0.0), (2405, 0.003836272881346694), (2406, 0.01499149081248084), (2407, 0.004934435226648753), (2408, 0.0), (2409, 0.0), (2410, 0.0), (2411, 0.004232477569813292), (2412, 0.010787292883916638), (2413, 0.026775053685370833), (2414, 0.0), (2415, 0.004730862216009896), (2416, 0.0), (2417, 0.043612616615561615), (2418, 0.0067824099889620525), (2419, 0.0), (2420, 0.0), (2421, 0.0063106674261838944), (2422, 0.0037175251956971444), (2423, 0.004816485981863356), (2424, 0.0), (2425, 0.0), (2426, 0.00570551708209529), (2427, 0.004360361932887691), (2428, 0.004449403730798263), (2429, 0.0), (2430, 0.0036214742006373778), (2431, 0.0), (2432, 0.0), (2433, 0.0), (2434, 0.004431291892175998), (2435, 0.0), (2436, 0.010973328537361424), (2437, 0.004364488749852596), (2438, 0.004737452073045027), (2439, 0.0055759126264147444), (2440, 0.014651552068691422), (2441, 0.0030839202086305985), (2442, 0.0), (2443, 0.027220067049492487), (2444, 0.0), (2445, 0.0), (2446, 0.0), (2447, 0.010771616396939245), (2448, 0.004766986971824981), (2449, 0.024027644299634814), (2450, 0.0), (2451, 0.0), (2452, 0.0), (2453, 0.0034882105757830543), (2454, 0.0), (2455, 0.0), (2456, 0.0), (2457, 0.0034614690562767563), (2458, 0.0), (2459, 0.00433996829790567), (2460, 0.012910641130575025), (2461, 0.0035646966042749066), (2462, 0.0), (2463, 0.006302421249377438), (2464, 0.010432481659621315), (2465, 0.0), (2466, 0.003859696552701275), (2467, 0.027920181540230175), (2468, 0.010410442840838518), (2469, 0.019667092941777563), (2470, 0.0), (2471, 0.0), (2472, 0.0), (2473, 0.009567017739929216), (2474, 0.012989207202282973), (2475, 0.004376440204413744), (2476, 0.0), (2477, 0.0039460361843665515), (2478, 0.004244699032733839), (2479, 0.0), (2480, 0.006110497348787088), (2481, 0.025532940383778985), (2482, 0.0035120907761948383), (2483, 0.0), (2484, 0.024513441011613152), (2485, 0.0), (2486, 0.0101579898282836), (2487, 0.024980183453904882), (2488, 0.004454973337331125), (2489, 0.012761448862408337), (2490, 0.005286458355432077), (2491, 0.0), (2492, 0.00378546395024091), (2493, 0.0), (2494, 0.010261617490462739), (2495, 0.0), (2496, 0.0036266179273856673), (2497, 0.0), (2498, 0.0), (2499, 0.0), (2500, 0.0), (2501, 0.0), (2502, 0.0033575037086357624), (2503, 0.00622683703841385), (2504, 0.0), (2505, 0.007319951475884599), (2506, 0.0), (2507, 0.0), (2508, 0.0), (2509, 0.0032539581158371987), (2510, 0.00699670197770412), (2511, 0.0), (2512, 0.012066954923852156), (2513, 0.017442018878231234), (2514, 0.0), (2515, 0.0), (2516, 0.0), (2517, 0.03090288923595247), (2518, 0.0), (2519, 0.0), (2520, 0.003313846801058638), (2521, 0.0), (2522, 0.013482827889762482), (2523, 0.0), (2524, 0.010093333345514129), (2525, 0.0), (2526, 0.0031500026948211653), (2527, 0.0035260965418685802), (2528, 0.0035623069700174395), (2529, 0.005366604539849315), (2530, 0.04340237592531399), (2531, 0.0038987408560521544), (2532, 0.0), (2533, 0.0), (2534, 0.0017193568518605736), (2535, 0.00437718019360248), (2536, 0.0), (2537, 0.0), (2538, 0.06844829401915918), (2539, 0.0), (2540, 0.0348185310637763), (2541, 0.0), (2542, 0.0), (2543, 0.0), (2544, 0.0), (2545, 0.006860250575562519), (2546, 0.00945539078457017), (2547, 0.0), (2548, 0.0), (2549, 0.0), (2550, 0.04729497769388075), (2551, 0.0), (2552, 0.0), (2553, 0.017993936179996468), (2554, 0.0038648560965115334), (2555, 0.004076576628196595), (2556, 0.003560655533982673), (2557, 0.0), (2558, 0.07686717692651969), (2559, 0.004902453281838046), (2560, 0.02371348251582265), (2561, 0.0), (2562, 0.0), (2563, 0.00838586562372893), (2564, 0.0), (2565, 0.006545613572872344), (2566, 0.0), (2567, 0.0), (2568, 0.013659415142523543), (2569, 0.0), (2570, 0.0043799099350743725), (2571, 0.0), (2572, 0.006242256336987691), (2573, 0.0), (2574, 0.0), (2575, 0.0), (2576, 0.0), (2577, 0.0), (2578, 0.0), (2579, 0.047728021111385854), (2580, 0.0033080125735376726), (2581, 0.0), (2582, 0.01921397976288281), (2583, 0.0), (2584, 0.0), (2585, 0.0), (2586, 0.0), (2587, 0.0055439183087869146), (2588, 0.0), (2589, 0.0), (2590, 0.0), (2591, 0.0033512209567599116), (2592, 0.004122793074078066), (2593, 0.0036540970845912847), (2594, 0.0), (2595, 0.0), (2596, 0.0), (2597, 0.0), (2598, 0.017421104279161936), (2599, 0.0), (2600, 0.0), (2601, 0.010634746526368288), (2602, 0.011109197365055305), (2603, 0.008536389554603917), (2604, 0.0), (2605, 0.0), (2606, 0.003739272151423157), (2607, 0.01729947920082517), (2608, 0.0), (2609, 0.003897889313199195), (2610, 0.0), (2611, 0.00336307119105932), (2612, 0.0036466340037370018), (2613, 0.0), (2614, 0.007854073734048124), (2615, 0.0), (2616, 0.0), (2617, 0.007476588807351372), (2618, 0.014309396728665226), (2619, 0.0), (2620, 0.0), (2621, 0.02119886655745317), (2622, 0.03248982133886779), (2623, 0.004375698188655366), (2624, 0.0), (2625, 0.004274135382070295), (2626, 0.0), (2627, 0.0), (2628, 0.0), (2629, 0.004127307025918692), (2630, 0.04379058582461343), (2631, 0.0), (2632, 0.010086075181360427), (2633, 0.010551147859157516), (2634, 0.0036028073498745165), (2635, 0.0), (2636, 0.0), (2637, 0.0), (2638, 0.021203988865178363), (2639, 0.014681205925888416), (2640, 0.006317565977889238), (2641, 0.0), (2642, 0.003613782358399763), (2643, 0.005026937438269426), (2644, 0.014277410585190867), (2645, 0.016159032435028614), (2646, 0.021367859858900114), (2647, 0.018740096833500863), (2648, 0.0), (2649, 0.02410629595054935), (2650, 0.015479844442032906), (2651, 0.0), (2652, 0.0037387104755419497), (2653, 0.04588880210069787), (2654, 0.015812059339913434), (2655, 0.005064075396642625), (2656, 0.0), (2657, 0.0), (2658, 0.0), (2659, 0.0), (2660, 0.004157779264373596), (2661, 0.0038651608340180025), (2662, 0.0), (2663, 0.0), (2664, 0.004247074374066949), (2665, 0.005223934632621952), (2666, 0.0), (2667, 0.0), (2668, 0.010220008589096012), (2669, 0.0), (2670, 0.0), (2671, 0.0), (2672, 0.0), (2673, 0.0), (2674, 0.003573417367131872), (2675, 0.0), (2676, 0.0), (2677, 0.0), (2678, 0.005963735026045014), (2679, 0.0), (2680, 0.005864413814782431), (2681, 0.0), (2682, 0.0), (2683, 0.0), (2684, 0.0), (2685, 0.0), (2686, 0.0), (2687, 0.02897501735258394), (2688, 0.010918792399887462), (2689, 0.018437989852840727), (2690, 0.0), (2691, 0.00642502883888006), (2692, 0.9999999999999999), (2693, 0.0), (2694, 0.044246524839557995), (2695, 0.012595456310471374), (2696, 0.004377709947978055), (2697, 0.0030915064441473703), (2698, 0.009749298914900485), (2699, 0.0), (2700, 0.0), (2701, 0.0), (2702, 0.0042757389657239785), (2703, 0.0), (2704, 0.0), (2705, 0.00419311719538287), (2706, 0.033578266867847845), (2707, 0.0), (2708, 0.006521953523325543), (2709, 0.0), (2710, 0.02948963896445921), (2711, 0.0), (2712, 0.01709338146946916), (2713, 0.0), (2714, 0.003963642794775899), (2715, 0.0), (2716, 0.03726068348891465), (2717, 0.0), (2718, 0.024311478964135404), (2719, 0.0), (2720, 0.0), (2721, 0.0), (2722, 0.0), (2723, 0.02900836997260498), (2724, 0.003336443577654455), (2725, 0.0), (2726, 0.006381483891791709), (2727, 0.010751201145912345), (2728, 0.0), (2729, 0.0), (2730, 0.0), (2731, 0.00493439808588778), (2732, 0.006384052898431838), (2733, 0.0), (2734, 0.0), (2735, 0.0), (2736, 0.0), (2737, 0.0), (2738, 0.0), (2739, 0.009270916036749767), (2740, 0.011498137117716863), (2741, 0.0034436725190850207), (2742, 0.013789334726619938), (2743, 0.003535210923703951), (2744, 0.010215509855658354), (2745, 0.018745323907579003), (2746, 0.003788880378355644), (2747, 0.0033679984840676515), (2748, 0.004384737090583686), (2749, 0.0), (2750, 0.0), (2751, 0.02824388090376114), (2752, 0.008620084725894043), (2753, 0.0), (2754, 0.0), (2755, 0.004089354469089641), (2756, 0.0), (2757, 0.0), (2758, 0.003119051471429481), (2759, 0.006700440361921214), (2760, 0.018287557193816677), (2761, 0.0031499749379451745), (2762, 0.025932195333190224), (2763, 0.0), (2764, 0.00520115507893203), (2765, 0.0), (2766, 0.0029705818652289236), (2767, 0.021446366669347367), (2768, 0.005127761776143857), (2769, 0.011509097630563354), (2770, 0.0), (2771, 0.003353085690940803), (2772, 0.004415465730841663), (2773, 0.0), (2774, 0.005026096074833948), (2775, 0.005001962602261836), (2776, 0.003952148531824763), (2777, 0.018135610878145043), (2778, 0.00452689973020684), (2779, 0.0036514357356865644), (2780, 0.009355669248334532), (2781, 0.0), (2782, 0.03193742155259012), (2783, 0.0), (2784, 0.01251708172992156), (2785, 0.0), (2786, 0.0), (2787, 0.0), (2788, 0.0), (2789, 0.005262270327048822), (2790, 0.0), (2791, 0.025352002874407253), (2792, 0.0), (2793, 0.0), (2794, 0.0), (2795, 0.01617217405765026), (2796, 0.004363410077675411), (2797, 0.004662582296560098), (2798, 0.01044270348844016), (2799, 0.0), (2800, 0.003493300797265861), (2801, 0.0), (2802, 0.003689200317165679), (2803, 0.00921576540434279), (2804, 0.0), (2805, 0.013019255720330846), (2806, 0.0), (2807, 0.030282415592052577), (2808, 0.018491534608859675), (2809, 0.0077669009407471965), (2810, 0.0), (2811, 0.0), (2812, 0.010002859244746892), (2813, 0.0), (2814, 0.0), (2815, 0.0), (2816, 0.006526043738028809), (2817, 0.0), (2818, 0.0), (2819, 0.0), (2820, 0.005481341766272962), (2821, 0.003994998641094188), (2822, 0.0), (2823, 0.01720075343597233), (2824, 0.0), (2825, 0.0), (2826, 0.0), (2827, 0.0), (2828, 0.0), (2829, 0.0), (2830, 0.004050669181548744), (2831, 0.009826068058127847), (2832, 0.0051436026950683915), (2833, 0.0), (2834, 0.00451171963700635), (2835, 0.0), (2836, 0.0), (2837, 0.0), (2838, 0.004635163571987026), (2839, 0.0), (2840, 0.004141495908911079), (2841, 0.01902947200926643), (2842, 0.0), (2843, 0.006935058804116521), (2844, 0.008161800994171312), (2845, 0.0033654912674285125), (2846, 0.0), (2847, 0.0), (2848, 0.004451635278017181), (2849, 0.00993204010364671), (2850, 0.0), (2851, 0.0), (2852, 0.0), (2853, 0.0), (2854, 0.004083417211619376), (2855, 0.0), (2856, 0.0), (2857, 0.004385798096523083), (2858, 0.0), (2859, 0.040225799678974127), (2860, 0.0), (2861, 0.0), (2862, 0.0035106294830763956), (2863, 0.0), (2864, 0.0), (2865, 0.0), (2866, 0.0), (2867, 0.019239145901549366), (2868, 0.03356481818333164), (2869, 0.04012261249227621), (2870, 0.005190662502919888), (2871, 0.008271615389568845), (2872, 0.004369428007766744), (2873, 0.006861919748846571), (2874, 0.013670850796264226), (2875, 0.0), (2876, 0.028855450458469344), (2877, 0.0), (2878, 0.003832610942216414), (2879, 0.004575951326075383), (2880, 0.0), (2881, 0.004270441730152012), (2882, 0.0), (2883, 0.005012866262268815), (2884, 0.0), (2885, 0.01718625087974658), (2886, 0.012234444963781175), (2887, 0.030407540188810894), (2888, 0.004190400401974198), (2889, 0.004968546637546583), (2890, 0.004479295063741565), (2891, 0.0), (2892, 0.003535146382098333), (2893, 0.0448676331853519), (2894, 0.0038907626421324525), (2895, 0.0), (2896, 0.0), (2897, 0.008538942631393305), (2898, 0.0), (2899, 0.0034822203645653955), (2900, 0.0), (2901, 0.004903649228231296), (2902, 0.0), (2903, 0.06136043162106506), (2904, 0.0037727659764491862), (2905, 0.0), (2906, 0.0), (2907, 0.003603617355771175), (2908, 0.02698644777956972), (2909, 0.0), (2910, 0.012973035231497145), (2911, 0.003958533431794605), (2912, 0.0), (2913, 0.007641726319274879), (2914, 0.004365686918786836), (2915, 0.011108219163805746), (2916, 0.0043263777227775975), (2917, 0.013015539280504838), (2918, 0.008673704296976314), (2919, 0.013053978925097035), (2920, 0.028168149780561636), (2921, 0.0), (2922, 0.0), (2923, 0.0), (2924, 0.004201263410249729), (2925, 0.010175791899610199), (2926, 0.003944905073675782), (2927, 0.0), (2928, 0.0), (2929, 0.0056178227125439325), (2930, 0.0), (2931, 0.017037827068892467), (2932, 0.016580521643574184), (2933, 0.008780359535749233), (2934, 0.012819061464286675), (2935, 0.005906680681363041), (2936, 0.007166693814263911), (2937, 0.0), (2938, 0.0), (2939, 0.010548055961301255), (2940, 0.0), (2941, 0.0), (2942, 0.00550673768783501), (2943, 0.004163274989649756), (2944, 0.04770250761314459), (2945, 0.0036774527454647935), (2946, 0.00375147052171834), (2947, 0.0), (2948, 0.0), (2949, 0.0), (2950, 0.0), (2951, 0.0), (2952, 0.0), (2953, 0.0), (2954, 0.0), (2955, 0.0), (2956, 0.0), (2957, 0.0), (2958, 0.0), (2959, 0.0), (2960, 0.0), (2961, 0.01258566533219147), (2962, 0.0), (2963, 0.0), (2964, 0.0065729388313224444), (2965, 0.003644933152061148), (2966, 0.00463578970374348), (2967, 0.0), (2968, 0.0), (2969, 0.013855029948647905), (2970, 0.0), (2971, 0.022066749467116394), (2972, 0.0037397233745523396), (2973, 0.0), (2974, 0.004267644736455839), (2975, 0.008765876381769802), (2976, 0.0032907471902753954), (2977, 0.010147716278555891), (2978, 0.009342868253558154), (2979, 0.0), (2980, 0.009863602632826703), (2981, 0.03188957314383996), (2982, 0.0), (2983, 0.0), (2984, 0.0), (2985, 0.005254824315247735), (2986, 0.004367292127366985), (2987, 0.0), (2988, 0.010422103812976993), (2989, 0.005215232336517521), (2990, 0.0), (2991, 0.0), (2992, 0.0058943093513693446), (2993, 0.0), (2994, 0.0), (2995, 0.020672479491204574), (2996, 0.0131254038133067), (2997, 0.0), (2998, 0.00535209573946284), (2999, 0.003950859093414042), (3000, 0.015162467402916767), (3001, 0.0), (3002, 0.0), (3003, 0.0), (3004, 0.03480635124072611), (3005, 0.0), (3006, 0.0), (3007, 0.0), (3008, 0.007144678935538313), (3009, 0.0), (3010, 0.022625732133994828), (3011, 0.0), (3012, 0.004422191676305294), (3013, 0.004047860833033015), (3014, 0.003568345649387871), (3015, 0.004768987646928211), (3016, 0.0), (3017, 0.028435878127567385), (3018, 0.0), (3019, 0.015079826951520202), (3020, 0.0), (3021, 0.0), (3022, 0.0), (3023, 0.04372279606860139), (3024, 0.00312694951500246), (3025, 0.0), (3026, 0.0), (3027, 0.003422679042743795), (3028, 0.0035244588702505538), (3029, 0.0), (3030, 0.0), (3031, 0.0), (3032, 0.004236875676982673), (3033, 0.006253305566658993), (3034, 0.0), (3035, 0.0), (3036, 0.018727391375056794), (3037, 0.004090454066447993), (3038, 0.0), (3039, 0.007033641238008274), (3040, 0.0), (3041, 0.0), (3042, 0.0), (3043, 0.013795715741881084), (3044, 0.0042095996567035315), (3045, 0.024752596505057765), (3046, 0.005990917391951753), (3047, 0.0), (3048, 0.0), (3049, 0.0), (3050, 0.0035868191160352775), (3051, 0.0051667720418251475), (3052, 0.0), (3053, 0.07776969822856043), (3054, 0.0), (3055, 0.0), (3056, 0.003178801032497781), (3057, 0.0), (3058, 0.0), (3059, 0.0), (3060, 0.0), (3061, 0.0), (3062, 0.004338400174834417), (3063, 0.0), (3064, 0.0), (3065, 0.008882740731526789), (3066, 0.006167648378655011), (3067, 0.009975133871028734), (3068, 0.0), (3069, 0.0), (3070, 0.008080011611280151), (3071, 0.003453490701620481), (3072, 0.004486013255232764), (3073, 0.0), (3074, 0.0047142780090269586), (3075, 0.003936835196337105), (3076, 0.004876076137498714), (3077, 0.0), (3078, 0.0), (3079, 0.0), (3080, 0.0), (3081, 0.004593139481678037), (3082, 0.0), (3083, 0.022375602417162112), (3084, 0.0), (3085, 0.005949606302221761), (3086, 0.013171070472187624), (3087, 0.0), (3088, 0.0), (3089, 0.0), (3090, 0.0), (3091, 0.044124754667280185), (3092, 0.0), (3093, 0.0), (3094, 0.01148332944714176), (3095, 0.015793354202986318), (3096, 0.008656669005592973), (3097, 0.003963451985854085), (3098, 0.015883109398260913), (3099, 0.0080422608004629), (3100, 0.0), (3101, 0.0), (3102, 0.033212465491420096), (3103, 0.0), (3104, 0.0), (3105, 0.0), (3106, 0.0), (3107, 0.0), (3108, 0.008844226444521371), (3109, 0.0), (3110, 0.009514745087109559), (3111, 0.018745964200483675), (3112, 0.004040257648603288), (3113, 0.0), (3114, 0.005871469101772041), (3115, 0.0), (3116, 0.004149510145771365), (3117, 0.0), (3118, 0.00856637696366869), (3119, 0.012108881725572396), (3120, 0.0034216934635041686), (3121, 0.0), (3122, 0.003680881480136098), (3123, 0.004430693813118649), (3124, 0.0), (3125, 0.0038099567944302293), (3126, 0.0), (3127, 0.027902765774481558), (3128, 0.0), (3129, 0.012877007353404303), (3130, 0.0), (3131, 0.0), (3132, 0.0), (3133, 0.0), (3134, 0.0), (3135, 0.0), (3136, 0.0), (3137, 0.003347286932140271), (3138, 0.0), (3139, 0.0), (3140, 0.004803637802751516), (3141, 0.0), (3142, 0.012033713243485039), (3143, 0.0), (3144, 0.0188159139346378), (3145, 0.0), (3146, 0.004095554458800916), (3147, 0.003458781795377169), (3148, 0.004189850441543633), (3149, 0.0), (3150, 0.0), (3151, 0.00979686650832578), (3152, 0.00814304236957213), (3153, 0.01929393893094985), (3154, 0.02598005451743458), (3155, 0.008978185428130685), (3156, 0.023998351084066647), (3157, 0.027089551124300892), (3158, 0.0), (3159, 0.0), (3160, 0.0), (3161, 0.0), (3162, 0.0), (3163, 0.0), (3164, 0.005249076665164603), (3165, 0.0044115507241049064), (3166, 0.005022472644697464), (3167, 0.023775046882931618), (3168, 0.0), (3169, 0.0), (3170, 0.003687095951277405), (3171, 0.01232953638750136), (3172, 0.0), (3173, 0.0), (3174, 0.0), (3175, 0.0), (3176, 0.0), (3177, 0.0), (3178, 0.005735318663945867), (3179, 0.0), (3180, 0.0), (3181, 0.0), (3182, 0.0038098306824732465), (3183, 0.004052020802723124), (3184, 0.0038725181865632272), (3185, 0.0), (3186, 0.0), (3187, 0.0040814832881308225), (3188, 0.0), (3189, 0.0), (3190, 0.0), (3191, 0.0), (3192, 0.009601546009623443), (3193, 0.0), (3194, 0.0035667216538296694), (3195, 0.003659543691336517), (3196, 0.004128660511900141), (3197, 0.0), (3198, 0.004041128174039198), (3199, 0.002955690636909211), (3200, 0.003187473417366562), (3201, 0.0), (3202, 0.0), (3203, 0.04945999346131304), (3204, 0.0), (3205, 0.004968266911303906), (3206, 0.0), (3207, 0.0), (3208, 0.0), (3209, 0.03972057048481249), (3210, 0.013322396963206539), (3211, 0.0), (3212, 0.0), (3213, 0.012531164172700985), (3214, 0.003848645081124826), (3215, 0.0054142859393827665), (3216, 0.0), (3217, 0.0), (3218, 0.01079054112088543), (3219, 0.004850084111757696), (3220, 0.0035872721237298092), (3221, 0.0), (3222, 0.020274366895407722), (3223, 0.0), (3224, 0.0), (3225, 0.0), (3226, 0.014876993077771822), (3227, 0.0038851767256729607), (3228, 0.01167958472605629), (3229, 0.0), (3230, 0.0), (3231, 0.0), (3232, 0.008308534663740912), (3233, 0.0038719968950500063), (3234, 0.004065693798762941), (3235, 0.00400080495052184), (3236, 0.0), (3237, 0.0098612784673843), (3238, 0.0), (3239, 0.0), (3240, 0.009479440313712029), (3241, 0.00385560455644013), (3242, 0.0), (3243, 0.0), (3244, 0.005714578176240003), (3245, 0.009200586552133233), (3246, 0.005914082500761025), (3247, 0.0), (3248, 0.031177898125711593), (3249, 0.042188901293684376), (3250, 0.0), (3251, 0.0), (3252, 0.0), (3253, 0.013994344420697767), (3254, 0.003240088919486819), (3255, 0.033561373420943896), (3256, 0.0074242802891505985), (3257, 0.005252806647211398), (3258, 0.00425166742925599), (3259, 0.009331435628953973), (3260, 0.024870066224112707), (3261, 0.0), (3262, 0.005129846234360378), (3263, 0.0), (3264, 0.0066472126162750505), (3265, 0.0063226468669846745), (3266, 0.0), (3267, 0.00816380488868591), (3268, 0.003740377594618617), (3269, 0.0), (3270, 0.0), (3271, 0.0), (3272, 0.0), (3273, 0.004070005758088888), (3274, 0.004316353993622751), (3275, 0.015438614487586709), (3276, 0.04228639626367811), (3277, 0.0), (3278, 0.0035149061321366063), (3279, 0.012921270963454374), (3280, 0.030647730573199344), (3281, 0.0), (3282, 0.004630824636763593), (3283, 0.0), (3284, 0.014863841578051649), (3285, 0.023312930978624885), (3286, 0.0), (3287, 0.0), (3288, 0.006231805332846334), (3289, 0.0), (3290, 0.0), (3291, 0.005338095069706449), (3292, 0.0), (3293, 0.003560479975142373), (3294, 0.04632961725062614), (3295, 0.014447214419042984), (3296, 0.004284539245489536), (3297, 0.012647009130507265), (3298, 0.0035745528221045116), (3299, 0.012304059227649435), (3300, 0.003533560000268396), (3301, 0.003174019720417553), (3302, 0.004421869683077387), (3303, 0.003810001919821172), (3304, 0.0033841741228568013), (3305, 0.0), (3306, 0.016103236268720365), (3307, 0.0), (3308, 0.004347532669784979), (3309, 0.006017888275288236), (3310, 0.0), (3311, 0.003456167202515915), (3312, 0.009908622112886224), (3313, 0.029065194622605314), (3314, 0.003903919262521996), (3315, 0.03456188736673738), (3316, 0.007814261306554798), (3317, 0.010337369673797472), (3318, 0.0033786420117685777), (3319, 0.021734897670541417), (3320, 0.0), (3321, 0.0), (3322, 0.0), (3323, 0.0), (3324, 0.0), (3325, 0.006081886135857148), (3326, 0.0039043165498930388), (3327, 0.003326887675709419), (3328, 0.014014658418937311), (3329, 0.005678593357562648), (3330, 0.003755677713124579), (3331, 0.0032363709979047793), (3332, 0.0), (3333, 0.0), (3334, 0.05249566683307868), (3335, 0.0), (3336, 0.0), (3337, 0.0), (3338, 0.0), (3339, 0.0), (3340, 0.0), (3341, 0.0), (3342, 0.003473900227406353), (3343, 0.0), (3344, 0.023275730604383822), (3345, 0.021942373443318296), (3346, 0.009995404474172808), (3347, 0.003155188613682599), (3348, 0.0), (3349, 0.003961052153970899), (3350, 0.0), (3351, 0.03505992996888455), (3352, 0.020359126987493256), (3353, 0.003907954426365042), (3354, 0.0), (3355, 0.004439279751365741), (3356, 0.013621886139271967), (3357, 0.004445896961815376), (3358, 0.0), (3359, 0.004436709088772463), (3360, 0.014312850808388984), (3361, 0.0), (3362, 0.036775345613284015), (3363, 0.00453582180346934), (3364, 0.004339147188533366), (3365, 0.0026887652664633528), (3366, 0.0), (3367, 0.0), (3368, 0.0), (3369, 0.0), (3370, 0.011738453707194708), (3371, 0.0), (3372, 0.0), (3373, 0.00970491545491959), (3374, 0.013274903205742167), (3375, 0.01496925986374698), (3376, 0.028554183180070136), (3377, 0.02762777803009476), (3378, 0.0), (3379, 0.003582969291963933), (3380, 0.0033387868206506657), (3381, 0.0), (3382, 0.009062961184062426), (3383, 0.0), (3384, 0.007167814548051904), (3385, 0.05387111863940714), (3386, 0.010368302945333963), (3387, 0.0067899898839664545), (3388, 0.0038724464286502176), (3389, 0.009154532933289458), (3390, 0.0), (3391, 0.004142208175571387), (3392, 0.0), (3393, 0.00328092898213351), (3394, 0.0), (3395, 0.04663319704943929), (3396, 0.0), (3397, 0.0), (3398, 0.0), (3399, 0.009478950547250682), (3400, 0.0), (3401, 0.0), (3402, 0.003679989687988373), (3403, 0.01874745474789171), (3404, 0.0), (3405, 0.0), (3406, 0.004001506468702393), (3407, 0.00961314530229356), (3408, 0.043842267461939845), (3409, 0.008647697029718033), (3410, 0.005072921267175215), (3411, 0.0), (3412, 0.0), (3413, 0.004359855665454082), (3414, 0.0), (3415, 0.0), (3416, 0.006224010222238471), (3417, 0.004113716015915965), (3418, 0.007872045462707455), (3419, 0.0), (3420, 0.028028910644082524), (3421, 0.012771642812398133), (3422, 0.0), (3423, 0.007322003169309003), (3424, 0.0), (3425, 0.0042189273807099106), (3426, 0.005968756109010398), (3427, 0.04155114708941075), (3428, 0.02569339409880278), (3429, 0.0), (3430, 0.03223151611639163), (3431, 0.0), (3432, 0.0), (3433, 0.01808291869217866), (3434, 0.0), (3435, 0.003728665465112171), (3436, 0.003763773220877768), (3437, 0.013288602084288888), (3438, 0.0), (3439, 0.0), (3440, 0.0), (3441, 0.0), (3442, 0.0), (3443, 0.0), (3444, 0.0), (3445, 0.0037508500870767174), (3446, 0.017905148689448255), (3447, 0.02603806446153663), (3448, 0.0), (3449, 0.003920607067450784), (3450, 0.0594770762114164), (3451, 0.0), (3452, 0.0), (3453, 0.010094910230218785), (3454, 0.0), (3455, 0.0), (3456, 0.004305814043851944), (3457, 0.006538241508153658), (3458, 0.004569703793253948), (3459, 0.0), (3460, 0.0034767916518495504), (3461, 0.0), (3462, 0.015921401353758212), (3463, 0.034055807947516205), (3464, 0.0), (3465, 0.008335033571003998), (3466, 0.013948202829812883), (3467, 0.0), (3468, 0.0), (3469, 0.01930212041761791), (3470, 0.02911893417434233), (3471, 0.01842093820447487), (3472, 0.0), (3473, 0.0), (3474, 0.0033451761631170945), (3475, 0.0), (3476, 0.0), (3477, 0.0036715104769038114), (3478, 0.0), (3479, 0.0048551980075735475), (3480, 0.07110712210258172), (3481, 0.0), (3482, 0.0), (3483, 0.01929415558877113), (3484, 0.0), (3485, 0.0), (3486, 0.0334511055370802), (3487, 0.003633641445044779), (3488, 0.024601153422707543), (3489, 0.0), (3490, 0.0), (3491, 0.0), (3492, 0.02131755558543566), (3493, 0.003930442318672386), (3494, 0.0), (3495, 0.0), (3496, 0.003919209407999406), (3497, 0.0), (3498, 0.03257808456627992), (3499, 0.0), (3500, 0.0036974585967811165), (3501, 0.0038998793929406333), (3502, 0.0), (3503, 0.0035021505385215727), (3504, 0.017867778344296495), (3505, 0.0), (3506, 0.004210608224504922), (3507, 0.0), (3508, 0.012451087233033998), (3509, 0.0054651187704909615), (3510, 0.0), (3511, 0.037258550918553304), (3512, 0.006063712965017412), (3513, 0.0), (3514, 0.0), (3515, 0.006687023029672398), (3516, 0.0038370705355271666), (3517, 0.0), (3518, 0.047148182546499426), (3519, 0.0), (3520, 0.0), (3521, 0.004494545938366667), (3522, 0.0), (3523, 0.0), (3524, 0.01141582166299061), (3525, 0.0), (3526, 0.0038378800968594737), (3527, 0.004000244908150335), (3528, 0.01648791481093855), (3529, 0.0), (3530, 0.0), (3531, 0.0), (3532, 0.0), (3533, 0.0), (3534, 0.0031246888768787784), (3535, 0.010553008008658556), (3536, 0.006308683373008201), (3537, 0.0), (3538, 0.0), (3539, 0.0), (3540, 0.0), (3541, 0.016235553715114155), (3542, 0.003824710515805065), (3543, 0.0), (3544, 0.0), (3545, 0.0), (3546, 0.0028106687312671385), (3547, 0.0), (3548, 0.0), (3549, 0.0), (3550, 0.0), (3551, 0.0038543869414776086), (3552, 0.046558191814761986), (3553, 0.019284047709895127), (3554, 0.0), (3555, 0.0), (3556, 0.029523135872267597), (3557, 0.0036694532283571913), (3558, 0.015610296382013125), (3559, 0.025367813278159238), (3560, 0.004245055544627484), (3561, 0.0), (3562, 0.0), (3563, 0.0034682613450293448), (3564, 0.00381489931284659), (3565, 0.0), (3566, 0.006146702502080546), (3567, 0.0), (3568, 0.0), (3569, 0.0033263114819393593), (3570, 0.0), (3571, 0.003766025589058817), (3572, 0.031630477597398794), (3573, 0.0), (3574, 0.028149863430127327), (3575, 0.00321774255437968), (3576, 0.0), (3577, 0.004423305835098286), (3578, 0.0), (3579, 0.009054742134580308), (3580, 0.014627751415987437), (3581, 0.0), (3582, 0.008531295820466684), (3583, 0.0), (3584, 0.0), (3585, 0.0), (3586, 0.009412171110599322), (3587, 0.0), (3588, 0.0), (3589, 0.0), (3590, 0.00426277483218644), (3591, 0.0), (3592, 0.0), (3593, 0.0), (3594, 0.006329998633695907), (3595, 0.0), (3596, 0.006532360433850937), (3597, 0.014829549160129256), (3598, 0.005657966805417144), (3599, 0.006481052051681219), (3600, 0.0), (3601, 0.004083152391641305), (3602, 0.0), (3603, 0.0), (3604, 0.0), (3605, 0.0), (3606, 0.0), (3607, 0.0), (3608, 0.0), (3609, 0.0), (3610, 0.0), (3611, 0.0), (3612, 0.013187116073748744), (3613, 0.0047320568626623176), (3614, 0.0034675750689892298), (3615, 0.0), (3616, 0.0), (3617, 0.0), (3618, 0.0041154430713318865), (3619, 0.0), (3620, 0.004540592510522189), (3621, 0.0), (3622, 0.0), (3623, 0.0038967192595432175), (3624, 0.0038498616493516675), (3625, 0.0), (3626, 0.002902371010442762), (3627, 0.0), (3628, 0.0), (3629, 0.0), (3630, 0.013615330138393136), (3631, 0.0), (3632, 0.006317612118657847), (3633, 0.0), (3634, 0.00906584574519657), (3635, 0.004969309079608231), (3636, 0.0), (3637, 0.011218873588798386), (3638, 0.004494258013419987), (3639, 0.00415654396733866), (3640, 0.004180919538840041), (3641, 0.0036808166328248693), (3642, 0.009129592131057275), (3643, 0.010367093727296793), (3644, 0.0), (3645, 0.010406648090008387), (3646, 0.003569581821695794), (3647, 0.0), (3648, 0.006450032781677155), (3649, 0.0), (3650, 0.0), (3651, 0.0), (3652, 0.036284957197225895), (3653, 0.0038203368889862493), (3654, 0.003885629182462996), (3655, 0.056061663065172115), (3656, 0.029566714597047725), (3657, 0.0032641810550552096), (3658, 0.0), (3659, 0.00934567534071603), (3660, 0.003546452105852834), (3661, 0.007182531494259948), (3662, 0.0), (3663, 0.0), (3664, 0.0), (3665, 0.017249284717971724), (3666, 0.0038575804110474506), (3667, 0.010510858057479679), (3668, 0.0), (3669, 0.0034989143199383693), (3670, 0.008950371174690757), (3671, 0.0), (3672, 0.0), (3673, 0.003761656255549994), (3674, 0.0), (3675, 0.015383840442244279), (3676, 0.0), (3677, 0.0), (3678, 0.0), (3679, 0.0), (3680, 0.004307186242755193), (3681, 0.0), (3682, 0.0), (3683, 0.0), (3684, 0.015142683835011236), (3685, 0.0), (3686, 0.0), (3687, 0.0), (3688, 0.0), (3689, 0.010279024240254776), (3690, 0.0), (3691, 0.0), (3692, 0.02017399208160385), (3693, 0.0), (3694, 0.013647431772860158), (3695, 0.0), (3696, 0.00359810024437686), (3697, 0.0), (3698, 0.0), (3699, 0.009278047447606264), (3700, 0.0), (3701, 0.0), (3702, 0.0), (3703, 0.0), (3704, 0.004034972745798803), (3705, 0.0034267598775920807), (3706, 0.0035887608028382844), (3707, 0.003798942975037577), (3708, 0.010350708517183055), (3709, 0.0), (3710, 0.0), (3711, 0.02150587686141643), (3712, 0.0), (3713, 0.00526972898729644), (3714, 0.0), (3715, 0.0), (3716, 0.0), (3717, 0.0), (3718, 0.0), (3719, 0.0), (3720, 0.02605348116309527), (3721, 0.0), (3722, 0.0), (3723, 0.0), (3724, 0.0), (3725, 0.0), (3726, 0.0), (3727, 0.003784137835756774), (3728, 0.05745372858476644), (3729, 0.0), (3730, 0.0), (3731, 0.035240080841849916), (3732, 0.0), (3733, 0.0063761822099048255), (3734, 0.003598835782324209), (3735, 0.0), (3736, 0.0), (3737, 0.0), (3738, 0.0), (3739, 0.003669353377461929), (3740, 0.0), (3741, 0.010471386783819247), (3742, 0.0033990829360232076), (3743, 0.0), (3744, 0.0), (3745, 0.0043014115756399764), (3746, 0.0), (3747, 0.006479147522752961), (3748, 0.005548918142276963), (3749, 0.004065479097684882), (3750, 0.013000888292800923), (3751, 0.026186224125748957), (3752, 0.005629510500692697), (3753, 0.04591585032908362), (3754, 0.00425088885192439), (3755, 0.0034239411200045968), (3756, 0.01053719239409565), (3757, 0.0), (3758, 0.0), (3759, 0.0), (3760, 0.0), (3761, 0.0), (3762, 0.0), (3763, 0.004609882289666544), (3764, 0.0), (3765, 0.0038450828537136303), (3766, 0.004641112228824255), (3767, 0.008965135690141264), (3768, 0.0), (3769, 0.0), (3770, 0.0), (3771, 0.003951321721237861), (3772, 0.004382886506234053), (3773, 0.0), (3774, 0.0), (3775, 0.0), (3776, 0.0), (3777, 0.013138975764092285), (3778, 0.021953860591524103), (3779, 0.046790227085501165), (3780, 0.004036249028432671), (3781, 0.0), (3782, 0.0), (3783, 0.0), (3784, 0.009823067265651552), (3785, 0.0), (3786, 0.0), (3787, 0.0), (3788, 0.0), (3789, 0.0), (3790, 0.0), (3791, 0.0), (3792, 0.0), (3793, 0.03875875227021981), (3794, 0.008338012485553528), (3795, 0.0), (3796, 0.0), (3797, 0.01103005361056851), (3798, 0.0), (3799, 0.0037535288166037134), (3800, 0.0), (3801, 0.022800359320391744), (3802, 0.0), (3803, 0.0), (3804, 0.0), (3805, 0.0), (3806, 0.0), (3807, 0.0037597179737370616), (3808, 0.0), (3809, 0.0038677556461210842), (3810, 0.019010002617482483), (3811, 0.003681886115396426), (3812, 0.0), (3813, 0.004077415992530592), (3814, 0.0), (3815, 0.0), (3816, 0.0), (3817, 0.0), (3818, 0.0), (3819, 0.0036040261684973634), (3820, 0.0), (3821, 0.005309579514776731), (3822, 0.01067234626525665), (3823, 0.0), (3824, 0.0), (3825, 0.005791272549152579), (3826, 0.009507592846213112), (3827, 0.004181237309948019), (3828, 0.01556097302503041), (3829, 0.009182246221228645), (3830, 0.0), (3831, 0.0), (3832, 0.00467042396861958), (3833, 0.0), (3834, 0.0), (3835, 0.026184027893340903), (3836, 0.0), (3837, 0.0), (3838, 0.0), (3839, 0.02267946016765499), (3840, 0.0), (3841, 0.0), (3842, 0.008166131166193214), (3843, 0.0), (3844, 0.0), (3845, 0.003995004112001254), (3846, 0.0), (3847, 0.0), (3848, 0.0), (3849, 0.0), (3850, 0.026632828328541146), (3851, 0.0), (3852, 0.023364365977981857), (3853, 0.013883865702644655), (3854, 0.011644464252551745), (3855, 0.003145883998305944), (3856, 0.0), (3857, 0.01609940297117171), (3858, 0.0), (3859, 0.0), (3860, 0.008019989025344657), (3861, 0.013802757920483083), (3862, 0.013565728148304885), (3863, 0.0), (3864, 0.005920910897050465), (3865, 0.005713557401245153), (3866, 0.004348645979534938), (3867, 0.038727560422371785), (3868, 0.026525580753853518), (3869, 0.0), (3870, 0.0), (3871, 0.02698990311928725), (3872, 0.0), (3873, 0.004064802300341304), (3874, 0.0), (3875, 0.01840682657850807), (3876, 0.0036842371244851925), (3877, 0.0), (3878, 0.0), (3879, 0.0), (3880, 0.008997278426017614), (3881, 0.0), (3882, 0.0037891648264185298), (3883, 0.004228936666351749), (3884, 0.0), (3885, 0.0), (3886, 0.0), (3887, 0.0), (3888, 0.0037496676345446164), (3889, 0.0), (3890, 0.003680997542751944), (3891, 0.0), (3892, 0.004768788063297202), (3893, 0.004144247414974508), (3894, 0.0), (3895, 0.016419951156273302), (3896, 0.0), (3897, 0.0), (3898, 0.0035883180170297826), (3899, 0.0), (3900, 0.003752384597222983), (3901, 0.004502439444358476), (3902, 0.004080719610179699), (3903, 0.011437534537394663), (3904, 0.029324154664165093), (3905, 0.0), (3906, 0.0), (3907, 0.0), (3908, 0.0), (3909, 0.005904413766853028), (3910, 0.0034457867862130558), (3911, 0.0), (3912, 0.0), (3913, 0.02461184067045732), (3914, 0.0), (3915, 0.004024543197655025), (3916, 0.0), (3917, 0.003778445121740267), (3918, 0.0), (3919, 0.010653730578925456), (3920, 0.0040575475311582145), (3921, 0.0), (3922, 0.004826525211684484), (3923, 0.021468929059054814), (3924, 0.013598191809365948), (3925, 0.005502114743442858), (3926, 0.006220083092575776), (3927, 0.021381204835221566), (3928, 0.00329009804100837), (3929, 0.0), (3930, 0.0), (3931, 0.0), (3932, 0.006931317965596034), (3933, 0.0), (3934, 0.01858210594935768), (3935, 0.0), (3936, 0.0), (3937, 0.0), (3938, 0.0), (3939, 0.0), (3940, 0.0051407682391231635), (3941, 0.008083351900502382), (3942, 0.0), (3943, 0.0), (3944, 0.0), (3945, 0.0), (3946, 0.05261427558543517), (3947, 0.03816673057628383), (3948, 0.0), (3949, 0.0), (3950, 0.0), (3951, 0.007416277226941288), (3952, 0.004437738363872808), (3953, 0.003603300332215518), (3954, 0.009287270867889745), (3955, 0.03838842167762284), (3956, 0.0033582925670364717), (3957, 0.005357045322157727), (3958, 0.014784863672391712), (3959, 0.01335755330037594), (3960, 0.004136328544295494), (3961, 0.02593777171312768), (3962, 0.0041981161525171925), (3963, 0.0), (3964, 0.0), (3965, 0.0), (3966, 0.0), (3967, 0.0), (3968, 0.0), (3969, 0.0), (3970, 0.0), (3971, 0.0), (3972, 0.0), (3973, 0.04614109041999151), (3974, 0.0035164028553383523), (3975, 0.0), (3976, 0.016544496095702788), (3977, 0.0), (3978, 0.01751121694173428), (3979, 0.0), (3980, 0.0), (3981, 0.0), (3982, 0.0), (3983, 0.03563646695985248), (3984, 0.004099867333692982), (3985, 0.0), (3986, 0.0), (3987, 0.0), (3988, 0.0), (3989, 0.0), (3990, 0.005002929751176787), (3991, 0.0), (3992, 0.014305020046283786), (3993, 0.008159280041455854), (3994, 0.0), (3995, 0.0), (3996, 0.0), (3997, 0.0), (3998, 0.006111527510860799), (3999, 0.0), (4000, 0.008896260392386023), (4001, 0.006388407665819475), (4002, 0.0), (4003, 0.0), (4004, 0.024000569033717098), (4005, 0.03189717255423493), (4006, 0.0), (4007, 0.008267781342193284), (4008, 0.0065869326840971845), (4009, 0.005839238139121341), (4010, 0.0), (4011, 0.0035949957203378147), (4012, 0.017365201972850405), (4013, 0.0), (4014, 0.004035180915486504), (4015, 0.0), (4016, 0.021954980645808107), (4017, 0.0), (4018, 0.0), (4019, 0.0), (4020, 0.003642214085952291), (4021, 0.0), (4022, 0.0), (4023, 0.0), (4024, 0.004073899322073122), (4025, 0.010240921104794437), (4026, 0.0), (4027, 0.0), (4028, 0.0), (4029, 0.0), (4030, 0.0), (4031, 0.0), (4032, 0.007187087143266354), (4033, 0.003906587815355154), (4034, 0.0), (4035, 0.0317301629306163), (4036, 0.003685338346420563), (4037, 0.0), (4038, 0.003930018684452644), (4039, 0.0), (4040, 0.0), (4041, 0.0), (4042, 0.0), (4043, 0.0), (4044, 0.0), (4045, 0.0), (4046, 0.0039878499973086635), (4047, 0.0), (4048, 0.009990331717465892), (4049, 0.0), (4050, 0.016660019944883787), (4051, 0.004261055631169458), (4052, 0.006663531395006186), (4053, 0.01852651607447004), (4054, 0.003816724311835998), (4055, 0.005634375176145164), (4056, 0.003853564518259287), (4057, 0.005701080129687284), (4058, 0.0), (4059, 0.0), (4060, 0.008456870182553715), (4061, 0.006670222885137589), (4062, 0.05211631434332531), (4063, 0.0), (4064, 0.038756005877627175), (4065, 0.0), (4066, 0.003385846184184971), (4067, 0.0), (4068, 0.012456090313850861), (4069, 0.003603752772094419), (4070, 0.0), (4071, 0.0), (4072, 0.0), (4073, 0.0), (4074, 0.0033136904775312366), (4075, 0.0), (4076, 0.0), (4077, 0.0067769163453586054), (4078, 0.0), (4079, 0.004018103412220397), (4080, 0.0), (4081, 0.014840843781867438), (4082, 0.005320866192662468), (4083, 0.0), (4084, 0.0), (4085, 0.0035652200204751806), (4086, 0.0), (4087, 0.0041780400086011546), (4088, 0.017726410417130054), (4089, 0.0), (4090, 0.0), (4091, 0.0), (4092, 0.004191649321034798), (4093, 0.0), (4094, 0.0), (4095, 0.010675671910301452), (4096, 0.007602693256643235), (4097, 0.0), (4098, 0.00407457171624486), (4099, 0.006168780005377172), (4100, 0.0), (4101, 0.004133199886199255), (4102, 0.0), (4103, 0.0), (4104, 0.02318574190110463), (4105, 0.0), (4106, 0.005800307136699596), (4107, 0.0), (4108, 0.0), (4109, 0.0), (4110, 0.005957703917597485), (4111, 0.004038010636451647), (4112, 0.0), (4113, 0.004102052314014097), (4114, 0.0), (4115, 0.0), (4116, 0.004079842139159006), (4117, 0.004416466635020339), (4118, 0.009883745268100937), (4119, 0.0), (4120, 0.0), (4121, 0.009912385491091757), (4122, 0.0), (4123, 0.003960351831186762), (4124, 0.008779382992679812), (4125, 0.0), (4126, 0.0), (4127, 0.0), (4128, 0.025025247392057172), (4129, 0.0), (4130, 0.0041491627870861416), (4131, 0.0), (4132, 0.0), (4133, 0.004171058353519933), (4134, 0.008945447437419261), (4135, 0.0037278043623631706), (4136, 0.0), (4137, 0.03924361941131737), (4138, 0.004113614806293948), (4139, 0.0), (4140, 0.0), (4141, 0.030729100704199805), (4142, 0.0), (4143, 0.003385889715552263), (4144, 0.0), (4145, 0.0), (4146, 0.0), (4147, 0.0), (4148, 0.0), (4149, 0.018120795341642244), (4150, 0.0), (4151, 0.0032383469635582545), (4152, 0.033855507827135124), (4153, 0.0), (4154, 0.0035594485118218755), (4155, 0.0), (4156, 0.01938577557945771), (4157, 0.0), (4158, 0.005385259925023967), (4159, 0.0), (4160, 0.004202905425055258), (4161, 0.0), (4162, 0.0), (4163, 0.004547033361860745), (4164, 0.007982804783910944), (4165, 0.03242152792700281), (4166, 0.0), (4167, 0.0), (4168, 0.0), (4169, 0.0), (4170, 0.0), (4171, 0.0026656953805026195), (4172, 0.0), (4173, 0.0), (4174, 0.0), (4175, 0.0), (4176, 0.017443969233128586), (4177, 0.02888607445246794), (4178, 0.003800865603235453), (4179, 0.0), (4180, 0.0), (4181, 0.0), (4182, 0.008061134963870602), (4183, 0.003685434349335553), (4184, 0.0), (4185, 0.0), (4186, 0.0), (4187, 0.004076247844682487), (4188, 0.0), (4189, 0.018295780424862254), (4190, 0.0), (4191, 0.0), (4192, 0.011911892499104706), (4193, 0.0), (4194, 0.0), (4195, 0.031543536729283866), (4196, 0.006877977216145404), (4197, 0.0), (4198, 0.0), (4199, 0.0), (4200, 0.0), (4201, 0.0), (4202, 0.005275485537708585), (4203, 0.01131148415647822), (4204, 0.0), (4205, 0.00952137249600601), (4206, 0.0), (4207, 0.0), (4208, 0.0), (4209, 0.0), (4210, 0.006343510020362497), (4211, 0.0), (4212, 0.0), (4213, 0.0), (4214, 0.0), (4215, 0.0), (4216, 0.008607795894015547), (4217, 0.0060192842083108735), (4218, 0.0), (4219, 0.0), (4220, 0.0), (4221, 0.0), (4222, 0.0), (4223, 0.0), (4224, 0.0), (4225, 0.0), (4226, 0.006834018965233923), (4227, 0.009536769001987728), (4228, 0.0), (4229, 0.0), (4230, 0.0), (4231, 0.013331133581851524), (4232, 0.007786088627110025), (4233, 0.00923716075354894), (4234, 0.0), (4235, 0.008552824926316174), (4236, 0.006075666229387342), (4237, 0.0), (4238, 0.0), (4239, 0.0), (4240, 0.0), (4241, 0.0), (4242, 0.010810083319642432), (4243, 0.004481593424626756), (4244, 0.00439833019548006), (4245, 0.0), (4246, 0.016779945112638715), (4247, 0.0032983391307580025), (4248, 0.0), (4249, 0.004012714707541468), (4250, 0.0), (4251, 0.0), (4252, 0.0), (4253, 0.0), (4254, 0.0), (4255, 0.01007999225292075), (4256, 0.0), (4257, 0.00939797433543068), (4258, 0.0), (4259, 0.004009291435859013), (4260, 0.0), (4261, 0.006520832702599341), (4262, 0.0), (4263, 0.0), (4264, 0.0), (4265, 0.0), (4266, 0.0037818767289015736), (4267, 0.0), (4268, 0.05083287988803892), (4269, 0.004261358892882494), (4270, 0.0), (4271, 0.0), (4272, 0.005913113344059759), (4273, 0.0), (4274, 0.0), (4275, 0.0), (4276, 0.0), (4277, 0.0), (4278, 0.0), (4279, 0.0), (4280, 0.0), (4281, 0.017201530584288947), (4282, 0.003521881833926559), (4283, 0.021351615053856233), (4284, 0.0037883504140748593), (4285, 0.0), (4286, 0.003974389543967003), (4287, 0.0038101174564038297), (4288, 0.01693710191425258), (4289, 0.0), (4290, 0.0), (4291, 0.0), (4292, 0.0), (4293, 0.004330932141883518), (4294, 0.0), (4295, 0.004296585605307224), (4296, 0.0), (4297, 0.0), (4298, 0.0), (4299, 0.0), (4300, 0.0), (4301, 0.0), (4302, 0.0), (4303, 0.006176133146512327), (4304, 0.0), (4305, 0.0), (4306, 0.0), (4307, 0.0), (4308, 0.0), (4309, 0.0036496471856022673), (4310, 0.0), (4311, 0.0032226547675890988), (4312, 0.0), (4313, 0.0), (4314, 0.014995478737488207), (4315, 0.0), (4316, 0.0), (4317, 0.0), (4318, 0.0), (4319, 0.0), (4320, 0.0), (4321, 0.017543334033359587), (4322, 0.0), (4323, 0.0), (4324, 0.0), (4325, 0.008225597841513591), (4326, 0.0), (4327, 0.0), (4328, 0.0), (4329, 0.0), (4330, 0.004053021150550022), (4331, 0.0), (4332, 0.0), (4333, 0.004333713650602341), (4334, 0.003816328329055859), (4335, 0.009814353732129216), (4336, 0.010323673361763189), (4337, 0.006660042293113124), (4338, 0.0), (4339, 0.0), (4340, 0.0), (4341, 0.0), (4342, 0.005734362220311641), (4343, 0.0), (4344, 0.008560409076406228), (4345, 0.003597375572214809), (4346, 0.0), (4347, 0.0), (4348, 0.0), (4349, 0.015024002112051323), (4350, 0.003438244041501963), (4351, 0.00685898035348561), (4352, 0.0), (4353, 0.0), (4354, 0.0), (4355, 0.0), (4356, 0.003584755432898149), (4357, 0.003959068494839572), (4358, 0.0), (4359, 0.0), (4360, 0.0), (4361, 0.0), (4362, 0.003675013277668041), (4363, 0.0), (4364, 0.0), (4365, 0.0), (4366, 0.00791136104066333), (4367, 0.006615640331346218), (4368, 0.0042395012192068164), (4369, 0.004247480838540238), (4370, 0.0), (4371, 0.010622821468953592), (4372, 0.0), (4373, 0.004793477636311272), (4374, 0.0117633190874433), (4375, 0.05297281988538418), (4376, 0.0), (4377, 0.0), (4378, 0.03269297471156765), (4379, 0.013135396004097964), (4380, 0.01764624180958845), (4381, 0.0), (4382, 0.02029643984683653), (4383, 0.0), (4384, 0.0), (4385, 0.005370381573416479), (4386, 0.0), (4387, 0.012186360975945464), (4388, 0.006267603401062595), (4389, 0.05282262160647134), (4390, 0.0), (4391, 0.0), (4392, 0.0), (4393, 0.0), (4394, 0.0036214648118823387), (4395, 0.018432537853653688), (4396, 0.0), (4397, 0.0), (4398, 0.053102914716570304), (4399, 0.014124359116023475), (4400, 0.0), (4401, 0.00399100159595177), (4402, 0.026896508280621307), (4403, 0.015526643040174074), (4404, 0.0), (4405, 0.0), (4406, 0.0), (4407, 0.0), (4408, 0.0), (4409, 0.0), (4410, 0.0), (4411, 0.0032522459460923633), (4412, 0.004380933751804213), (4413, 0.0), (4414, 0.0), (4415, 0.0), (4416, 0.0), (4417, 0.0), (4418, 0.0), (4419, 0.0040090326001361596), (4420, 0.003863656167088988), (4421, 0.0), (4422, 0.00392135818755306), (4423, 0.0), (4424, 0.0), (4425, 0.0), (4426, 0.0), (4427, 0.0), (4428, 0.0), (4429, 0.0033865894868536557), (4430, 0.003945565664227353), (4431, 0.0), (4432, 0.003234898222717391), (4433, 0.0), (4434, 0.0), (4435, 0.009182484990142513), (4436, 0.016138972257029927), (4437, 0.0), (4438, 0.0), (4439, 0.0), (4440, 0.007573688839980211), (4441, 0.0), (4442, 0.008489222172637033), (4443, 0.03256361744623622), (4444, 0.004912936640101354), (4445, 0.0), (4446, 0.003888722790636334), (4447, 0.0), (4448, 0.004140141857814396), (4449, 0.0), (4450, 0.024720929015834277), (4451, 0.0), (4452, 0.03647415903412348), (4453, 0.0), (4454, 0.0), (4455, 0.0), (4456, 0.04680846273008478), (4457, 0.0), (4458, 0.0), (4459, 0.005792206162635644), (4460, 0.0), (4461, 0.0), (4462, 0.0), (4463, 0.0), (4464, 0.0), (4465, 0.009891548972174032), (4466, 0.01509342390178703), (4467, 0.006345018374280654), (4468, 0.0), (4469, 0.011101014769186762), (4470, 0.003919644064983105), (4471, 0.0), (4472, 0.00353328142068818), (4473, 0.003464012576068696), (4474, 0.009143385384832552), (4475, 0.012239347889861503), (4476, 0.0), (4477, 0.004475573109721682), (4478, 0.0), (4479, 0.0034952317665424802), (4480, 0.0), (4481, 0.008488752590106292), (4482, 0.014420233761860293), (4483, 0.0), (4484, 0.004838834897598738), (4485, 0.0), (4486, 0.0064024283455168555), (4487, 0.003675838713821547), (4488, 0.036253432965509015), (4489, 0.003972854220764141), (4490, 0.004525122944013041), (4491, 0.0), (4492, 0.01844828791757728), (4493, 0.0), (4494, 0.004198913762540896), (4495, 0.0), (4496, 0.0), (4497, 0.0), (4498, 0.0), (4499, 0.0), (4500, 0.0), (4501, 0.00392566106711692), (4502, 0.011801805330164892), (4503, 0.012361723940411634), (4504, 0.014698029040537658), (4505, 0.0), (4506, 0.0), (4507, 0.004118183726100426), (4508, 0.0), (4509, 0.0), (4510, 0.009181707422775893), (4511, 0.009862184459652007), (4512, 0.009730424282926005), (4513, 0.0), (4514, 0.0), (4515, 0.0), (4516, 0.0043039703740352505), (4517, 0.0039542903865281654), (4518, 0.0), (4519, 0.0), (4520, 0.004021436304065867), (4521, 0.004538451948987999), (4522, 0.004256053143250755), (4523, 0.0034887564313293433), (4524, 0.007553090169719757), (4525, 0.0), (4526, 0.0), (4527, 0.0), (4528, 0.004071078927085605), (4529, 0.0), (4530, 0.0036469577577717474), (4531, 0.009515505932541201), (4532, 0.0), (4533, 0.029818699608679763), (4534, 0.01685272972728419), (4535, 0.004168912423339761), (4536, 0.0035555276966125916), (4537, 0.0), (4538, 0.0), (4539, 0.0), (4540, 0.0), (4541, 0.0), (4542, 0.0), (4543, 0.0), (4544, 0.0), (4545, 0.0), (4546, 0.004796557843128954), (4547, 0.0), (4548, 0.02455070044178556), (4549, 0.0), (4550, 0.0), (4551, 0.013220718212689985), (4552, 0.0), (4553, 0.008276485146222291), (4554, 0.017075385468523656), (4555, 0.005705853547328627), (4556, 0.0), (4557, 0.009195614779699256), (4558, 0.0), (4559, 0.0), (4560, 0.0), (4561, 0.0), (4562, 0.0), (4563, 0.003811455552067793), (4564, 0.006009683210100153), (4565, 0.0), (4566, 0.0038759270411203484), (4567, 0.0), (4568, 0.0), (4569, 0.0), (4570, 0.0), (4571, 0.005674167803239462), (4572, 0.0), (4573, 0.0038886872618831003), (4574, 0.0), (4575, 0.004207106971473452), (4576, 0.005935119837827218), (4577, 0.0), (4578, 0.0), (4579, 0.0), (4580, 0.0), (4581, 0.008869254271859204), (4582, 0.0), (4583, 0.015044893224742222), (4584, 0.0), (4585, 0.0), (4586, 0.0), (4587, 0.0), (4588, 0.039945019726838844), (4589, 0.0043710968923204654), (4590, 0.026546093698661413), (4591, 0.0035611781562838616), (4592, 0.0), (4593, 0.004154470826623222), (4594, 0.035063404873568176), (4595, 0.0), (4596, 0.010810161913423447), (4597, 0.0), (4598, 0.0), (4599, 0.0), (4600, 0.0), (4601, 0.003965694664517002), (4602, 0.02901773760612242), (4603, 0.010256928396232764), (4604, 0.0), (4605, 0.006810270346177131), (4606, 0.0), (4607, 0.0), (4608, 0.021800481235691567), (4609, 0.0), (4610, 0.01581260036053919), (4611, 0.0), (4612, 0.0), (4613, 0.0), (4614, 0.056792515657967294), (4615, 0.0), (4616, 0.0), (4617, 0.005035353878836628), (4618, 0.0), (4619, 0.004464496276051083), (4620, 0.0), (4621, 0.0), (4622, 0.0), (4623, 0.008648412631720396), (4624, 0.004092700036129846), (4625, 0.004062559183896481), (4626, 0.0032076033459705377), (4627, 0.013538120633917622), (4628, 0.0), (4629, 0.0039215164399977525), (4630, 0.0), (4631, 0.0), (4632, 0.004413505725249274), (4633, 0.0), (4634, 0.0), (4635, 0.0), (4636, 0.003256524313212837), (4637, 0.004612062968623591), (4638, 0.00349173446837043), (4639, 0.0), (4640, 0.003725272842384709), (4641, 0.0), (4642, 0.0), (4643, 0.003985480718853092), (4644, 0.0), (4645, 0.0), (4646, 0.0), (4647, 0.0), (4648, 0.0), (4649, 0.005826292655208301), (4650, 0.004199955073515737), (4651, 0.0), (4652, 0.005093521097837382), (4653, 0.0), (4654, 0.0), (4655, 0.0), (4656, 0.00967984185329389), (4657, 0.004148903847421977), (4658, 0.01784633728106047), (4659, 0.0), (4660, 0.004541708755867141), (4661, 0.0), (4662, 0.0), (4663, 0.0), (4664, 0.0), (4665, 0.0), (4666, 0.0), (4667, 0.0), (4668, 0.003848806754049167), (4669, 0.013494312686356747), (4670, 0.003671050405539605), (4671, 0.0), (4672, 0.0), (4673, 0.012104359183317996), (4674, 0.0030123343766857063), (4675, 0.0), (4676, 0.0), (4677, 0.0), (4678, 0.0), (4679, 0.01633454605163055), (4680, 0.0), (4681, 0.0), (4682, 0.047967571568219264), (4683, 0.0), (4684, 0.024133846796305446), (4685, 0.006622624822852807), (4686, 0.0), (4687, 0.0), (4688, 0.0), (4689, 0.0), (4690, 0.0), (4691, 0.0), (4692, 0.0), (4693, 0.0), (4694, 0.0), (4695, 0.0065468775226719044), (4696, 0.0), (4697, 0.0), (4698, 0.0), (4699, 0.004136745068268484), (4700, 0.0), (4701, 0.021630035033714214), (4702, 0.0), (4703, 0.02776735201387405), (4704, 0.0), (4705, 0.0), (4706, 0.004332664641294066), (4707, 0.0), (4708, 0.0), (4709, 0.0), (4710, 0.004954605984205366), (4711, 0.0), (4712, 0.0034379767860854473), (4713, 0.004305394136181374), (4714, 0.0), (4715, 0.0), (4716, 0.0), (4717, 0.0), (4718, 0.004256349121498144), (4719, 0.0), (4720, 0.0), (4721, 0.03129530443508131), (4722, 0.003988238183804151), (4723, 0.004727598715354361), (4724, 0.01043259846038044), (4725, 0.0), (4726, 0.005624771286947688), (4727, 0.03598682660556361), (4728, 0.0), (4729, 0.0), (4730, 0.0), (4731, 0.021942965349166357), (4732, 0.0), (4733, 0.0032717877906651327), (4734, 0.004111295554222253), (4735, 0.010188659764745846), (4736, 0.0), (4737, 0.0), (4738, 0.006143947724354939), (4739, 0.02069982554500462), (4740, 0.0), (4741, 0.0), (4742, 0.0), (4743, 0.0), (4744, 0.0), (4745, 0.0), (4746, 0.0), (4747, 0.009938221057444342), (4748, 0.005479026018864509), (4749, 0.0), (4750, 0.0), (4751, 0.0), (4752, 0.002661605125612507), (4753, 0.0), (4754, 0.0), (4755, 0.0), (4756, 0.0), (4757, 0.0), (4758, 0.0), (4759, 0.0)]\n"
          ]
        }
      ]
    },
    {
      "cell_type": "code",
      "source": [
        "len(Recommendation_Score)"
      ],
      "metadata": {
        "colab": {
          "base_uri": "https://localhost:8080/"
        },
        "id": "LQLwvnBtUCzl",
        "outputId": "f9f68bc6-decf-4dbd-a683-af8d49ca58cf"
      },
      "execution_count": 30,
      "outputs": [
        {
          "output_type": "execute_result",
          "data": {
            "text/plain": [
              "4760"
            ]
          },
          "metadata": {},
          "execution_count": 30
        }
      ]
    },
    {
      "cell_type": "code",
      "source": [
        "#sorting the movies on their similarity score\n",
        "Sorted_Similarity_Movies = sorted(Recommendation_Score,key = lambda x:x[1],reverse = True)\n",
        "print(Sorted_Similarity_Movies)"
      ],
      "metadata": {
        "colab": {
          "base_uri": "https://localhost:8080/"
        },
        "id": "y_vVTFXZUFs1",
        "outputId": "46d0178c-0f8a-44e5-c491-bcf7905d970f"
      },
      "execution_count": 31,
      "outputs": [
        {
          "output_type": "stream",
          "name": "stdout",
          "text": [
            "[(2692, 0.9999999999999999), (110, 0.08195740486074782), (1994, 0.08144186697343063), (1383, 0.0813458431259538), (628, 0.07782347562546076), (3053, 0.07776969822856043), (1341, 0.07717392157086961), (2558, 0.07686717692651969), (1977, 0.07537861825634712), (3480, 0.07110712210258172), (62, 0.06877126058304428), (2538, 0.06844829401915918), (1886, 0.067174259060718), (1118, 0.062325592121086223), (254, 0.061965829647199884), (2903, 0.06136043162106506), (3450, 0.0594770762114164), (1021, 0.05931787002291666), (2112, 0.0589767313850757), (2318, 0.058842599556840416), (3728, 0.05745372858476644), (2026, 0.05691048163932928), (4614, 0.056792515657967294), (3655, 0.056061663065172115), (1134, 0.05499820976290373), (3385, 0.05387111863940714), (4398, 0.053102914716570304), (1243, 0.0530964300030573), (4375, 0.05297281988538418), (4389, 0.05282262160647134), (227, 0.05264968200145985), (3946, 0.05261427558543517), (3334, 0.05249566683307868), (4062, 0.05211631434332531), (2214, 0.051393830280760944), (873, 0.05137041713163419), (4268, 0.05083287988803892), (292, 0.050163024296716804), (137, 0.049552951106454086), (3203, 0.04945999346131304), (2294, 0.04876182616630248), (1809, 0.0480060449940912), (4682, 0.047967571568219264), (1878, 0.047858166951707574), (2579, 0.047728021111385854), (2944, 0.04770250761314459), (1023, 0.04759038732138235), (213, 0.04737383351338188), (1821, 0.04733057406950497), (2550, 0.04729497769388075), (2133, 0.047263999803888665), (3518, 0.047148182546499426), (2191, 0.04706246023996079), (45, 0.046890551121866526), (4456, 0.04680846273008478), (3779, 0.046790227085501165), (3395, 0.04663319704943929), (1070, 0.046612904005117674), (3552, 0.046558191814761986), (3294, 0.04632961725062614), (3973, 0.04614109041999151), (1030, 0.04611305422021393), (408, 0.04605345269090999), (877, 0.0460321198649145), (519, 0.045979873591039874), (3753, 0.04591585032908362), (2653, 0.04588880210069787), (2893, 0.0448676331853519), (328, 0.04480472795993682), (2694, 0.044246524839557995), (479, 0.044137282040169284), (3091, 0.044124754667280185), (3408, 0.043842267461939845), (2630, 0.04379058582461343), (3023, 0.04372279606860139), (2417, 0.043612616615561615), (2530, 0.04340237592531399), (904, 0.04307314034720889), (161, 0.04299512728494489), (1320, 0.04246557303614283), (1850, 0.04233392197274074), (3276, 0.04228639626367811), (2374, 0.042213084203431867), (3249, 0.042188901293684376), (615, 0.042178058941379735), (1647, 0.04179019935306565), (412, 0.04158177581722731), (3427, 0.04155114708941075), (1248, 0.04137751588618972), (1358, 0.04134662963444112), (1506, 0.0411933077000933), (172, 0.04098833552721158), (1871, 0.040962730035055045), (2375, 0.040942550867656774), (67, 0.04062406884638547), (637, 0.04032519631390886), (2859, 0.040225799678974127), (2869, 0.04012261249227621), (438, 0.040117770359875335), (4588, 0.039945019726838844), (1311, 0.03977574354604474), (682, 0.039758646243485206), (185, 0.039744965621600736), (3209, 0.03972057048481249), (830, 0.03969111840728246), (1292, 0.039557457171338524), (4137, 0.03924361941131737), (210, 0.0391409809773798), (2212, 0.039121700458684065), (3793, 0.03875875227021981), (4064, 0.038756005877627175), (3867, 0.038727560422371785), (1241, 0.038660893051306114), (1675, 0.03860588059157164), (2321, 0.03844507682349361), (3955, 0.03838842167762284), (3947, 0.03816673057628383), (1527, 0.0379458651838679), (2122, 0.03773976134441147), (1085, 0.037651922955996855), (89, 0.037607391448293045), (774, 0.03747363036192332), (1369, 0.037274158734264026), (2716, 0.03726068348891465), (3511, 0.037258550918553304), (2316, 0.03697540786844064), (3362, 0.036775345613284015), (108, 0.03660943163889683), (788, 0.03658784694404663), (1676, 0.03655073356744264), (4452, 0.03647415903412348), (387, 0.03637931174408888), (3652, 0.036284957197225895), (4488, 0.036253432965509015), (710, 0.03622637841301389), (44, 0.036213370247967884), (2082, 0.036153262232181176), (4727, 0.03598682660556361), (578, 0.03570919581263062), (1024, 0.03570385025389275), (3983, 0.03563646695985248), (1393, 0.0353900263539787), (3731, 0.035240080841849916), (818, 0.03512972383440589), (2012, 0.035089579505028085), (4594, 0.035063404873568176), (3351, 0.03505992996888455), (2371, 0.03499359538445242), (2540, 0.0348185310637763), (3004, 0.03480635124072611), (2123, 0.03477640934743824), (1389, 0.03467728117936206), (3315, 0.03456188736673738), (1702, 0.034405642729509064), (1885, 0.03433352019007693), (174, 0.034314918816637265), (1379, 0.03419977885517687), (3463, 0.034055807947516205), (4152, 0.033855507827135124), (2365, 0.033719003777833795), (2706, 0.033578266867847845), (2868, 0.03356481818333164), (3255, 0.033561373420943896), (632, 0.033508798073326934), (3486, 0.0334511055370802), (1982, 0.03326191839678874), (2014, 0.03325061809077767), (3102, 0.033212465491420096), (1195, 0.0326942736945909), (4378, 0.03269297471156765), (166, 0.032673633570285035), (126, 0.03260997835259098), (3498, 0.03257808456627992), (4443, 0.03256361744623622), (2622, 0.03248982133886779), (4165, 0.03242152792700281), (694, 0.03240117832356697), (3430, 0.03223151611639163), (903, 0.03206187364595148), (1837, 0.03201009581891257), (2782, 0.03193742155259012), (4005, 0.03189717255423493), (2981, 0.03188957314383996), (1750, 0.03176023152734208), (4035, 0.0317301629306163), (3572, 0.031630477597398794), (65, 0.031578728530921876), (4195, 0.031543536729283866), (540, 0.03143752852304211), (1398, 0.03130589449922978), (4721, 0.03129530443508131), (935, 0.031207114612885615), (812, 0.03118075970155866), (3248, 0.031177898125711593), (1063, 0.03115956434080156), (2517, 0.03090288923595247), (179, 0.030858620723447423), (618, 0.03078424196491305), (4141, 0.030729100704199805), (3280, 0.030647730573199344), (1568, 0.030576936251757784), (1868, 0.03042027491972496), (2887, 0.030407540188810894), (1464, 0.030316679527595813), (2807, 0.030282415592052577), (430, 0.030234958178933218), (1146, 0.03012139890719629), (1795, 0.03012034517654455), (1648, 0.03008348035783432), (2100, 0.02987092022462737), (2198, 0.029861296497183464), (4533, 0.029818699608679763), (3656, 0.029566714597047725), (1367, 0.029534600668867345), (3556, 0.029523135872267597), (2710, 0.02948963896445921), (1405, 0.02947020532552296), (2102, 0.029380324291087348), (3904, 0.029324154664165093), (1272, 0.02925878168151672), (1482, 0.029188454351301796), (3470, 0.02911893417434233), (3313, 0.029065194622605314), (421, 0.02904905510898707), (4602, 0.02901773760612242), (2723, 0.02900836997260498), (2687, 0.02897501735258394), (4177, 0.02888607445246794), (2876, 0.028855450458469344), (1068, 0.0287383797220047), (465, 0.028726103031691257), (2114, 0.028712100252303883), (3376, 0.028554183180070136), (836, 0.028509177278749104), (3017, 0.028435878127567385), (1095, 0.028435035120171433), (2751, 0.02824388090376114), (1046, 0.02823403100037597), (193, 0.02817501941340443), (2920, 0.028168149780561636), (3574, 0.028149863430127327), (25, 0.028059141501387462), (3420, 0.028028910644082524), (911, 0.028018418342585793), (2467, 0.027920181540230175), (3127, 0.027902765774481558), (4703, 0.02776735201387405), (384, 0.027729495428457863), (3377, 0.02762777803009476), (1763, 0.02735923750881085), (2443, 0.027220067049492487), (176, 0.027175328259604753), (3157, 0.027089551124300892), (282, 0.027046874873784744), (3871, 0.02698990311928725), (2908, 0.02698644777956972), (4402, 0.026896508280621307), (112, 0.02685844526416762), (2413, 0.026775053685370833), (3850, 0.026632828328541146), (2020, 0.026610105822813465), (4590, 0.026546093698661413), (3868, 0.026525580753853518), (629, 0.026465351112131823), (459, 0.026446032923904284), (424, 0.02641652035274678), (381, 0.026277174528693624), (1720, 0.026256143599770562), (2037, 0.026206932525124953), (3751, 0.026186224125748957), (3835, 0.026184027893340903), (1999, 0.0260667438568667), (824, 0.026059707471364227), (3720, 0.02605348116309527), (3447, 0.02603806446153663), (1186, 0.02599140312066724), (3154, 0.02598005451743458), (2023, 0.025947955937296388), (3961, 0.02593777171312768), (2762, 0.025932195333190224), (530, 0.025755193511603033), (3428, 0.02569339409880278), (250, 0.025671125642918), (2481, 0.025532940383778985), (1544, 0.025489098824972092), (1043, 0.02542024005841169), (1976, 0.02541109805088632), (3559, 0.025367813278159238), (2791, 0.025352002874407253), (84, 0.025332709598550513), (515, 0.025231636316324503), (1283, 0.025114633265967967), (2221, 0.025075647928166606), (4128, 0.025025247392057172), (1059, 0.024992099239510446), (2487, 0.024980183453904882), (2157, 0.024966752633916425), (2011, 0.02494104877051777), (3260, 0.024870066224112707), (864, 0.02486329191739635), (1585, 0.024763409792078694), (3045, 0.024752596505057765), (4450, 0.024720929015834277), (269, 0.024648836109458276), (976, 0.024639530976636192), (3913, 0.02461184067045732), (3488, 0.024601153422707543), (4548, 0.02455070044178556), (109, 0.02453044653849549), (2484, 0.024513441011613152), (2718, 0.024311478964135404), (672, 0.024191461351672695), (1990, 0.02416023656477233), (4684, 0.024133846796305446), (2649, 0.02410629595054935), (2449, 0.024027644299634814), (4004, 0.024000569033717098), (3156, 0.023998351084066647), (240, 0.023896653257442113), (3167, 0.023775046882931618), (2013, 0.023761211338486878), (284, 0.02375202505468913), (2560, 0.02371348251582265), (1970, 0.02363683048252821), (398, 0.023601173359146382), (952, 0.023575257379915213), (1500, 0.02341852421825481), (1788, 0.0234174468623724), (3852, 0.023364365977981857), (613, 0.023360005747407833), (3285, 0.023312930978624885), (3344, 0.023275730604383822), (1757, 0.023237569072937406), (4104, 0.02318574190110463), (1845, 0.023148656759047627), (885, 0.023043502642482613), (371, 0.022957596860234526), (124, 0.022924907403512263), (1749, 0.022863707645125814), (917, 0.02283238901741577), (3801, 0.022800359320391744), (15, 0.02271065092657263), (3839, 0.02267946016765499), (68, 0.02266206525062858), (2055, 0.022634181180971005), (3010, 0.022625732133994828), (942, 0.022597435457319317), (138, 0.022571466223490343), (3083, 0.022375602417162112), (670, 0.022358617621920047), (1314, 0.02232459652157416), (1935, 0.02219045664126484), (1351, 0.02213829857385903), (2971, 0.022066749467116394), (4016, 0.021954980645808107), (3778, 0.021953860591524103), (4731, 0.021942965349166357), (3345, 0.021942373443318296), (1505, 0.02182888650267572), (4608, 0.021800481235691567), (3319, 0.021734897670541417), (383, 0.02169711981717913), (4701, 0.021630035033714214), (566, 0.021594645455275903), (3711, 0.02150587686141643), (832, 0.021498845411267415), (3923, 0.021468929059054814), (2767, 0.021446366669347367), (3927, 0.021381204835221566), (2646, 0.021367859858900114), (4283, 0.021351615053856233), (3492, 0.02131755558543566), (1397, 0.021292712783005346), (455, 0.02128955139463924), (1707, 0.021257258556859778), (1671, 0.02122345647963981), (2638, 0.021203988865178363), (2621, 0.02119886655745317), (2362, 0.021138152933174947), (1652, 0.02099753905716646), (1515, 0.0209732137511307), (334, 0.020925617642175248), (706, 0.020906587455013885), (2210, 0.0208455084138911), (1492, 0.020804197524067855), (4739, 0.02069982554500462), (2995, 0.020672479491204574), (2301, 0.020647137565360914), (1261, 0.020588147365939783), (1141, 0.02055555024890834), (175, 0.02053300245341473), (858, 0.020523894221730895), (967, 0.020469552153414082), (1132, 0.020414390989033006), (3352, 0.020359126987493256), (795, 0.020358656176454458), (116, 0.0203135608278819), (4382, 0.02029643984683653), (3222, 0.020274366895407722), (1861, 0.020224758491197033), (2040, 0.020212378900794702), (3692, 0.02017399208160385), (330, 0.020131929032753404), (1412, 0.019986146071083434), (1052, 0.01986102182481821), (763, 0.01978646943212837), (2018, 0.019731665503076493), (691, 0.019705460892332043), (590, 0.019676293955674856), (2469, 0.019667092941777563), (1173, 0.019587889505678024), (1865, 0.01941951698855973), (204, 0.01939630529843217), (4156, 0.01938577557945771), (1942, 0.0193043748919663), (3469, 0.01930212041761791), (3483, 0.01929415558877113), (3153, 0.01929393893094985), (3553, 0.019284047709895127), (2867, 0.019239145901549366), (2582, 0.01921397976288281), (364, 0.019145482928018306), (33, 0.019113111052402675), (1985, 0.01904147240178907), (1471, 0.019041132971720706), (2841, 0.01902947200926643), (657, 0.019029186776422926), (1137, 0.01901210439699599), (3810, 0.019010002617482483), (3144, 0.0188159139346378), (1629, 0.01880197654801146), (3403, 0.01874745474789171), (3111, 0.018745964200483675), (2745, 0.018745323907579003), (2647, 0.018740096833500863), (3036, 0.018727391375056794), (1175, 0.018723753488293395), (2237, 0.01869006723390553), (123, 0.018661941356170098), (3934, 0.01858210594935768), (4053, 0.01852651607447004), (2808, 0.018491534608859675), (4492, 0.01844828791757728), (2689, 0.018437989852840727), (4395, 0.018432537853653688), (3471, 0.01842093820447487), (3875, 0.01840682657850807), (1365, 0.01837227113367126), (796, 0.018331137262800768), (4189, 0.018295780424862254), (2760, 0.018287557193816677), (870, 0.01823775624151315), (2035, 0.018174236250627442), (1245, 0.018141267850498265), (85, 0.018140025805589998), (2777, 0.018135610878145043), (442, 0.018131110471171975), (4149, 0.018120795341642244), (3433, 0.01808291869217866), (1847, 0.018037183204218054), (61, 0.01800489296664041), (553, 0.017999209635930172), (2553, 0.017993936179996468), (947, 0.01794558421713812), (3446, 0.017905148689448255), (643, 0.017890465958555198), (3504, 0.017867778344296495), (1385, 0.017854291038061916), (4658, 0.01784633728106047), (4088, 0.017726410417130054), (4380, 0.01764624180958845), (2368, 0.01758596248268904), (4321, 0.017543334033359587), (1033, 0.01753960866997368), (3978, 0.01751121694173428), (768, 0.017489673834048702), (1386, 0.01748329235849552), (2347, 0.01748043215732105), (2149, 0.01745223099693851), (181, 0.01744574453448987), (4176, 0.017443969233128586), (2513, 0.017442018878231234), (145, 0.017428675510470844), (2598, 0.017421104279161936), (1403, 0.017391220098015407), (4012, 0.017365201972850405), (2167, 0.01734009349241759), (2607, 0.01729947920082517), (669, 0.01728883063481928), (261, 0.01728407456945424), (3665, 0.017249284717971724), (218, 0.01722790250497939), (4281, 0.017201530584288947), (2823, 0.01720075343597233), (2885, 0.01718625087974658), (757, 0.017113087304093784), (2712, 0.01709338146946916), (4554, 0.017075385468523656), (638, 0.017053448093546024), (1274, 0.017047369211396466), (199, 0.017042825242863106), (2931, 0.017037827068892467), (4288, 0.01693710191425258), (551, 0.016874796183789714), (4534, 0.01685272972728419), (1216, 0.016823696036736387), (106, 0.016807391435630294), (4246, 0.016779945112638715), (147, 0.016761296337096825), (409, 0.0167571316284367), (4050, 0.016660019944883787), (345, 0.016633298200576716), (251, 0.016589847669407163), (2932, 0.016580521643574184), (3976, 0.016544496095702788), (794, 0.01652991697599048), (1609, 0.016503959378870642), (3528, 0.01648791481093855), (929, 0.016451366138125856), (776, 0.016434663595932972), (3895, 0.016419951156273302), (1579, 0.016375386427263022), (4679, 0.01633454605163055), (1003, 0.016264639637270917), (1270, 0.016245933685208137), (1996, 0.01623804544027116), (3541, 0.016235553715114155), (867, 0.016222119390137346), (1817, 0.016192724346573106), (2795, 0.01617217405765026), (437, 0.016163855437143635), (677, 0.016160805108634633), (2645, 0.016159032435028614), (4436, 0.016138972257029927), (3306, 0.016103236268720365), (3857, 0.01609940297117171), (1377, 0.016081671975163157), (2027, 0.01603633192662615), (547, 0.015954215736828592), (1257, 0.015948858403827437), (2070, 0.015945266224748646), (3462, 0.015921401353758212), (3098, 0.015883109398260913), (2258, 0.0158456543773228), (4610, 0.01581260036053919), (2654, 0.015812059339913434), (1202, 0.015800924471871227), (3095, 0.015793354202986318), (2161, 0.015786401126837803), (343, 0.015767544239570004), (1572, 0.015761052100360134), (209, 0.015758398001600192), (374, 0.0157411773681761), (358, 0.01569891896451261), (1116, 0.015693380200495027), (1872, 0.015692537268481428), (787, 0.015654212273660782), (1510, 0.015643287350205606), (3558, 0.015610296382013125), (1445, 0.015603819372676646), (1838, 0.015571607283653808), (3828, 0.01556097302503041), (779, 0.015559303700559454), (4403, 0.015526643040174074), (2650, 0.015479844442032906), (3275, 0.015438614487586709), (2353, 0.015411440468041855), (3675, 0.015383840442244279), (1361, 0.015378112771317301), (1064, 0.015266845883841505), (1045, 0.015266048746463182), (83, 0.015264580033105274), (1682, 0.015177399279512553), (3000, 0.015162467402916767), (1945, 0.015161239811709028), (3684, 0.015142683835011236), (252, 0.015123476086782404), (1512, 0.015105156333574532), (4466, 0.01509342390178703), (3019, 0.015079826951520202), (4583, 0.015044893224742222), (586, 0.015043838912854237), (4349, 0.015024002112051323), (934, 0.015002311094369825), (4314, 0.014995478737488207), (2406, 0.01499149081248084), (3375, 0.01496925986374698), (1759, 0.014961250936879458), (2276, 0.014953886035301317), (2290, 0.014948279224281944), (1523, 0.01493998207588212), (3226, 0.014876993077771822), (510, 0.01487675400502619), (937, 0.014868996416454703), (3284, 0.014863841578051649), (1128, 0.014854876632306462), (4081, 0.014840843781867438), (1053, 0.014837349408068719), (3597, 0.014829549160129256), (968, 0.01480922324451343), (1880, 0.014804807313627828), (3958, 0.014784863672391712), (1417, 0.014771714264830253), (1927, 0.014758211144249881), (1074, 0.014740413465869122), (2376, 0.014707914904369861), (1112, 0.014706707811841068), (4504, 0.014698029040537658), (957, 0.014692027330752512), (1906, 0.0146859257533795), (2639, 0.014681205925888416), (2440, 0.014651552068691422), (3580, 0.014627751415987437), (684, 0.014624033923226757), (2298, 0.014590333682421542), (1741, 0.014530636200448458), (144, 0.014505497258134915), (860, 0.014491056408246893), (1774, 0.01446124630231882), (287, 0.014460928955376057), (3295, 0.014447214419042984), (4482, 0.014420233761860293), (1278, 0.014393994636618333), (833, 0.014380862757060867), (222, 0.01433574850414026), (3360, 0.014312850808388984), (2618, 0.014309396728665226), (3992, 0.014305020046283786), (808, 0.014292875555487137), (2644, 0.014277410585190867), (1843, 0.014207964695811542), (203, 0.014200108613688917), (496, 0.01418373746721707), (458, 0.014178106952497136), (1184, 0.01417646464349925), (21, 0.014143738774611671), (533, 0.014137543318232765), (4399, 0.014124359116023475), (2110, 0.014104670647504506), (7, 0.014064418289266698), (3328, 0.014014658418937311), (2119, 0.0140136405478456), (701, 0.014001106138123227), (3253, 0.013994344420697767), (1275, 0.013991650333335935), (1895, 0.013985329766178783), (3466, 0.013948202829812883), (46, 0.013921583304188589), (1152, 0.013909984865496567), (1331, 0.013893614625477727), (3853, 0.013883865702644655), (916, 0.013881461165234425), (2969, 0.013855029948647905), (48, 0.013813956207629364), (1119, 0.01381332344575345), (3861, 0.013802757920483083), (3043, 0.013795715741881084), (2742, 0.013789334726619938), (2097, 0.01371061780175991), (874, 0.01370786263314905), (1716, 0.013705584684864387), (1162, 0.013687385572713808), (2874, 0.013670850796264226), (160, 0.013669601592204473), (2568, 0.013659415142523543), (1997, 0.013649980051440474), (3694, 0.013647431772860158), (3356, 0.013621886139271967), (3630, 0.013615330138393136), (2366, 0.013612017910568616), (3924, 0.013598191809365948), (3862, 0.013565728148304885), (4627, 0.013538120633917622), (1384, 0.013529009522546778), (4669, 0.013494312686356747), (2522, 0.013482827889762482), (120, 0.013436120369739566), (534, 0.013423529226724646), (43, 0.01339219050587919), (896, 0.013375361646994155), (3959, 0.01335755330037594), (450, 0.013355373147177363), (4231, 0.013331133581851524), (1224, 0.013329410014484372), (3210, 0.013322396963206539), (986, 0.013319947454723376), (2016, 0.013291218879617279), (3437, 0.013288602084288888), (3374, 0.013274903205742167), (2000, 0.013268608318562428), (2053, 0.013255282671346895), (2334, 0.013245544160489422), (433, 0.013240242583328588), (75, 0.013226433991358253), (4551, 0.013220718212689985), (13, 0.013219405087101963), (584, 0.013193157225183069), (3612, 0.013187116073748744), (3086, 0.013171070472187624), (1853, 0.013142204080760719), (3777, 0.013138975764092285), (4379, 0.013135396004097964), (429, 0.013133359284342899), (879, 0.013125425078490877), (2996, 0.0131254038133067), (609, 0.013124868987567869), (1254, 0.013117125784640273), (1018, 0.013056738407929945), (2919, 0.013053978925097035), (545, 0.013035522950908337), (2805, 0.013019255720330846), (2254, 0.013017138972357485), (2917, 0.013015539280504838), (407, 0.013010338454898398), (51, 0.01300265411990091), (3750, 0.013000888292800923), (2474, 0.012989207202282973), (543, 0.01298592019961901), (1401, 0.012985401642111098), (2910, 0.012973035231497145), (86, 0.012943737725065432), (622, 0.012924041058040441), (3279, 0.012921270963454374), (2460, 0.012910641130575025), (3129, 0.012877007353404303), (231, 0.012859412564061543), (2177, 0.012852422457026271), (2934, 0.012819061464286675), (1443, 0.012802520263878863), (1232, 0.012780976454561914), (3421, 0.012771642812398133), (502, 0.01276985516724257), (2489, 0.012761448862408337), (692, 0.012753874784590889), (1802, 0.012739144304659446), (296, 0.01272696046976489), (87, 0.012718767781911278), (1967, 0.012677475509606382), (1317, 0.012662791811060232), (270, 0.012652810364268897), (3297, 0.012647009130507265), (1252, 0.012641092696744446), (2695, 0.012595456310471374), (2961, 0.01258566533219147), (2279, 0.012580191777461117), (1342, 0.012568193892735354), (906, 0.012562565902849297), (814, 0.012549332742373345), (1239, 0.012543147062274036), (3213, 0.012531164172700985), (1160, 0.012529367430933084), (2784, 0.01251708172992156), (5, 0.012499153688449184), (1334, 0.012492251296617182), (452, 0.01246640989768695), (4068, 0.012456090313850861), (1035, 0.012455959788933076), (806, 0.012454536871270006), (3508, 0.012451087233033998), (88, 0.012415477794410202), (370, 0.01241093041308338), (1621, 0.012381129810705965), (2024, 0.012362786797810246), (1655, 0.012362760417628706), (4503, 0.012361723940411634), (3171, 0.01232953638750136), (3299, 0.012304059227649435), (1129, 0.012294899928794702), (799, 0.01229172157910061), (2052, 0.01228499721811029), (1337, 0.012278297237720975), (2250, 0.012254850716171226), (1919, 0.012239874938960235), (4475, 0.012239347889861503), (2886, 0.012234444963781175), (1376, 0.012227542181032227), (1721, 0.01222163216659464), (2216, 0.01222091648729642), (1752, 0.012210340137298652), (4387, 0.012186360975945464), (988, 0.012150783887888744), (989, 0.012114278902246381), (3119, 0.012108881725572396), (4673, 0.012104359183317996), (2512, 0.012066954923852156), (2154, 0.012051365619406859), (1293, 0.012050886936231603), (676, 0.012045766162713708), (3142, 0.012033713243485039), (878, 0.011995378496967279), (329, 0.011993583837178055), (1665, 0.011986879649931188), (1988, 0.01194458805313237), (1360, 0.011939429404648913), (1183, 0.011930443741645562), (4192, 0.011911892499104706), (620, 0.011905409052499183), (276, 0.011903387893325488), (1654, 0.011898948788709248), (866, 0.011880750449006683), (52, 0.01186505772679206), (1493, 0.011844149659840146), (4502, 0.011801805330164892), (4374, 0.0117633190874433), (236, 0.011748931273435273), (3370, 0.011738453707194708), (2275, 0.011737685372040153), (434, 0.011732983373727118), (3228, 0.01167958472605629), (3854, 0.011644464252551745), (1787, 0.01164344006812103), (853, 0.011629613688559302), (2224, 0.011623168269039174), (1658, 0.011607768537716988), (1310, 0.011603462769513956), (895, 0.011556955470140878), (1714, 0.011552232141558223), (899, 0.01153136637791897), (2005, 0.011530647123605941), (2769, 0.011509097630563354), (511, 0.011506869261534866), (2740, 0.011498137117716863), (648, 0.01148932099177248), (1739, 0.011485814574896523), (2051, 0.011485145475242601), (1114, 0.011484239276600885), (3094, 0.01148332944714176), (1000, 0.011465808267637783), (1157, 0.011455509578586561), (1595, 0.011442638074796879), (2145, 0.011440972794550272), (3903, 0.011437534537394663), (3524, 0.01141582166299061), (4203, 0.01131148415647822), (149, 0.011278788994365293), (1870, 0.011252547527929514), (130, 0.011232917832644398), (3637, 0.011218873588798386), (2049, 0.01121382820002913), (847, 0.011170959908007113), (1249, 0.011163980292075012), (1971, 0.01113588715560851), (1290, 0.01113228929824366), (1237, 0.011132212382045158), (208, 0.011109554342889107), (2602, 0.011109197365055305), (2915, 0.011108219163805746), (317, 0.011108212593763942), (1050, 0.011107904812121554), (4469, 0.011101014769186762), (1387, 0.01106881943557811), (2065, 0.011053789179580869), (0, 0.011030833064862303), (3797, 0.01103005361056851), (653, 0.010992564495749167), (2116, 0.01098020735105048), (2436, 0.010973328537361424), (1465, 0.01095562370233047), (816, 0.010938968543632823), (538, 0.010926596821725245), (2688, 0.010918792399887462), (733, 0.01089223933783324), (1798, 0.010882098521846122), (762, 0.01086634593134054), (948, 0.010837176224295695), (1090, 0.010832780498579529), (1897, 0.010829345530888285), (4596, 0.010810161913423447), (4242, 0.010810083319642432), (3218, 0.01079054112088543), (2412, 0.010787292883916638), (2447, 0.010771616396939245), (2727, 0.010751201145912345), (1685, 0.010727409621856674), (4095, 0.010675671910301452), (3822, 0.01067234626525665), (342, 0.010655859466779119), (3919, 0.010653730578925456), (2096, 0.010651617023942125), (2601, 0.010634746526368288), (1182, 0.010629575542107196), (4371, 0.010622821468953592), (57, 0.01057398085186226), (1951, 0.010559684480975853), (3535, 0.010553008008658556), (2633, 0.010551147859157516), (2939, 0.010548055961301255), (1957, 0.010537224394864972), (3756, 0.01053719239409565), (472, 0.010534769725268383), (470, 0.010513126076556478), (3667, 0.010510858057479679), (1058, 0.010486349695375805), (1876, 0.010483848182741945), (1382, 0.0104832173825564), (482, 0.010482824276952404), (3741, 0.010471386783819247), (844, 0.010444848119725972), (2798, 0.01044270348844016), (4724, 0.01043259846038044), (2464, 0.010432481659621315), (2988, 0.010422103812976993), (842, 0.010420095601244352), (2277, 0.01041947725210706), (555, 0.010410756012279712), (2468, 0.010410442840838518), (3645, 0.010406648090008387), (1006, 0.010373461632628783), (3386, 0.010368302945333963), (3643, 0.010367093727296793), (3708, 0.010350708517183055), (1015, 0.010349921605827253), (3317, 0.010337369673797472), (1619, 0.010335815764741293), (1343, 0.010328090800264826), (760, 0.010327950760938077), (1475, 0.01032434138856811), (4336, 0.010323673361763189), (3689, 0.010279024240254776), (2494, 0.010261617490462739), (4603, 0.010256928396232764), (1779, 0.010241732024901959), (4025, 0.010240921104794437), (1413, 0.01024077818404051), (173, 0.01023565749564271), (2668, 0.010220008589096012), (2744, 0.010215509855658354), (4735, 0.010188659764745846), (2925, 0.010175791899610199), (2486, 0.0101579898282836), (2977, 0.010147716278555891), (2144, 0.010130144538242531), (1019, 0.010125459720913537), (1192, 0.010115457401886045), (1806, 0.01010974199790092), (897, 0.010105533484417707), (368, 0.010105073419505521), (464, 0.010095774430494817), (3453, 0.010094910230218785), (2524, 0.010093333345514129), (406, 0.010091241397990624), (1815, 0.01008656002188582), (2632, 0.010086075181360427), (4255, 0.01007999225292075), (1077, 0.010078879825883472), (697, 0.010063880214992363), (2155, 0.010063479130561156), (280, 0.01005628187630405), (1020, 0.01003974100990462), (527, 0.01003187506493514), (905, 0.010028592330043822), (461, 0.010028397266772427), (1148, 0.010027288945568197), (281, 0.010010425921262304), (2812, 0.010002859244746892), (1075, 0.009999377646145533), (3346, 0.009995404474172808), (1678, 0.009993355681673071), (4048, 0.009990331717465892), (1017, 0.00998651870631949), (3067, 0.009975133871028734), (753, 0.009957383938650179), (19, 0.009946079752603336), (4747, 0.009938221057444342), (850, 0.009933955796671426), (2849, 0.00993204010364671), (1730, 0.009925420034824179), (2045, 0.009920350327257004), (353, 0.009918720357672066), (4121, 0.009912385491091757), (3312, 0.009908622112886224), (82, 0.009891659509105427), (4465, 0.009891548972174032), (2087, 0.009889226565354198), (1591, 0.009884857948337393), (4118, 0.009883745268100937), (207, 0.009876667254712061), (2008, 0.009874158380024606), (2980, 0.009863602632826703), (4511, 0.009862184459652007), (3237, 0.0098612784673843), (1674, 0.009845773417721485), (2121, 0.009838878061357694), (224, 0.009833351194148155), (104, 0.009829886192158875), (2831, 0.009826068058127847), (3784, 0.009823067265651552), (775, 0.009820640273312333), (4335, 0.009814353732129216), (1418, 0.009805577051881736), (3151, 0.00979686650832578), (79, 0.009793697093190779), (2174, 0.009780036285254617), (689, 0.009767853373253192), (966, 0.009758755553470645), (2698, 0.009749298914900485), (2346, 0.00973808109082574), (4512, 0.009730424282926005), (2103, 0.00971924367034297), (1710, 0.00971426521500396), (3373, 0.00970491545491959), (385, 0.009697860761931649), (29, 0.009680447771487346), (4656, 0.00967984185329389), (651, 0.009675872005106619), (962, 0.00966265544798381), (1754, 0.009649595332284466), (1446, 0.009647700897706007), (197, 0.009628783959843065), (838, 0.009626459688352669), (119, 0.009624580090449544), (683, 0.009616876214454003), (3407, 0.00961314530229356), (3192, 0.009601546009623443), (1371, 0.00957054639983264), (2473, 0.009567017739929216), (4227, 0.009536769001987728), (1705, 0.009532234016706486), (4205, 0.00952137249600601), (1519, 0.009518468720580993), (4531, 0.009515505932541201), (3110, 0.009514745087109559), (332, 0.009511029320073175), (1864, 0.009507931640787852), (3826, 0.009507592846213112), (3240, 0.009479440313712029), (3399, 0.009478950547250682), (162, 0.009472782166328289), (667, 0.009466726882698475), (1858, 0.009466127625544265), (180, 0.009465442543840063), (356, 0.009464553882018242), (2546, 0.00945539078457017), (1220, 0.009446879512136793), (1255, 0.009439997026022377), (485, 0.009421709875664772), (1736, 0.009412785023736952), (3586, 0.009412171110599322), (1514, 0.009399120827011156), (675, 0.009398956760921423), (4257, 0.00939797433543068), (2143, 0.009379844389145672), (742, 0.009376108974102789), (1432, 0.009373032386066201), (1874, 0.009357390163306077), (2780, 0.009355669248334532), (1206, 0.009351313288086416), (3659, 0.00934567534071603), (2196, 0.009344872320040984), (2978, 0.009342868253558154), (1009, 0.009336414376491726), (3259, 0.009331435628953973), (734, 0.009330460942637137), (963, 0.009330441443226745), (900, 0.009327860583620375), (1388, 0.009320922232145605), (2235, 0.009318997077894905), (1727, 0.009302183404980216), (418, 0.009295128205807203), (3954, 0.009287270867889745), (1308, 0.009284043803934593), (3699, 0.009278047447606264), (1735, 0.009272270298771394), (2739, 0.009270916036749767), (32, 0.009257022828857226), (2126, 0.009239017185028372), (4233, 0.00923716075354894), (544, 0.009226556772081326), (1125, 0.009217990655017456), (2803, 0.00921576540434279), (3245, 0.009200586552133233), (4557, 0.009195614779699256), (4435, 0.009182484990142513), (3829, 0.009182246221228645), (2265, 0.009181724474316918), (4510, 0.009181707422775893), (307, 0.00917610295665701), (201, 0.009173687817643073), (3389, 0.009154532933289458), (1234, 0.009146403680034904), (4474, 0.009143385384832552), (428, 0.009138200469818582), (654, 0.009137985078526102), (542, 0.009137332583311533), (1832, 0.009136490596023976), (3642, 0.009129592131057275), (1949, 0.009118393212296688), (183, 0.009111549357113667), (1477, 0.009104512782271252), (1875, 0.009100439741183484), (918, 0.00907907200775608), (908, 0.009067705968381804), (3634, 0.00906584574519657), (3382, 0.009062961184062426), (3579, 0.009054742134580308), (1339, 0.009052277838383721), (1185, 0.009037521924613245), (244, 0.00901179056982185), (1690, 0.009007106158152433), (2080, 0.009004882703390567), (936, 0.009003277999938792), (3880, 0.008997278426017614), (994, 0.00899620965120128), (1920, 0.008985177008065394), (931, 0.008985164965648931), (1539, 0.008985003115166602), (463, 0.008984959984842516), (3155, 0.008978185428130685), (483, 0.008967683385060527), (1762, 0.008965322531332314), (3767, 0.008965135690141264), (3670, 0.008950371174690757), (4134, 0.008945447437419261), (1922, 0.008943890949809224), (1934, 0.008943298391312793), (1436, 0.008938571568867907), (2284, 0.0089251354233724), (1542, 0.008922610992510112), (1136, 0.008897993810106546), (4000, 0.008896260392386023), (1764, 0.008894003345368207), (1948, 0.008890677672108344), (3065, 0.008882740731526789), (1419, 0.008881197370332751), (4581, 0.008869254271859204), (800, 0.0088620641542253), (1440, 0.008853117226043912), (705, 0.008849003520667616), (3108, 0.008844226444521371), (447, 0.008838647950200146), (869, 0.00883494668912585), (360, 0.008792989390460915), (242, 0.008785649890321136), (2933, 0.008780359535749233), (4124, 0.008779382992679812), (2975, 0.008765876381769802), (1455, 0.00876162456390698), (1406, 0.008715865555429941), (105, 0.008714622365753264), (494, 0.00871441922702086), (2918, 0.008673704296976314), (60, 0.008666795147761525), (403, 0.008658039661083208), (3096, 0.008656669005592973), (1937, 0.008654757524009689), (4623, 0.008648412631720396), (3409, 0.008647697029718033), (1215, 0.008626565449165811), (2280, 0.00862571183756089), (2752, 0.008620084725894043), (4216, 0.008607795894015547), (732, 0.008601203498079696), (3118, 0.00856637696366869), (4344, 0.008560409076406228), (3, 0.008556266387176357), (4235, 0.008552824926316174), (2897, 0.008538942631393305), (396, 0.008538302223078727), (2603, 0.008536389554603917), (3582, 0.008531295820466684), (2211, 0.00852428985726586), (1231, 0.008522959525536226), (2206, 0.008519222193445024), (4442, 0.008489222172637033), (4481, 0.008488752590106292), (924, 0.00848321087343808), (1230, 0.008457876352421543), (4060, 0.008456870182553715), (441, 0.008451965201581278), (63, 0.008450299024233674), (790, 0.008440627947769756), (1743, 0.00842639869069019), (142, 0.008412825796129569), (2563, 0.00838586562372893), (828, 0.008383323028886877), (500, 0.008359803495500152), (1950, 0.008346046814557124), (939, 0.00834493328814595), (3794, 0.008338012485553528), (3465, 0.008335033571003998), (719, 0.008323580340979672), (915, 0.008319397113436017), (827, 0.008318481071895117), (3232, 0.008308534663740912), (843, 0.00829768123510693), (616, 0.008284466466940338), (1992, 0.008281699695740639), (4553, 0.008276485146222291), (2871, 0.008271615389568845), (4007, 0.008267781342193284), (1630, 0.008267208641332522), (1854, 0.008260641232631838), (1797, 0.008250318423686297), (1061, 0.008225775017168974), (4325, 0.008225597841513591), (113, 0.008222839981141181), (170, 0.008212411862992972), (1680, 0.008185950327376991), (1776, 0.008172718063000205), (3842, 0.008166131166193214), (3267, 0.00816380488868591), (829, 0.008163802724838796), (2844, 0.008161800994171312), (3993, 0.008159280041455854), (3152, 0.00814304236957213), (156, 0.008130352981790144), (309, 0.00811693456675516), (501, 0.008093060535906737), (3941, 0.008083351900502382), (3070, 0.008080011611280151), (1236, 0.008070444072351813), (4182, 0.008061134963870602), (3099, 0.0080422608004629), (3860, 0.008019989025344657), (122, 0.00801628006935803), (4164, 0.007982804783910944), (2264, 0.00797200282685808), (285, 0.007957860541728883), (801, 0.007945568255324975), (148, 0.007930849004450949), (1005, 0.007918510792987069), (4366, 0.00791136104066333), (1816, 0.007907071356667052), (271, 0.007906651382996935), (1348, 0.007881962483207145), (1747, 0.007880814579366763), (3418, 0.007872045462707455), (695, 0.007865699296181349), (2614, 0.007854073734048124), (3316, 0.007814261306554798), (4232, 0.007786088627110025), (333, 0.007778637984921778), (2809, 0.0077669009407471965), (1694, 0.007723967300006686), (266, 0.007687352938714006), (2306, 0.007681778560562664), (2913, 0.007641726319274879), (641, 0.007615606304705988), (4096, 0.007602693256643235), (4440, 0.007573688839980211), (4524, 0.007553090169719757), (125, 0.007550162765712659), (1115, 0.007541801105045005), (2076, 0.007485873593425451), (2617, 0.007476588807351372), (1790, 0.00745169013853522), (402, 0.007431236549668564), (3256, 0.0074242802891505985), (3951, 0.007416277226941288), (582, 0.007393401238887704), (1300, 0.007367657059104361), (1306, 0.007339233947179436), (3423, 0.007322003169309003), (2505, 0.007319951475884599), (1442, 0.0073005119752241774), (1713, 0.007298425352073791), (949, 0.007280717162900338), (4032, 0.007187087143266354), (3661, 0.007182531494259948), (3384, 0.007167814548051904), (1708, 0.0071671147057300625), (2936, 0.007166693814263911), (2403, 0.0071640051545217385), (3008, 0.007144678935538313), (1014, 0.0071436243984466475), (1069, 0.0071359415631314345), (435, 0.007134994014550277), (283, 0.007115362995892679), (243, 0.007095822136006831), (2339, 0.007044200538948881), (3039, 0.007033641238008274), (40, 0.007026839741904725), (940, 0.007017471911449878), (668, 0.007010024149398858), (2209, 0.006997119013187289), (2510, 0.00699670197770412), (1770, 0.006988637843490415), (1509, 0.00695956991238211), (2843, 0.006935058804116521), (1799, 0.006933678663723955), (3932, 0.006931317965596034), (1712, 0.006919911881675323), (537, 0.006904650253934126), (4196, 0.006877977216145404), (2101, 0.006877008144985985), (2873, 0.006861919748846571), (2545, 0.006860250575562519), (4351, 0.00685898035348561), (1486, 0.006851120900473863), (369, 0.0068346519861507546), (4226, 0.006834018965233923), (635, 0.006826589081409233), (386, 0.006826523344417922), (4605, 0.006810270346177131), (1099, 0.006796306109233245), (737, 0.00679046919906129), (3387, 0.0067899898839664545), (2418, 0.0067824099889620525), (1812, 0.006780834800184142), (340, 0.006777016372290377), (4077, 0.0067769163453586054), (1583, 0.006771163066395369), (341, 0.006738782862458076), (715, 0.006718437900896872), (2244, 0.006717837371850314), (1841, 0.006702080580324413), (2759, 0.006700440361921214), (3515, 0.006687023029672398), (4061, 0.006670222885137589), (4052, 0.006663531395006186), (1718, 0.006663251550867471), (4337, 0.006660042293113124), (3264, 0.0066472126162750505), (363, 0.0066356722068611936), (4685, 0.006622624822852807), (4367, 0.006615640331346218), (1276, 0.006614054128701511), (2309, 0.006600324021109643), (1737, 0.006597102647461051), (232, 0.006593921088203634), (4008, 0.0065869326840971845), (2303, 0.006573782648744838), (2964, 0.0065729388313224444), (4695, 0.0065468775226719044), (2565, 0.006545613572872344), (3457, 0.006538241508153658), (1266, 0.006533043818100306), (3596, 0.006532360433850937), (2816, 0.006526043738028809), (2708, 0.006521953523325543), (4261, 0.006520832702599341), (131, 0.006516361421348343), (1359, 0.006512723499510721), (1124, 0.00650888947012324), (778, 0.006507201744080069), (782, 0.006485287162109586), (301, 0.0064831626775899995), (3599, 0.006481052051681219), (3747, 0.006479147522752961), (1407, 0.006473984166827939), (748, 0.006469467667377661), (752, 0.006467980048867923), (413, 0.00646006985155423), (3648, 0.006450032781677155), (1911, 0.006449888207801162), (1688, 0.006435917891544071), (631, 0.006435223702269604), (2691, 0.00642502883888006), (1172, 0.00642349673900924), (1250, 0.00641683496923753), (1094, 0.0064082795801333105), (1262, 0.006405285940141727), (809, 0.006405004651484134), (4486, 0.0064024283455168555), (1048, 0.006397750882378347), (1908, 0.006397575132623749), (1761, 0.006393704266044299), (600, 0.006391090692947357), (4001, 0.006388407665819475), (2732, 0.006384052898431838), (2726, 0.006381483891791709), (1345, 0.006376898357406536), (3733, 0.0063761822099048255), (523, 0.006373792107219134), (1396, 0.006373246277033534), (671, 0.006370293268521527), (313, 0.006364061615090337), (56, 0.006360520624700797), (817, 0.006357746832484934), (4467, 0.006345018374280654), (4210, 0.006343510020362497), (1494, 0.006336597494822925), (1461, 0.006334019764356985), (3594, 0.006329998633695907), (3265, 0.0063226468669846745), (3632, 0.006317612118657847), (2640, 0.006317565977889238), (1860, 0.006315255761489598), (2421, 0.0063106674261838944), (3536, 0.006308683373008201), (1936, 0.006305430087786054), (2463, 0.006302421249377438), (2193, 0.006296592999865005), (921, 0.006283165705018465), (182, 0.006281191547593625), (1773, 0.00627039973082657), (1501, 0.006269585509345801), (1302, 0.006269061689062126), (1873, 0.006268039394155508), (4388, 0.006267603401062595), (521, 0.006258208083095621), (3033, 0.006253305566658993), (1111, 0.006248117716703152), (1551, 0.006247971193594754), (2572, 0.006242256336987691), (3288, 0.006231805332846334), (2503, 0.00622683703841385), (3416, 0.006224010222238471), (1986, 0.006222022283687611), (1644, 0.0062212259838310205), (3926, 0.006220083092575776), (2109, 0.006214193738489697), (821, 0.006213509850356218), (446, 0.006213018848706032), (2335, 0.006195122217349195), (1612, 0.006194457782488938), (1526, 0.006191248200788653), (1238, 0.006186731479104556), (4303, 0.006176133146512327), (346, 0.006174624184713735), (4099, 0.006168780005377172), (3066, 0.006167648378655011), (273, 0.0061623988613518), (1420, 0.006161704383061443), (834, 0.0061603555315207165), (758, 0.006159661484248016), (321, 0.006156772667539889), (1852, 0.006155842767343842), (1226, 0.006155233838739037), (22, 0.006154963368437306), (322, 0.006154155639590199), (2239, 0.0061541199867669195), (1867, 0.0061515768976829), (1012, 0.006147533259474906), (3566, 0.006146702502080546), (1087, 0.006146600329746245), (4738, 0.006143947724354939), (2160, 0.0061390046905465375), (1807, 0.006137633871941601), (1849, 0.00613634637647924), (1374, 0.006134071493539366), (1696, 0.0061218851632689145), (3998, 0.006111527510860799), (2480, 0.006110497348787088), (1329, 0.006106156356986539), (1692, 0.0061002065533307375), (2056, 0.006098723091929036), (3325, 0.006081886135857148), (4236, 0.006075666229387342), (2202, 0.006073899359268226), (164, 0.006072261003831069), (1552, 0.006064104281738212), (3512, 0.006063712965017412), (1913, 0.006054978381891237), (1425, 0.006051217661671701), (568, 0.006037966036721978), (230, 0.006033721816799256), (4217, 0.0060192842083108735), (3309, 0.006017888275288236), (2095, 0.0060166676358271685), (4564, 0.006009683210100153), (1096, 0.005991634857819857), (3046, 0.005990917391951753), (263, 0.005983694769291916), (1793, 0.005978721581259061), (3426, 0.005968756109010398), (2678, 0.005963735026045014), (4110, 0.005957703917597485), (300, 0.005955194815963848), (1307, 0.005952320082634653), (3085, 0.005949606302221761), (4576, 0.005935119837827218), (835, 0.005929335403242158), (248, 0.005925427367671947), (3864, 0.005920910897050465), (3246, 0.005914082500761025), (4272, 0.005913113344059759), (958, 0.005907065057759524), (2935, 0.005906680681363041), (3909, 0.005904413766853028), (1327, 0.005903565203267584), (2062, 0.005894860260396621), (2992, 0.0058943093513693446), (9, 0.005893715712413232), (2175, 0.005892255271023451), (449, 0.005888928591764765), (2291, 0.005879130716563472), (3114, 0.005871469101772041), (2680, 0.005864413814782431), (1723, 0.0058636276109985475), (2094, 0.005859455891114358), (1664, 0.005859291843286879), (1818, 0.005857232263280462), (1267, 0.005852380382508747), (1746, 0.005849200858437631), (4009, 0.005839238139121341), (1833, 0.0058321866808757955), (1662, 0.005829779356871764), (4649, 0.005826292655208301), (2205, 0.005815130147419336), (468, 0.005812107528425204), (35, 0.005810871872628744), (4106, 0.005800307136699596), (4459, 0.005792206162635644), (3825, 0.005791272549152579), (354, 0.005746380737848924), (1538, 0.005740706436787912), (766, 0.005738451158784623), (3178, 0.005735318663945867), (4342, 0.005734362220311641), (2236, 0.0057286794003774425), (2203, 0.005727766766285533), (1316, 0.005724155894227563), (3244, 0.005714578176240003), (3865, 0.005713557401245153), (1650, 0.005706051039527364), (4555, 0.005705853547328627), (2426, 0.00570551708209529), (4057, 0.005701080129687284), (1903, 0.005693983328227994), (327, 0.005688884029845159), (1715, 0.005679952042418794), (3329, 0.005678593357562648), (4571, 0.005674167803239462), (583, 0.005668807847433948), (1567, 0.005666022714901487), (2058, 0.005658675379845469), (3598, 0.005657966805417144), (2185, 0.005646400586412353), (1684, 0.005641138507204858), (4055, 0.005634375176145164), (3752, 0.005629510500692697), (4726, 0.005624771286947688), (664, 0.005621543679482347), (2285, 0.00561857012245303), (2929, 0.0056178227125439325), (597, 0.005585296910327887), (1312, 0.005577902334941482), (2439, 0.0055759126264147444), (2074, 0.00556854762824834), (3748, 0.005548918142276963), (970, 0.005544337751770287), (2587, 0.0055439183087869146), (1571, 0.005542339842628268), (979, 0.005541527406106496), (2156, 0.0055342322180278024), (2942, 0.00550673768783501), (3925, 0.005502114743442858), (445, 0.0054930588187041), (2820, 0.005481341766272962), (4748, 0.005479026018864509), (1553, 0.005468802635089677), (3509, 0.0054651187704909615), (1194, 0.005455364807246986), (2098, 0.005443617071356677), (277, 0.0054265141901217815), (3215, 0.0054142859393827665), (1863, 0.005410975850823095), (735, 0.005409992240879334), (4158, 0.005385259925023967), (4385, 0.005370381573416479), (2529, 0.005366604539849315), (3957, 0.005357045322157727), (2998, 0.00535209573946284), (3291, 0.005338095069706449), (2197, 0.005333969546736109), (177, 0.005323932447861261), (4082, 0.005320866192662468), (3821, 0.005309579514776731), (1037, 0.005308215557034724), (78, 0.005308041561391281), (2113, 0.005307919250109017), (2490, 0.005286458355432077), (1453, 0.005284316699600489), (288, 0.005277087279318339), (4202, 0.005275485537708585), (3713, 0.00526972898729644), (2789, 0.005262270327048822), (2985, 0.005254824315247735), (3257, 0.005252806647211398), (3164, 0.005249076665164603), (1279, 0.0052407809458423285), (2665, 0.005223934632621952), (2989, 0.005215232336517521), (2764, 0.00520115507893203), (2251, 0.005193711524066312), (2870, 0.005190662502919888), (3051, 0.0051667720418251475), (2379, 0.005161053352063444), (2832, 0.0051436026950683915), (3940, 0.0051407682391231635), (2022, 0.005131983202077059), (3262, 0.005129846234360378), (2768, 0.005127761776143857), (477, 0.005108906710807928), (2349, 0.005095915627530099), (4652, 0.005093521097837382), (3410, 0.005072921267175215), (2655, 0.005064075396642625), (159, 0.00505835463370556), (1144, 0.005048612003253931), (4617, 0.005035353878836628), (2643, 0.005026937438269426), (2774, 0.005026096074833948), (3166, 0.005022472644697464), (168, 0.0050176844960099325), (2883, 0.005012866262268815), (3990, 0.005002929751176787), (2775, 0.005001962602261836), (627, 0.00497300781867873), (3635, 0.004969309079608231), (2889, 0.004968546637546583), (3205, 0.004968266911303906), (1695, 0.004960645979833711), (4710, 0.004954605984205366), (2407, 0.004934435226648753), (2731, 0.00493439808588778), (4444, 0.004912936640101354), (1701, 0.00490630381916937), (2901, 0.004903649228231296), (2559, 0.004902453281838046), (3076, 0.004876076137498714), (3479, 0.0048551980075735475), (3219, 0.004850084111757696), (2255, 0.004844559062704156), (4484, 0.004838834897598738), (3922, 0.004826525211684484), (2423, 0.004816485981863356), (2257, 0.004815633554564352), (3140, 0.004803637802751516), (4546, 0.004796557843128954), (2350, 0.004795459943669426), (4373, 0.004793477636311272), (3015, 0.004768987646928211), (3892, 0.004768788063297202), (2448, 0.004766986971824981), (2438, 0.004737452073045027), (2075, 0.0047370335377893685), (3613, 0.0047320568626623176), (2415, 0.004730862216009896), (4723, 0.004727598715354361), (414, 0.0047166149171640375), (3074, 0.0047142780090269586), (2199, 0.004704795197696951), (561, 0.00468805877070059), (155, 0.0046876627474438355), (3832, 0.00467042396861958), (2797, 0.004662582296560098), (336, 0.004662310031327448), (3766, 0.004641112228824255), (2966, 0.00463578970374348), (2838, 0.004635163571987026), (3282, 0.004630824636763593), (4637, 0.004612062968623591), (3763, 0.004609882289666544), (2064, 0.004607259431012567), (2286, 0.004597623407953293), (3081, 0.004593139481678037), (1264, 0.0045874719373458685), (2879, 0.004575951326075383), (1711, 0.004574946131045152), (3458, 0.004569703793253948), (1208, 0.004548675156639525), (4163, 0.004547033361860745), (4660, 0.004541708755867141), (3620, 0.004540592510522189), (4521, 0.004538451948987999), (3363, 0.00453582180346934), (2778, 0.00452689973020684), (4490, 0.004525122944013041), (2834, 0.00451171963700635), (326, 0.004509531071415281), (2266, 0.004504841352039065), (3901, 0.004502439444358476), (3521, 0.004494545938366667), (3638, 0.004494258013419987), (3072, 0.004486013255232764), (4243, 0.004481593424626756), (2890, 0.004479295063741565), (4477, 0.004475573109721682), (4619, 0.004464496276051083), (2488, 0.004454973337331125), (2848, 0.004451635278017181), (2428, 0.004449403730798263), (3357, 0.004445896961815376), (1995, 0.0044436102806826834), (3355, 0.004439279751365741), (3952, 0.004437738363872808), (3359, 0.004436709088772463), (2434, 0.004431291892175998), (3123, 0.004430693813118649), (1429, 0.004426209969535897), (3577, 0.004423305835098286), (3012, 0.004422191676305294), (3302, 0.004421869683077387), (2388, 0.004418364074326682), (4117, 0.004416466635020339), (2772, 0.004415465730841663), (4632, 0.004413505725249274), (3165, 0.0044115507241049064), (4244, 0.00439833019548006), (448, 0.00438761079971699), (2857, 0.004385798096523083), (925, 0.004384858122764016), (2748, 0.004384737090583686), (3772, 0.004382886506234053), (4412, 0.004380933751804213), (2570, 0.0043799099350743725), (1049, 0.00437988439005701), (2696, 0.004377709947978055), (2535, 0.00437718019360248), (2475, 0.004376440204413744), (2623, 0.004375698188655366), (2188, 0.004375691568349756), (4589, 0.0043710968923204654), (2872, 0.004369428007766744), (436, 0.004367638607825826), (2986, 0.004367292127366985), (2914, 0.004365686918786836), (2437, 0.004364488749852596), (2796, 0.004363410077675411), (2427, 0.004360361932887691), (3413, 0.004359855665454082), (1947, 0.004353213609204301), (1187, 0.004352099800905718), (721, 0.004351798040170862), (1547, 0.004349403978789484), (3866, 0.004348645979534938), (3308, 0.004347532669784979), (2459, 0.00433996829790567), (3364, 0.004339147188533366), (3062, 0.004338400174834417), (2320, 0.004336076933437823), (4333, 0.004333713650602341), (4706, 0.004332664641294066), (4293, 0.004330932141883518), (2916, 0.0043263777227775975), (419, 0.0043219395510782485), (1498, 0.004321613570788369), (3274, 0.004316353993622751), (2134, 0.004316308001329558), (3680, 0.004307186242755193), (3456, 0.004305814043851944), (4713, 0.004305394136181374), (1748, 0.004304566848083177), (4516, 0.0043039703740352505), (3745, 0.0043014115756399764), (4295, 0.004296585605307224), (1909, 0.004291061654801142), (614, 0.004288750672739078), (2089, 0.004286194841507684), (3296, 0.004284539245489536), (813, 0.004284072736745843), (2229, 0.004282793679232643), (985, 0.004280760355939876), (2702, 0.0042757389657239785), (2625, 0.004274135382070295), (2881, 0.004270441730152012), (2269, 0.004270122217059199), (2974, 0.004267644736455839), (3590, 0.00426277483218644), (4269, 0.004261358892882494), (4051, 0.004261055631169458), (4718, 0.004256349121498144), (4522, 0.004256053143250755), (431, 0.004253731224117698), (3258, 0.00425166742925599), (3754, 0.00425088885192439), (596, 0.004249523053030152), (1489, 0.004248304548395753), (4369, 0.004247480838540238), (2664, 0.004247074374066949), (3560, 0.004245055544627484), (2478, 0.004244699032733839), (4368, 0.0042395012192068164), (3032, 0.004236875676982673), (2411, 0.004232477569813292), (998, 0.004231550323159826), (3883, 0.004228936666351749), (2302, 0.004223791158832708), (2162, 0.004219380930073339), (3425, 0.0042189273807099106), (274, 0.004213351927081419), (3506, 0.004210608224504922), (3044, 0.0042095996567035315), (999, 0.004207810923003221), (4575, 0.004207106971473452), (4160, 0.004202905425055258), (2924, 0.004201263410249729), (4650, 0.004199955073515737), (4494, 0.004198913762540896), (3962, 0.0041981161525171925), (2705, 0.00419311719538287), (4092, 0.004191649321034798), (2888, 0.004190400401974198), (3148, 0.004189850441543633), (2260, 0.004185191893101069), (107, 0.004183291225760562), (3827, 0.004181237309948019), (3640, 0.004180919538840041), (4087, 0.0041780400086011546), (2108, 0.00417747184396007), (443, 0.004173485641770981), (4133, 0.004171058353519933), (4535, 0.004168912423339761), (857, 0.0041673257670812045), (2176, 0.004164126357746437), (2943, 0.004163274989649756), (2400, 0.004160705241176061), (1325, 0.004160422073783942), (2660, 0.004157779264373596), (3639, 0.00415654396733866), (1968, 0.004154577961484482), (4593, 0.004154470826623222), (739, 0.0041544324526385954), (3116, 0.004149510145771365), (4130, 0.0041491627870861416), (4657, 0.004148903847421977), (1109, 0.004147961237801971), (3893, 0.004144247414974508), (3391, 0.004142208175571387), (2840, 0.004141495908911079), (4448, 0.004140141857814396), (4699, 0.004136745068268484), (3960, 0.004136328544295494), (4101, 0.004133199886199255), (3196, 0.004128660511900141), (1924, 0.004128532623898025), (2629, 0.004127307025918692), (576, 0.004126208071341264), (2592, 0.004122793074078066), (4507, 0.004118183726100426), (3618, 0.0041154430713318865), (3417, 0.004113716015915965), (587, 0.004113686825008192), (4138, 0.004113614806293948), (716, 0.004111876669264274), (4734, 0.004111295554222253), (1349, 0.004110495877261438), (876, 0.004104279970578756), (12, 0.004103246860382845), (4113, 0.004102052314014097), (3984, 0.004099867333692982), (623, 0.004096377238705219), (3146, 0.004095554458800916), (4624, 0.004092700036129846), (3037, 0.004090454066447993), (2755, 0.004089354469089641), (2223, 0.004087624754337736), (2854, 0.004083417211619376), (3601, 0.004083152391641305), (3187, 0.0040814832881308225), (1474, 0.004081101034194675), (3902, 0.004080719610179699), (4116, 0.004079842139159006), (2394, 0.0040796126162555724), (2159, 0.004078677153362273), (350, 0.004078142786008543), (3813, 0.004077415992530592), (2555, 0.004076576628196595), (4187, 0.004076247844682487), (4098, 0.00407457171624486), (4024, 0.004073899322073122), (8, 0.004073868046412163), (1923, 0.0040714343410673546), (4528, 0.004071078927085605), (3273, 0.004070005758088888), (2361, 0.004067476899476646), (688, 0.0040664659040184955), (3234, 0.004065693798762941), (3749, 0.004065479097684882), (1822, 0.004065111847046713), (3873, 0.004064802300341304), (4625, 0.004062559183896481), (3920, 0.0040575475311582145), (4330, 0.004053021150550022), (3183, 0.004052020802723124), (2348, 0.0040508095610195865), (2830, 0.004050669181548744), (1007, 0.004048973039009419), (3013, 0.004047860833033015), (729, 0.004042392455553271), (3198, 0.004041128174039198), (3112, 0.004040257648603288), (1905, 0.004039460321391906), (481, 0.0040380960492236405), (4111, 0.004038010636451647), (612, 0.004036692546863975), (3780, 0.004036249028432671), (4014, 0.004035180915486504), (3704, 0.004034972745798803), (318, 0.004031707272954909), (1896, 0.004027427114282581), (888, 0.00402526197599645), (3915, 0.004024543197655025), (2289, 0.0040231225470428195), (4520, 0.004021436304065867), (2391, 0.004019969730514939), (41, 0.004018772525455649), (4079, 0.004018103412220397), (206, 0.004018047158382346), (4249, 0.004012714707541468), (2390, 0.004009681151503006), (1687, 0.00400941819009056), (4259, 0.004009291435859013), (4419, 0.0040090326001361596), (1518, 0.004008396366025895), (1907, 0.004005871120524592), (1866, 0.004005571770876432), (3406, 0.004001506468702393), (3235, 0.00400080495052184), (3527, 0.004000244908150335), (1513, 0.003995925154450479), (3845, 0.003995004112001254), (2821, 0.003994998641094188), (1570, 0.0039917942664750685), (4401, 0.00399100159595177), (4722, 0.003988238183804151), (4046, 0.0039878499973086635), (1537, 0.003986084245345789), (4643, 0.003985480718853092), (826, 0.003984919033035857), (1893, 0.003980338184280997), (1916, 0.003979154520239049), (1703, 0.003976447032563009), (673, 0.003974402797592962), (4286, 0.003974389543967003), (4489, 0.003972854220764141), (1188, 0.003971661432899526), (2344, 0.00396899541483667), (1851, 0.003966031182737786), (4601, 0.003965694664517002), (1350, 0.003964492580592976), (2714, 0.003963642794775899), (3097, 0.003963451985854085), (3349, 0.003961052153970899), (4123, 0.003960351831186762), (493, 0.003959454368698261), (1225, 0.003959287022362345), (4357, 0.003959068494839572), (2911, 0.003958533431794605), (74, 0.00395469790349282), (4517, 0.0039542903865281654), (2104, 0.003953250436432129), (2776, 0.003952148531824763), (3771, 0.003951321721237861), (2999, 0.003950859093414042), (1454, 0.003950480685552301), (2088, 0.0039483411116405485), (456, 0.003947551770055118), (1364, 0.003947215663627192), (2477, 0.0039460361843665515), (4430, 0.003945565664227353), (2067, 0.003945005496740625), (2926, 0.003944905073675782), (728, 0.00394095822639957), (865, 0.003939757432092839), (34, 0.0039382031226651935), (3075, 0.003936835196337105), (991, 0.003936705091717945), (872, 0.003936386708637261), (2048, 0.003933931429131373), (792, 0.003933400315170967), (1960, 0.003933090858881329), (3493, 0.003930442318672386), (4038, 0.003930018684452644), (1463, 0.00392832270564878), (1324, 0.003926118637913383), (1918, 0.003925777704061014), (4501, 0.00392566106711692), (4629, 0.0039215164399977525), (4422, 0.00392135818755306), (3449, 0.003920607067450784), (4470, 0.003919644064983105), (3496, 0.003919209407999406), (564, 0.003914516109648322), (2105, 0.003912244584782794), (192, 0.003909751707564704), (3353, 0.003907954426365042), (1229, 0.0039071907903005), (4033, 0.003906587815355154), (2230, 0.003906489071106083), (930, 0.0039053029887390644), (3326, 0.0039043165498930388), (761, 0.0039041281589229197), (255, 0.0039040337681435127), (3314, 0.003903919262521996), (3501, 0.0038998793929406333), (2531, 0.0038987408560521544), (178, 0.003898147340154244), (2609, 0.003897889313199195), (3623, 0.0038967192595432175), (606, 0.0038957010951978475), (2894, 0.0038907626421324525), (743, 0.003889005634785748), (4446, 0.003888722790636334), (4573, 0.0038886872618831003), (1071, 0.0038868454683056485), (3654, 0.003885629182462996), (3227, 0.0038851767256729607), (2083, 0.0038823131114611685), (1946, 0.0038806148773646485), (1400, 0.0038788587592287096), (23, 0.003877990808082296), (1643, 0.003877106881756381), (2386, 0.0038764082153973246), (4566, 0.0038759270411203484), (1286, 0.0038752696269623637), (11, 0.0038744350042877254), (2091, 0.0038730989928387172), (3184, 0.0038725181865632272), (3388, 0.0038724464286502176), (3233, 0.0038719968950500063), (1902, 0.00386924929317378), (3809, 0.0038677556461210842), (2661, 0.0038651608340180025), (2554, 0.0038648560965115334), (2319, 0.003863939448542352), (4420, 0.003863656167088988), (652, 0.0038617818559141147), (1140, 0.003861700402914815), (2466, 0.003859696552701275), (2242, 0.0038596322529828226), (3666, 0.0038575804110474506), (3241, 0.00385560455644013), (3551, 0.0038543869414776086), (216, 0.0038539414968706423), (4056, 0.003853564518259287), (783, 0.003850714663983295), (3624, 0.0038498616493516675), (4668, 0.003848806754049167), (3214, 0.003848645081124826), (3765, 0.0038450828537136303), (1083, 0.0038412219774477097), (580, 0.0038394189732998494), (871, 0.0038390492302952093), (3526, 0.0038378800968594737), (3516, 0.0038370705355271666), (2405, 0.003836272881346694), (1122, 0.0038340880313551136), (1722, 0.003833939073492607), (579, 0.0038338222239748376), (2878, 0.003832610942216414), (2393, 0.0038251073590487555), (3542, 0.003824710515805065), (1645, 0.0038213697798105775), (3653, 0.0038203368889862493), (4054, 0.003816724311835998), (4334, 0.003816328329055859), (3564, 0.00381489931284659), (1176, 0.0038128730722391422), (4563, 0.003811455552067793), (636, 0.0038101653903028056), (4287, 0.0038101174564038297), (3303, 0.003810001919821172), (588, 0.0038099797471671244), (3125, 0.0038099567944302293), (3182, 0.0038098306824732465), (1931, 0.0038073108692581134), (1223, 0.003804477871532644), (169, 0.0038026073102590463), (2295, 0.003802258369106475), (4178, 0.003800865603235453), (3707, 0.003798942975037577), (1335, 0.0037979196976866423), (71, 0.0037977356354650968), (1131, 0.003795799847966243), (504, 0.0037911506408442085), (1179, 0.003790942666752646), (644, 0.0037892605548322986), (3882, 0.0037891648264185298), (2746, 0.003788880378355644), (4284, 0.0037883504140748593), (980, 0.0037856092171204454), (2492, 0.00378546395024091), (3727, 0.003784137835756774), (4266, 0.0037818767289015736), (3917, 0.003778445121740267), (660, 0.003777580102216636), (238, 0.0037735499266449966), (923, 0.0037728049295947825), (2904, 0.0037727659764491862), (1163, 0.0037709720188192127), (3571, 0.003766025589058817), (755, 0.003765446962747147), (1983, 0.003764834634659372), (3436, 0.003763773220877768), (3673, 0.003761656255549994), (509, 0.003761346832845196), (1410, 0.0037602549549913336), (3807, 0.0037597179737370616), (3330, 0.003755677713124579), (3799, 0.0037535288166037134), (3900, 0.003752384597222983), (696, 0.0037520033709557794), (2946, 0.00375147052171834), (1533, 0.003751095199279216), (3445, 0.0037508500870767174), (1717, 0.0037504377187499312), (3888, 0.0037496676345446164), (1740, 0.0037441876867928916), (198, 0.003744072807223909), (3268, 0.003740377594618617), (2972, 0.0037397233745523396), (2606, 0.003739272151423157), (2652, 0.0037387104755419497), (2073, 0.003736901957794846), (2169, 0.003734089236230955), (2313, 0.0037333091584494187), (3435, 0.003728665465112171), (4135, 0.0037278043623631706), (4640, 0.003725272842384709), (1191, 0.003722543640045908), (1102, 0.0037223432847900547), (1768, 0.0037184960521689735), (693, 0.003717672679127258), (2422, 0.0037175251956971444), (1969, 0.003712972821482269), (749, 0.0037125009869399535), (969, 0.0037113737059104777), (698, 0.003711145775241242), (1338, 0.003707012816683064), (1653, 0.003706744611499162), (769, 0.0037034608685001663), (1476, 0.003702147471099595), (3500, 0.0036974585967811165), (894, 0.00369562694879765), (1378, 0.0036939263596528146), (2226, 0.0036905347181645926), (2802, 0.003689200317165679), (750, 0.003688636201393131), (490, 0.0036881295771363097), (2061, 0.0036880780775694275), (3170, 0.003687095951277405), (4183, 0.003685434349335553), (4036, 0.003685338346420563), (3876, 0.0036842371244851925), (3811, 0.003681886115396426), (1882, 0.0036810614124885865), (3890, 0.003680997542751944), (3122, 0.003680881480136098), (3641, 0.0036808166328248693), (3402, 0.003679989687988373), (1488, 0.003679160813920836), (1620, 0.0036776307783581434), (2945, 0.0036774527454647935), (1706, 0.0036772013357669335), (1138, 0.003676936399278171), (4487, 0.003675838713821547), (1472, 0.0036751652778347103), (1422, 0.0036750288825570638), (4362, 0.003675013277668041), (1313, 0.0036740090131864517), (1170, 0.0036726265779276875), (3477, 0.0036715104769038114), (4670, 0.003671050405539605), (3557, 0.0036694532283571913), (3739, 0.003669353377461929), (400, 0.003668238756333899), (1634, 0.0036621265706347924), (114, 0.0036608606802512886), (3195, 0.003659543691336517), (959, 0.003659537603860518), (1891, 0.003658445692092096), (1483, 0.003656312018406975), (1693, 0.003656042851587201), (2593, 0.0036540970845912847), (348, 0.003653648332072435), (2779, 0.0036514357356865644), (4309, 0.0036496471856022673), (4530, 0.0036469577577717474), (2612, 0.0036466340037370018), (2965, 0.003644933152061148), (1421, 0.003643597117520775), (2397, 0.0036429537830676745), (4020, 0.003642214085952291), (1123, 0.0036411322334286094), (1161, 0.00363995973590148), (1892, 0.003639588353424558), (1247, 0.0036395578442724166), (727, 0.0036379244399111148), (1027, 0.003637571926009078), (3487, 0.003633641445044779), (1026, 0.003633250579385586), (2195, 0.003633196303266304), (1666, 0.003630309565622164), (1598, 0.0036302055478271283), (522, 0.0036300630567401826), (1408, 0.0036282044513429985), (1558, 0.0036270352219224086), (2496, 0.0036266179273856673), (2131, 0.0036242245181985914), (1044, 0.0036234415066681257), (2430, 0.0036214742006373778), (4394, 0.0036214648118823387), (1438, 0.0036212714271144472), (349, 0.0036210412242481814), (598, 0.0036165708537115623), (2642, 0.003613782358399763), (2069, 0.0036124485721363204), (2068, 0.0036106948534651005), (854, 0.0036070993702956218), (3819, 0.0036040261684973634), (373, 0.0036039415925399744), (4069, 0.003603752772094419), (2907, 0.003603617355771175), (1060, 0.0036034809852214045), (3953, 0.003603300332215518), (852, 0.0036028548157452565), (2634, 0.0036028073498745165), (1597, 0.003599302551969332), (3734, 0.003598835782324209), (475, 0.0035987768509329818), (3696, 0.00359810024437686), (1628, 0.0035974840262917376), (4345, 0.003597375572214809), (4011, 0.0035949957203378147), (1667, 0.0035925386564476976), (2402, 0.0035911142286497054), (2029, 0.0035907570386724875), (3706, 0.0035887608028382844), (3898, 0.0035883180170297826), (3220, 0.0035872721237298092), (3050, 0.0035868191160352775), (1782, 0.0035862515688681058), (4356, 0.003584755432898149), (3379, 0.003582969291963933), (880, 0.003581354789936831), (1813, 0.0035810914599377474), (1448, 0.003578831799999405), (221, 0.00357520041156839), (3298, 0.0035745528221045116), (127, 0.003574015775535735), (2674, 0.003573417367131872), (1481, 0.0035699302667946283), (3646, 0.003569581821695794), (2117, 0.0035686685573511788), (3014, 0.003568345649387871), (3194, 0.0035667216538296694), (1002, 0.003566501054403115), (4085, 0.0035652200204751806), (2461, 0.0035646966042749066), (488, 0.0035627522404169405), (2528, 0.0035623069700174395), (4591, 0.0035611781562838616), (2556, 0.003560655533982673), (3293, 0.003560479975142373), (1084, 0.0035604358860121406), (4154, 0.0035594485118218755), (215, 0.0035576449563773653), (4536, 0.0035555276966125916), (1796, 0.003553019787482629), (325, 0.003551013481231663), (798, 0.0035497108223854256), (1001, 0.00354893697853095), (471, 0.0035477479248976285), (3660, 0.003546452105852834), (1819, 0.0035453734336019062), (388, 0.0035427715494642776), (2004, 0.00354114644985211), (1177, 0.003536755410072221), (2743, 0.003535210923703951), (2892, 0.003535146382098333), (1744, 0.0035348429333598246), (132, 0.003533811810041309), (3300, 0.003533560000268396), (4472, 0.00353328142068818), (1478, 0.0035317477593361903), (2527, 0.0035260965418685802), (3028, 0.0035244588702505538), (907, 0.0035232983693335514), (4282, 0.003521881833926559), (1034, 0.0035214648667209244), (3974, 0.0035164028553383523), (31, 0.003515224093396232), (3278, 0.0035149061321366063), (1582, 0.003514602526579033), (975, 0.0035142471076253633), (2482, 0.0035120907761948383), (2862, 0.0035106294830763956), (96, 0.0035092595730166457), (1884, 0.003508827016536016), (372, 0.0035050538730487697), (589, 0.003504417792277305), (655, 0.0035041331761543632), (3503, 0.0035021505385215727), (1608, 0.003501520146495738), (3669, 0.0034989143199383693), (4479, 0.0034952317665424802), (2800, 0.003493300797265861), (1375, 0.0034922369071192306), (4638, 0.00349173446837043), (355, 0.0034897970083911495), (4523, 0.0034887564313293433), (2453, 0.0034882105757830543), (1372, 0.003488023338861938), (659, 0.003487857543478633), (1041, 0.003484092446271787), (594, 0.0034837348933997162), (359, 0.0034825036548198746), (2899, 0.0034822203645653955), (18, 0.0034819594616662805), (121, 0.003481474952508777), (1357, 0.0034807166511366503), (1217, 0.0034773890429542586), (3460, 0.0034767916518495504), (111, 0.0034760839688809256), (92, 0.0034743201912726066), (3342, 0.003473900227406353), (605, 0.0034733896521694473), (1065, 0.0034691472976990595), (3563, 0.0034682613450293448), (1340, 0.0034679718599189067), (3614, 0.0034675750689892298), (886, 0.003465996798156877), (2201, 0.003465820505030529), (4473, 0.003464012576068696), (1107, 0.003462218517042727), (2457, 0.0034614690562767563), (608, 0.0034612218006752796), (200, 0.003459215079436364), (2367, 0.0034590493202609554), (3147, 0.003458781795377169), (3311, 0.003456167202515915), (3071, 0.003453490701620481), (3910, 0.0034457867862130558), (2741, 0.0034436725190850207), (4350, 0.003438244041501963), (4712, 0.0034379767860854473), (1605, 0.003436700298662233), (1079, 0.0034361025311263537), (2287, 0.003435324581547673), (1760, 0.0034316451201380697), (1209, 0.0034308323748892125), (3705, 0.0034267598775920807), (1462, 0.003425418487802099), (3755, 0.0034239411200045968), (3027, 0.003422679042743795), (3120, 0.0034216934635041686), (136, 0.0034169156440037045), (1503, 0.0034164672394538377), (563, 0.0034164469712637457), (910, 0.0034160695114940276), (1427, 0.003415252367341169), (944, 0.0034140921716819656), (1827, 0.003410096933583782), (2399, 0.0034072474410291823), (1273, 0.0034026148319021656), (1543, 0.003400847067610205), (3742, 0.0033990829360232076), (2031, 0.003397882046338487), (184, 0.003392951330185178), (103, 0.0033914792908233196), (495, 0.003388958428105248), (416, 0.0033880815217616654), (744, 0.0033880368274692312), (804, 0.0033866047267014456), (4429, 0.0033865894868536557), (4143, 0.003385889715552263), (4066, 0.003385846184184971), (3304, 0.0033841741228568013), (703, 0.0033837562169483117), (1627, 0.003382508166365211), (558, 0.0033823345092622347), (1565, 0.0033795243607600434), (3318, 0.0033786420117685777), (951, 0.0033775604499462876), (1869, 0.003375315822459053), (1219, 0.0033747864055786564), (286, 0.003372489655812492), (457, 0.0033692576948616665), (410, 0.003368779790754775), (1080, 0.0033683132556038696), (2747, 0.0033679984840676515), (2845, 0.0033654912674285125), (604, 0.003365485167040566), (2611, 0.00336307119105932), (851, 0.0033625129044804808), (981, 0.0033609643645975355), (1719, 0.003360123847980295), (3956, 0.0033582925670364717), (2502, 0.0033575037086357624), (2771, 0.003353085690940803), (722, 0.003351570420359679), (2591, 0.0033512209567599116), (1964, 0.003350857381542689), (1830, 0.0033478877868222895), (3137, 0.003347286932140271), (3474, 0.0033451761631170945), (2338, 0.003341366411496087), (3380, 0.0033387868206506657), (2724, 0.003336443577654455), (2240, 0.0033332653428590534), (1199, 0.0033325819682980327), (3327, 0.003326887675709419), (815, 0.003326561574790431), (3569, 0.0033263114819393593), (267, 0.003326249939646005), (357, 0.0033249957047303833), (856, 0.003320780217770334), (2520, 0.003313846801058638), (1352, 0.0033137081805464375), (4074, 0.0033136904775312366), (1251, 0.0033131818143747314), (2580, 0.0033080125735376726), (1318, 0.0033069308198840166), (1423, 0.0033025999356113434), (4247, 0.0032983391307580025), (2976, 0.0032907471902753954), (3928, 0.00329009804100837), (3393, 0.00328092898213351), (480, 0.0032793846358005183), (617, 0.003275360297449851), (1616, 0.003274343708536424), (1414, 0.003272454655742446), (194, 0.0032721312973549273), (4733, 0.0032717877906651327), (3657, 0.0032641810550552096), (4636, 0.003256524313212837), (97, 0.003255704095665302), (2509, 0.0032539581158371987), (1040, 0.0032528149380941004), (4411, 0.0032522459460923633), (642, 0.003249440196549821), (3254, 0.003240088919486819), (16, 0.00323920825233975), (4151, 0.0032383469635582545), (3331, 0.0032363709979047793), (165, 0.003235992440952877), (4432, 0.003234898222717391), (1394, 0.00323184357736905), (190, 0.0032285669869116006), (712, 0.003227168239782347), (611, 0.0032257042387001237), (1370, 0.003225527873621232), (4311, 0.0032226547675890988), (3575, 0.00321774255437968), (1088, 0.003216775199535571), (861, 0.003210146846434373), (4626, 0.0032076033459705377), (2355, 0.0032050194463498346), (1943, 0.0032003487431303225), (195, 0.003195700142896886), (1078, 0.003189347252562698), (3200, 0.003187473417366562), (1828, 0.0031818357035508175), (2359, 0.0031816483472386944), (626, 0.003181275485933571), (1415, 0.003180932163616488), (3056, 0.003178801032497781), (707, 0.0031779641872713023), (3301, 0.003174019720417553), (2034, 0.003169679387679302), (2127, 0.0031631587841316395), (3347, 0.003155188613682599), (2132, 0.0031539216690710907), (2526, 0.0031500026948211653), (2761, 0.0031499749379451745), (3855, 0.003145883998305944), (3024, 0.00312694951500246), (3534, 0.0031246888768787784), (1356, 0.0031216462093363955), (2758, 0.003119051471429481), (1624, 0.0031170416920500315), (2039, 0.0031119680398722736), (2697, 0.0030915064441473703), (1305, 0.0030903675503261073), (2441, 0.0030839202086305985), (2010, 0.003073652848798076), (453, 0.0030370313465163724), (1989, 0.0030238702166364272), (1677, 0.0030212382275475263), (1303, 0.003015139805316055), (4674, 0.0030123343766857063), (953, 0.002999083841600729), (2766, 0.0029705818652289236), (256, 0.00297006619224765), (351, 0.0029621661194130264), (3199, 0.002955690636909211), (571, 0.0029274138869878437), (607, 0.0029039219848088263), (3626, 0.002902371010442762), (562, 0.0028986331601652646), (228, 0.0028448620728628153), (3546, 0.0028106687312671385), (831, 0.0027998660376699893), (3365, 0.0026887652664633528), (4171, 0.0026656953805026195), (4752, 0.002661605125612507), (129, 0.002630542380460003), (202, 0.002452654024505966), (2534, 0.0017193568518605736), (1, 0.0), (2, 0.0), (4, 0.0), (6, 0.0), (10, 0.0), (14, 0.0), (17, 0.0), (20, 0.0), (24, 0.0), (26, 0.0), (27, 0.0), (28, 0.0), (30, 0.0), (36, 0.0), (37, 0.0), (38, 0.0), (39, 0.0), (42, 0.0), (47, 0.0), (49, 0.0), (50, 0.0), (53, 0.0), (54, 0.0), (55, 0.0), (58, 0.0), (59, 0.0), (64, 0.0), (66, 0.0), (69, 0.0), (70, 0.0), (72, 0.0), (73, 0.0), (76, 0.0), (77, 0.0), (80, 0.0), (81, 0.0), (90, 0.0), (91, 0.0), (93, 0.0), (94, 0.0), (95, 0.0), (98, 0.0), (99, 0.0), (100, 0.0), (101, 0.0), (102, 0.0), (115, 0.0), (117, 0.0), (118, 0.0), (128, 0.0), (133, 0.0), (134, 0.0), (135, 0.0), (139, 0.0), (140, 0.0), (141, 0.0), (143, 0.0), (146, 0.0), (150, 0.0), (151, 0.0), (152, 0.0), (153, 0.0), (154, 0.0), (157, 0.0), (158, 0.0), (163, 0.0), (167, 0.0), (171, 0.0), (186, 0.0), (187, 0.0), (188, 0.0), (189, 0.0), (191, 0.0), (196, 0.0), (205, 0.0), (211, 0.0), (212, 0.0), (214, 0.0), (217, 0.0), (219, 0.0), (220, 0.0), (223, 0.0), (225, 0.0), (226, 0.0), (229, 0.0), (233, 0.0), (234, 0.0), (235, 0.0), (237, 0.0), (239, 0.0), (241, 0.0), (245, 0.0), (246, 0.0), (247, 0.0), (249, 0.0), (253, 0.0), (257, 0.0), (258, 0.0), (259, 0.0), (260, 0.0), (262, 0.0), (264, 0.0), (265, 0.0), (268, 0.0), (272, 0.0), (275, 0.0), (278, 0.0), (279, 0.0), (289, 0.0), (290, 0.0), (291, 0.0), (293, 0.0), (294, 0.0), (295, 0.0), (297, 0.0), (298, 0.0), (299, 0.0), (302, 0.0), (303, 0.0), (304, 0.0), (305, 0.0), (306, 0.0), (308, 0.0), (310, 0.0), (311, 0.0), (312, 0.0), (314, 0.0), (315, 0.0), (316, 0.0), (319, 0.0), (320, 0.0), (323, 0.0), (324, 0.0), (331, 0.0), (335, 0.0), (337, 0.0), (338, 0.0), (339, 0.0), (344, 0.0), (347, 0.0), (352, 0.0), (361, 0.0), (362, 0.0), (365, 0.0), (366, 0.0), (367, 0.0), (375, 0.0), (376, 0.0), (377, 0.0), (378, 0.0), (379, 0.0), (380, 0.0), (382, 0.0), (389, 0.0), (390, 0.0), (391, 0.0), (392, 0.0), (393, 0.0), (394, 0.0), (395, 0.0), (397, 0.0), (399, 0.0), (401, 0.0), (404, 0.0), (405, 0.0), (411, 0.0), (415, 0.0), (417, 0.0), (420, 0.0), (422, 0.0), (423, 0.0), (425, 0.0), (426, 0.0), (427, 0.0), (432, 0.0), (439, 0.0), (440, 0.0), (444, 0.0), (451, 0.0), (454, 0.0), (460, 0.0), (462, 0.0), (466, 0.0), (467, 0.0), (469, 0.0), (473, 0.0), (474, 0.0), (476, 0.0), (478, 0.0), (484, 0.0), (486, 0.0), (487, 0.0), (489, 0.0), (491, 0.0), (492, 0.0), (497, 0.0), (498, 0.0), (499, 0.0), (503, 0.0), (505, 0.0), (506, 0.0), (507, 0.0), (508, 0.0), (512, 0.0), (513, 0.0), (514, 0.0), (516, 0.0), (517, 0.0), (518, 0.0), (520, 0.0), (524, 0.0), (525, 0.0), (526, 0.0), (528, 0.0), (529, 0.0), (531, 0.0), (532, 0.0), (535, 0.0), (536, 0.0), (539, 0.0), (541, 0.0), (546, 0.0), (548, 0.0), (549, 0.0), (550, 0.0), (552, 0.0), (554, 0.0), (556, 0.0), (557, 0.0), (559, 0.0), (560, 0.0), (565, 0.0), (567, 0.0), (569, 0.0), (570, 0.0), (572, 0.0), (573, 0.0), (574, 0.0), (575, 0.0), (577, 0.0), (581, 0.0), (585, 0.0), (591, 0.0), (592, 0.0), (593, 0.0), (595, 0.0), (599, 0.0), (601, 0.0), (602, 0.0), (603, 0.0), (610, 0.0), (619, 0.0), (621, 0.0), (624, 0.0), (625, 0.0), (630, 0.0), (633, 0.0), (634, 0.0), (639, 0.0), (640, 0.0), (645, 0.0), (646, 0.0), (647, 0.0), (649, 0.0), (650, 0.0), (656, 0.0), (658, 0.0), (661, 0.0), (662, 0.0), (663, 0.0), (665, 0.0), (666, 0.0), (674, 0.0), (678, 0.0), (679, 0.0), (680, 0.0), (681, 0.0), (685, 0.0), (686, 0.0), (687, 0.0), (690, 0.0), (699, 0.0), (700, 0.0), (702, 0.0), (704, 0.0), (708, 0.0), (709, 0.0), (711, 0.0), (713, 0.0), (714, 0.0), (717, 0.0), (718, 0.0), (720, 0.0), (723, 0.0), (724, 0.0), (725, 0.0), (726, 0.0), (730, 0.0), (731, 0.0), (736, 0.0), (738, 0.0), (740, 0.0), (741, 0.0), (745, 0.0), (746, 0.0), (747, 0.0), (751, 0.0), (754, 0.0), (756, 0.0), (759, 0.0), (764, 0.0), (765, 0.0), (767, 0.0), (770, 0.0), (771, 0.0), (772, 0.0), (773, 0.0), (777, 0.0), (780, 0.0), (781, 0.0), (784, 0.0), (785, 0.0), (786, 0.0), (789, 0.0), (791, 0.0), (793, 0.0), (797, 0.0), (802, 0.0), (803, 0.0), (805, 0.0), (807, 0.0), (810, 0.0), (811, 0.0), (819, 0.0), (820, 0.0), (822, 0.0), (823, 0.0), (825, 0.0), (837, 0.0), (839, 0.0), (840, 0.0), (841, 0.0), (845, 0.0), (846, 0.0), (848, 0.0), (849, 0.0), (855, 0.0), (859, 0.0), (862, 0.0), (863, 0.0), (868, 0.0), (875, 0.0), (881, 0.0), (882, 0.0), (883, 0.0), (884, 0.0), (887, 0.0), (889, 0.0), (890, 0.0), (891, 0.0), (892, 0.0), (893, 0.0), (898, 0.0), (901, 0.0), (902, 0.0), (909, 0.0), (912, 0.0), (913, 0.0), (914, 0.0), (919, 0.0), (920, 0.0), (922, 0.0), (926, 0.0), (927, 0.0), (928, 0.0), (932, 0.0), (933, 0.0), (938, 0.0), (941, 0.0), (943, 0.0), (945, 0.0), (946, 0.0), (950, 0.0), (954, 0.0), (955, 0.0), (956, 0.0), (960, 0.0), (961, 0.0), (964, 0.0), (965, 0.0), (971, 0.0), (972, 0.0), (973, 0.0), (974, 0.0), (977, 0.0), (978, 0.0), (982, 0.0), (983, 0.0), (984, 0.0), (987, 0.0), (990, 0.0), (992, 0.0), (993, 0.0), (995, 0.0), (996, 0.0), (997, 0.0), (1004, 0.0), (1008, 0.0), (1010, 0.0), (1011, 0.0), (1013, 0.0), (1016, 0.0), (1022, 0.0), (1025, 0.0), (1028, 0.0), (1029, 0.0), (1031, 0.0), (1032, 0.0), (1036, 0.0), (1038, 0.0), (1039, 0.0), (1042, 0.0), (1047, 0.0), (1051, 0.0), (1054, 0.0), (1055, 0.0), (1056, 0.0), (1057, 0.0), (1062, 0.0), (1066, 0.0), (1067, 0.0), (1072, 0.0), (1073, 0.0), (1076, 0.0), (1081, 0.0), (1082, 0.0), (1086, 0.0), (1089, 0.0), (1091, 0.0), (1092, 0.0), (1093, 0.0), (1097, 0.0), (1098, 0.0), (1100, 0.0), (1101, 0.0), (1103, 0.0), (1104, 0.0), (1105, 0.0), (1106, 0.0), (1108, 0.0), (1110, 0.0), (1113, 0.0), (1117, 0.0), (1120, 0.0), (1121, 0.0), (1126, 0.0), (1127, 0.0), (1130, 0.0), (1133, 0.0), (1135, 0.0), (1139, 0.0), (1142, 0.0), (1143, 0.0), (1145, 0.0), (1147, 0.0), (1149, 0.0), (1150, 0.0), (1151, 0.0), (1153, 0.0), (1154, 0.0), (1155, 0.0), (1156, 0.0), (1158, 0.0), (1159, 0.0), (1164, 0.0), (1165, 0.0), (1166, 0.0), (1167, 0.0), (1168, 0.0), (1169, 0.0), (1171, 0.0), (1174, 0.0), (1178, 0.0), (1180, 0.0), (1181, 0.0), (1189, 0.0), (1190, 0.0), (1193, 0.0), (1196, 0.0), (1197, 0.0), (1198, 0.0), (1200, 0.0), (1201, 0.0), (1203, 0.0), (1204, 0.0), (1205, 0.0), (1207, 0.0), (1210, 0.0), (1211, 0.0), (1212, 0.0), (1213, 0.0), (1214, 0.0), (1218, 0.0), (1221, 0.0), (1222, 0.0), (1227, 0.0), (1228, 0.0), (1233, 0.0), (1235, 0.0), (1240, 0.0), (1242, 0.0), (1244, 0.0), (1246, 0.0), (1253, 0.0), (1256, 0.0), (1258, 0.0), (1259, 0.0), (1260, 0.0), (1263, 0.0), (1265, 0.0), (1268, 0.0), (1269, 0.0), (1271, 0.0), (1277, 0.0), (1280, 0.0), (1281, 0.0), (1282, 0.0), (1284, 0.0), (1285, 0.0), (1287, 0.0), (1288, 0.0), (1289, 0.0), (1291, 0.0), (1294, 0.0), (1295, 0.0), (1296, 0.0), (1297, 0.0), (1298, 0.0), (1299, 0.0), (1301, 0.0), (1304, 0.0), (1309, 0.0), (1315, 0.0), (1319, 0.0), (1321, 0.0), (1322, 0.0), (1323, 0.0), (1326, 0.0), (1328, 0.0), (1330, 0.0), (1332, 0.0), (1333, 0.0), (1336, 0.0), (1344, 0.0), (1346, 0.0), (1347, 0.0), (1353, 0.0), (1354, 0.0), (1355, 0.0), (1362, 0.0), (1363, 0.0), (1366, 0.0), (1368, 0.0), (1373, 0.0), (1380, 0.0), (1381, 0.0), (1390, 0.0), (1391, 0.0), (1392, 0.0), (1395, 0.0), (1399, 0.0), (1402, 0.0), (1404, 0.0), (1409, 0.0), (1411, 0.0), (1416, 0.0), (1424, 0.0), (1426, 0.0), (1428, 0.0), (1430, 0.0), (1431, 0.0), (1433, 0.0), (1434, 0.0), (1435, 0.0), (1437, 0.0), (1439, 0.0), (1441, 0.0), (1444, 0.0), (1447, 0.0), (1449, 0.0), (1450, 0.0), (1451, 0.0), (1452, 0.0), (1456, 0.0), (1457, 0.0), (1458, 0.0), (1459, 0.0), (1460, 0.0), (1466, 0.0), (1467, 0.0), (1468, 0.0), (1469, 0.0), (1470, 0.0), (1473, 0.0), (1479, 0.0), (1480, 0.0), (1484, 0.0), (1485, 0.0), (1487, 0.0), (1490, 0.0), (1491, 0.0), (1495, 0.0), (1496, 0.0), (1497, 0.0), (1499, 0.0), (1502, 0.0), (1504, 0.0), (1507, 0.0), (1508, 0.0), (1511, 0.0), (1516, 0.0), (1517, 0.0), (1520, 0.0), (1521, 0.0), (1522, 0.0), (1524, 0.0), (1525, 0.0), (1528, 0.0), (1529, 0.0), (1530, 0.0), (1531, 0.0), (1532, 0.0), (1534, 0.0), (1535, 0.0), (1536, 0.0), (1540, 0.0), (1541, 0.0), (1545, 0.0), (1546, 0.0), (1548, 0.0), (1549, 0.0), (1550, 0.0), (1554, 0.0), (1555, 0.0), (1556, 0.0), (1557, 0.0), (1559, 0.0), (1560, 0.0), (1561, 0.0), (1562, 0.0), (1563, 0.0), (1564, 0.0), (1566, 0.0), (1569, 0.0), (1573, 0.0), (1574, 0.0), (1575, 0.0), (1576, 0.0), (1577, 0.0), (1578, 0.0), (1580, 0.0), (1581, 0.0), (1584, 0.0), (1586, 0.0), (1587, 0.0), (1588, 0.0), (1589, 0.0), (1590, 0.0), (1592, 0.0), (1593, 0.0), (1594, 0.0), (1596, 0.0), (1599, 0.0), (1600, 0.0), (1601, 0.0), (1602, 0.0), (1603, 0.0), (1604, 0.0), (1606, 0.0), (1607, 0.0), (1610, 0.0), (1611, 0.0), (1613, 0.0), (1614, 0.0), (1615, 0.0), (1617, 0.0), (1618, 0.0), (1622, 0.0), (1623, 0.0), (1625, 0.0), (1626, 0.0), (1631, 0.0), (1632, 0.0), (1633, 0.0), (1635, 0.0), (1636, 0.0), (1637, 0.0), (1638, 0.0), (1639, 0.0), (1640, 0.0), (1641, 0.0), (1642, 0.0), (1646, 0.0), (1649, 0.0), (1651, 0.0), (1656, 0.0), (1657, 0.0), (1659, 0.0), (1660, 0.0), (1661, 0.0), (1663, 0.0), (1668, 0.0), (1669, 0.0), (1670, 0.0), (1672, 0.0), (1673, 0.0), (1679, 0.0), (1681, 0.0), (1683, 0.0), (1686, 0.0), (1689, 0.0), (1691, 0.0), (1697, 0.0), (1698, 0.0), (1699, 0.0), (1700, 0.0), (1704, 0.0), (1709, 0.0), (1724, 0.0), (1725, 0.0), (1726, 0.0), (1728, 0.0), (1729, 0.0), (1731, 0.0), (1732, 0.0), (1733, 0.0), (1734, 0.0), (1738, 0.0), (1742, 0.0), (1745, 0.0), (1751, 0.0), (1753, 0.0), (1755, 0.0), (1756, 0.0), (1758, 0.0), (1765, 0.0), (1766, 0.0), (1767, 0.0), (1769, 0.0), (1771, 0.0), (1772, 0.0), (1775, 0.0), (1777, 0.0), (1778, 0.0), (1780, 0.0), (1781, 0.0), (1783, 0.0), (1784, 0.0), (1785, 0.0), (1786, 0.0), (1789, 0.0), (1791, 0.0), (1792, 0.0), (1794, 0.0), (1800, 0.0), (1801, 0.0), (1803, 0.0), (1804, 0.0), (1805, 0.0), (1808, 0.0), (1810, 0.0), (1811, 0.0), (1814, 0.0), (1820, 0.0), (1823, 0.0), (1824, 0.0), (1825, 0.0), (1826, 0.0), (1829, 0.0), (1831, 0.0), (1834, 0.0), (1835, 0.0), (1836, 0.0), (1839, 0.0), (1840, 0.0), (1842, 0.0), (1844, 0.0), (1846, 0.0), (1848, 0.0), (1855, 0.0), (1856, 0.0), (1857, 0.0), (1859, 0.0), (1862, 0.0), (1877, 0.0), (1879, 0.0), (1881, 0.0), (1883, 0.0), (1887, 0.0), (1888, 0.0), (1889, 0.0), (1890, 0.0), (1894, 0.0), (1898, 0.0), (1899, 0.0), (1900, 0.0), (1901, 0.0), (1904, 0.0), (1910, 0.0), (1912, 0.0), (1914, 0.0), (1915, 0.0), (1917, 0.0), (1921, 0.0), (1925, 0.0), (1926, 0.0), (1928, 0.0), (1929, 0.0), (1930, 0.0), (1932, 0.0), (1933, 0.0), (1938, 0.0), (1939, 0.0), (1940, 0.0), (1941, 0.0), (1944, 0.0), (1952, 0.0), (1953, 0.0), (1954, 0.0), (1955, 0.0), (1956, 0.0), (1958, 0.0), (1959, 0.0), (1961, 0.0), (1962, 0.0), (1963, 0.0), (1965, 0.0), (1966, 0.0), (1972, 0.0), (1973, 0.0), (1974, 0.0), (1975, 0.0), (1978, 0.0), (1979, 0.0), (1980, 0.0), (1981, 0.0), (1984, 0.0), (1987, 0.0), (1991, 0.0), (1993, 0.0), (1998, 0.0), (2001, 0.0), (2002, 0.0), (2003, 0.0), (2006, 0.0), (2007, 0.0), (2009, 0.0), (2015, 0.0), (2017, 0.0), (2019, 0.0), (2021, 0.0), (2025, 0.0), (2028, 0.0), (2030, 0.0), (2032, 0.0), (2033, 0.0), (2036, 0.0), (2038, 0.0), (2041, 0.0), (2042, 0.0), (2043, 0.0), (2044, 0.0), (2046, 0.0), (2047, 0.0), (2050, 0.0), (2054, 0.0), (2057, 0.0), (2059, 0.0), (2060, 0.0), (2063, 0.0), (2066, 0.0), (2071, 0.0), (2072, 0.0), (2077, 0.0), (2078, 0.0), (2079, 0.0), (2081, 0.0), (2084, 0.0), (2085, 0.0), (2086, 0.0), (2090, 0.0), (2092, 0.0), (2093, 0.0), (2099, 0.0), (2106, 0.0), (2107, 0.0), (2111, 0.0), (2115, 0.0), (2118, 0.0), (2120, 0.0), (2124, 0.0), (2125, 0.0), (2128, 0.0), (2129, 0.0), (2130, 0.0), (2135, 0.0), (2136, 0.0), (2137, 0.0), (2138, 0.0), (2139, 0.0), (2140, 0.0), (2141, 0.0), (2142, 0.0), (2146, 0.0), (2147, 0.0), (2148, 0.0), (2150, 0.0), (2151, 0.0), (2152, 0.0), (2153, 0.0), (2158, 0.0), (2163, 0.0), (2164, 0.0), (2165, 0.0), (2166, 0.0), (2168, 0.0), (2170, 0.0), (2171, 0.0), (2172, 0.0), (2173, 0.0), (2178, 0.0), (2179, 0.0), (2180, 0.0), (2181, 0.0), (2182, 0.0), (2183, 0.0), (2184, 0.0), (2186, 0.0), (2187, 0.0), (2189, 0.0), (2190, 0.0), (2192, 0.0), (2194, 0.0), (2200, 0.0), (2204, 0.0), (2207, 0.0), (2208, 0.0), (2213, 0.0), (2215, 0.0), (2217, 0.0), (2218, 0.0), (2219, 0.0), (2220, 0.0), (2222, 0.0), (2225, 0.0), (2227, 0.0), (2228, 0.0), (2231, 0.0), (2232, 0.0), (2233, 0.0), (2234, 0.0), (2238, 0.0), (2241, 0.0), (2243, 0.0), (2245, 0.0), (2246, 0.0), (2247, 0.0), (2248, 0.0), (2249, 0.0), (2252, 0.0), (2253, 0.0), (2256, 0.0), (2259, 0.0), (2261, 0.0), (2262, 0.0), (2263, 0.0), (2267, 0.0), (2268, 0.0), (2270, 0.0), (2271, 0.0), (2272, 0.0), (2273, 0.0), (2274, 0.0), (2278, 0.0), (2281, 0.0), (2282, 0.0), (2283, 0.0), (2288, 0.0), (2292, 0.0), (2293, 0.0), (2296, 0.0), (2297, 0.0), (2299, 0.0), (2300, 0.0), (2304, 0.0), (2305, 0.0), (2307, 0.0), (2308, 0.0), (2310, 0.0), (2311, 0.0), (2312, 0.0), (2314, 0.0), (2315, 0.0), (2317, 0.0), (2322, 0.0), (2323, 0.0), (2324, 0.0), (2325, 0.0), (2326, 0.0), (2327, 0.0), (2328, 0.0), (2329, 0.0), (2330, 0.0), (2331, 0.0), (2332, 0.0), (2333, 0.0), (2336, 0.0), (2337, 0.0), (2340, 0.0), (2341, 0.0), (2342, 0.0), (2343, 0.0), (2345, 0.0), (2351, 0.0), (2352, 0.0), (2354, 0.0), (2356, 0.0), (2357, 0.0), (2358, 0.0), (2360, 0.0), (2363, 0.0), (2364, 0.0), (2369, 0.0), (2370, 0.0), (2372, 0.0), (2373, 0.0), (2377, 0.0), (2378, 0.0), (2380, 0.0), (2381, 0.0), (2382, 0.0), (2383, 0.0), (2384, 0.0), (2385, 0.0), (2387, 0.0), (2389, 0.0), (2392, 0.0), (2395, 0.0), (2396, 0.0), (2398, 0.0), (2401, 0.0), (2404, 0.0), (2408, 0.0), (2409, 0.0), (2410, 0.0), (2414, 0.0), (2416, 0.0), (2419, 0.0), (2420, 0.0), (2424, 0.0), (2425, 0.0), (2429, 0.0), (2431, 0.0), (2432, 0.0), (2433, 0.0), (2435, 0.0), (2442, 0.0), (2444, 0.0), (2445, 0.0), (2446, 0.0), (2450, 0.0), (2451, 0.0), (2452, 0.0), (2454, 0.0), (2455, 0.0), (2456, 0.0), (2458, 0.0), (2462, 0.0), (2465, 0.0), (2470, 0.0), (2471, 0.0), (2472, 0.0), (2476, 0.0), (2479, 0.0), (2483, 0.0), (2485, 0.0), (2491, 0.0), (2493, 0.0), (2495, 0.0), (2497, 0.0), (2498, 0.0), (2499, 0.0), (2500, 0.0), (2501, 0.0), (2504, 0.0), (2506, 0.0), (2507, 0.0), (2508, 0.0), (2511, 0.0), (2514, 0.0), (2515, 0.0), (2516, 0.0), (2518, 0.0), (2519, 0.0), (2521, 0.0), (2523, 0.0), (2525, 0.0), (2532, 0.0), (2533, 0.0), (2536, 0.0), (2537, 0.0), (2539, 0.0), (2541, 0.0), (2542, 0.0), (2543, 0.0), (2544, 0.0), (2547, 0.0), (2548, 0.0), (2549, 0.0), (2551, 0.0), (2552, 0.0), (2557, 0.0), (2561, 0.0), (2562, 0.0), (2564, 0.0), (2566, 0.0), (2567, 0.0), (2569, 0.0), (2571, 0.0), (2573, 0.0), (2574, 0.0), (2575, 0.0), (2576, 0.0), (2577, 0.0), (2578, 0.0), (2581, 0.0), (2583, 0.0), (2584, 0.0), (2585, 0.0), (2586, 0.0), (2588, 0.0), (2589, 0.0), (2590, 0.0), (2594, 0.0), (2595, 0.0), (2596, 0.0), (2597, 0.0), (2599, 0.0), (2600, 0.0), (2604, 0.0), (2605, 0.0), (2608, 0.0), (2610, 0.0), (2613, 0.0), (2615, 0.0), (2616, 0.0), (2619, 0.0), (2620, 0.0), (2624, 0.0), (2626, 0.0), (2627, 0.0), (2628, 0.0), (2631, 0.0), (2635, 0.0), (2636, 0.0), (2637, 0.0), (2641, 0.0), (2648, 0.0), (2651, 0.0), (2656, 0.0), (2657, 0.0), (2658, 0.0), (2659, 0.0), (2662, 0.0), (2663, 0.0), (2666, 0.0), (2667, 0.0), (2669, 0.0), (2670, 0.0), (2671, 0.0), (2672, 0.0), (2673, 0.0), (2675, 0.0), (2676, 0.0), (2677, 0.0), (2679, 0.0), (2681, 0.0), (2682, 0.0), (2683, 0.0), (2684, 0.0), (2685, 0.0), (2686, 0.0), (2690, 0.0), (2693, 0.0), (2699, 0.0), (2700, 0.0), (2701, 0.0), (2703, 0.0), (2704, 0.0), (2707, 0.0), (2709, 0.0), (2711, 0.0), (2713, 0.0), (2715, 0.0), (2717, 0.0), (2719, 0.0), (2720, 0.0), (2721, 0.0), (2722, 0.0), (2725, 0.0), (2728, 0.0), (2729, 0.0), (2730, 0.0), (2733, 0.0), (2734, 0.0), (2735, 0.0), (2736, 0.0), (2737, 0.0), (2738, 0.0), (2749, 0.0), (2750, 0.0), (2753, 0.0), (2754, 0.0), (2756, 0.0), (2757, 0.0), (2763, 0.0), (2765, 0.0), (2770, 0.0), (2773, 0.0), (2781, 0.0), (2783, 0.0), (2785, 0.0), (2786, 0.0), (2787, 0.0), (2788, 0.0), (2790, 0.0), (2792, 0.0), (2793, 0.0), (2794, 0.0), (2799, 0.0), (2801, 0.0), (2804, 0.0), (2806, 0.0), (2810, 0.0), (2811, 0.0), (2813, 0.0), (2814, 0.0), (2815, 0.0), (2817, 0.0), (2818, 0.0), (2819, 0.0), (2822, 0.0), (2824, 0.0), (2825, 0.0), (2826, 0.0), (2827, 0.0), (2828, 0.0), (2829, 0.0), (2833, 0.0), (2835, 0.0), (2836, 0.0), (2837, 0.0), (2839, 0.0), (2842, 0.0), (2846, 0.0), (2847, 0.0), (2850, 0.0), (2851, 0.0), (2852, 0.0), (2853, 0.0), (2855, 0.0), (2856, 0.0), (2858, 0.0), (2860, 0.0), (2861, 0.0), (2863, 0.0), (2864, 0.0), (2865, 0.0), (2866, 0.0), (2875, 0.0), (2877, 0.0), (2880, 0.0), (2882, 0.0), (2884, 0.0), (2891, 0.0), (2895, 0.0), (2896, 0.0), (2898, 0.0), (2900, 0.0), (2902, 0.0), (2905, 0.0), (2906, 0.0), (2909, 0.0), (2912, 0.0), (2921, 0.0), (2922, 0.0), (2923, 0.0), (2927, 0.0), (2928, 0.0), (2930, 0.0), (2937, 0.0), (2938, 0.0), (2940, 0.0), (2941, 0.0), (2947, 0.0), (2948, 0.0), (2949, 0.0), (2950, 0.0), (2951, 0.0), (2952, 0.0), (2953, 0.0), (2954, 0.0), (2955, 0.0), (2956, 0.0), (2957, 0.0), (2958, 0.0), (2959, 0.0), (2960, 0.0), (2962, 0.0), (2963, 0.0), (2967, 0.0), (2968, 0.0), (2970, 0.0), (2973, 0.0), (2979, 0.0), (2982, 0.0), (2983, 0.0), (2984, 0.0), (2987, 0.0), (2990, 0.0), (2991, 0.0), (2993, 0.0), (2994, 0.0), (2997, 0.0), (3001, 0.0), (3002, 0.0), (3003, 0.0), (3005, 0.0), (3006, 0.0), (3007, 0.0), (3009, 0.0), (3011, 0.0), (3016, 0.0), (3018, 0.0), (3020, 0.0), (3021, 0.0), (3022, 0.0), (3025, 0.0), (3026, 0.0), (3029, 0.0), (3030, 0.0), (3031, 0.0), (3034, 0.0), (3035, 0.0), (3038, 0.0), (3040, 0.0), (3041, 0.0), (3042, 0.0), (3047, 0.0), (3048, 0.0), (3049, 0.0), (3052, 0.0), (3054, 0.0), (3055, 0.0), (3057, 0.0), (3058, 0.0), (3059, 0.0), (3060, 0.0), (3061, 0.0), (3063, 0.0), (3064, 0.0), (3068, 0.0), (3069, 0.0), (3073, 0.0), (3077, 0.0), (3078, 0.0), (3079, 0.0), (3080, 0.0), (3082, 0.0), (3084, 0.0), (3087, 0.0), (3088, 0.0), (3089, 0.0), (3090, 0.0), (3092, 0.0), (3093, 0.0), (3100, 0.0), (3101, 0.0), (3103, 0.0), (3104, 0.0), (3105, 0.0), (3106, 0.0), (3107, 0.0), (3109, 0.0), (3113, 0.0), (3115, 0.0), (3117, 0.0), (3121, 0.0), (3124, 0.0), (3126, 0.0), (3128, 0.0), (3130, 0.0), (3131, 0.0), (3132, 0.0), (3133, 0.0), (3134, 0.0), (3135, 0.0), (3136, 0.0), (3138, 0.0), (3139, 0.0), (3141, 0.0), (3143, 0.0), (3145, 0.0), (3149, 0.0), (3150, 0.0), (3158, 0.0), (3159, 0.0), (3160, 0.0), (3161, 0.0), (3162, 0.0), (3163, 0.0), (3168, 0.0), (3169, 0.0), (3172, 0.0), (3173, 0.0), (3174, 0.0), (3175, 0.0), (3176, 0.0), (3177, 0.0), (3179, 0.0), (3180, 0.0), (3181, 0.0), (3185, 0.0), (3186, 0.0), (3188, 0.0), (3189, 0.0), (3190, 0.0), (3191, 0.0), (3193, 0.0), (3197, 0.0), (3201, 0.0), (3202, 0.0), (3204, 0.0), (3206, 0.0), (3207, 0.0), (3208, 0.0), (3211, 0.0), (3212, 0.0), (3216, 0.0), (3217, 0.0), (3221, 0.0), (3223, 0.0), (3224, 0.0), (3225, 0.0), (3229, 0.0), (3230, 0.0), (3231, 0.0), (3236, 0.0), (3238, 0.0), (3239, 0.0), (3242, 0.0), (3243, 0.0), (3247, 0.0), (3250, 0.0), (3251, 0.0), (3252, 0.0), (3261, 0.0), (3263, 0.0), (3266, 0.0), (3269, 0.0), (3270, 0.0), (3271, 0.0), (3272, 0.0), (3277, 0.0), (3281, 0.0), (3283, 0.0), (3286, 0.0), (3287, 0.0), (3289, 0.0), (3290, 0.0), (3292, 0.0), (3305, 0.0), (3307, 0.0), (3310, 0.0), (3320, 0.0), (3321, 0.0), (3322, 0.0), (3323, 0.0), (3324, 0.0), (3332, 0.0), (3333, 0.0), (3335, 0.0), (3336, 0.0), (3337, 0.0), (3338, 0.0), (3339, 0.0), (3340, 0.0), (3341, 0.0), (3343, 0.0), (3348, 0.0), (3350, 0.0), (3354, 0.0), (3358, 0.0), (3361, 0.0), (3366, 0.0), (3367, 0.0), (3368, 0.0), (3369, 0.0), (3371, 0.0), (3372, 0.0), (3378, 0.0), (3381, 0.0), (3383, 0.0), (3390, 0.0), (3392, 0.0), (3394, 0.0), (3396, 0.0), (3397, 0.0), (3398, 0.0), (3400, 0.0), (3401, 0.0), (3404, 0.0), (3405, 0.0), (3411, 0.0), (3412, 0.0), (3414, 0.0), (3415, 0.0), (3419, 0.0), (3422, 0.0), (3424, 0.0), (3429, 0.0), (3431, 0.0), (3432, 0.0), (3434, 0.0), (3438, 0.0), (3439, 0.0), (3440, 0.0), (3441, 0.0), (3442, 0.0), (3443, 0.0), (3444, 0.0), (3448, 0.0), (3451, 0.0), (3452, 0.0), (3454, 0.0), (3455, 0.0), (3459, 0.0), (3461, 0.0), (3464, 0.0), (3467, 0.0), (3468, 0.0), (3472, 0.0), (3473, 0.0), (3475, 0.0), (3476, 0.0), (3478, 0.0), (3481, 0.0), (3482, 0.0), (3484, 0.0), (3485, 0.0), (3489, 0.0), (3490, 0.0), (3491, 0.0), (3494, 0.0), (3495, 0.0), (3497, 0.0), (3499, 0.0), (3502, 0.0), (3505, 0.0), (3507, 0.0), (3510, 0.0), (3513, 0.0), (3514, 0.0), (3517, 0.0), (3519, 0.0), (3520, 0.0), (3522, 0.0), (3523, 0.0), (3525, 0.0), (3529, 0.0), (3530, 0.0), (3531, 0.0), (3532, 0.0), (3533, 0.0), (3537, 0.0), (3538, 0.0), (3539, 0.0), (3540, 0.0), (3543, 0.0), (3544, 0.0), (3545, 0.0), (3547, 0.0), (3548, 0.0), (3549, 0.0), (3550, 0.0), (3554, 0.0), (3555, 0.0), (3561, 0.0), (3562, 0.0), (3565, 0.0), (3567, 0.0), (3568, 0.0), (3570, 0.0), (3573, 0.0), (3576, 0.0), (3578, 0.0), (3581, 0.0), (3583, 0.0), (3584, 0.0), (3585, 0.0), (3587, 0.0), (3588, 0.0), (3589, 0.0), (3591, 0.0), (3592, 0.0), (3593, 0.0), (3595, 0.0), (3600, 0.0), (3602, 0.0), (3603, 0.0), (3604, 0.0), (3605, 0.0), (3606, 0.0), (3607, 0.0), (3608, 0.0), (3609, 0.0), (3610, 0.0), (3611, 0.0), (3615, 0.0), (3616, 0.0), (3617, 0.0), (3619, 0.0), (3621, 0.0), (3622, 0.0), (3625, 0.0), (3627, 0.0), (3628, 0.0), (3629, 0.0), (3631, 0.0), (3633, 0.0), (3636, 0.0), (3644, 0.0), (3647, 0.0), (3649, 0.0), (3650, 0.0), (3651, 0.0), (3658, 0.0), (3662, 0.0), (3663, 0.0), (3664, 0.0), (3668, 0.0), (3671, 0.0), (3672, 0.0), (3674, 0.0), (3676, 0.0), (3677, 0.0), (3678, 0.0), (3679, 0.0), (3681, 0.0), (3682, 0.0), (3683, 0.0), (3685, 0.0), (3686, 0.0), (3687, 0.0), (3688, 0.0), (3690, 0.0), (3691, 0.0), (3693, 0.0), (3695, 0.0), (3697, 0.0), (3698, 0.0), (3700, 0.0), (3701, 0.0), (3702, 0.0), (3703, 0.0), (3709, 0.0), (3710, 0.0), (3712, 0.0), (3714, 0.0), (3715, 0.0), (3716, 0.0), (3717, 0.0), (3718, 0.0), (3719, 0.0), (3721, 0.0), (3722, 0.0), (3723, 0.0), (3724, 0.0), (3725, 0.0), (3726, 0.0), (3729, 0.0), (3730, 0.0), (3732, 0.0), (3735, 0.0), (3736, 0.0), (3737, 0.0), (3738, 0.0), (3740, 0.0), (3743, 0.0), (3744, 0.0), (3746, 0.0), (3757, 0.0), (3758, 0.0), (3759, 0.0), (3760, 0.0), (3761, 0.0), (3762, 0.0), (3764, 0.0), (3768, 0.0), (3769, 0.0), (3770, 0.0), (3773, 0.0), (3774, 0.0), (3775, 0.0), (3776, 0.0), (3781, 0.0), (3782, 0.0), (3783, 0.0), (3785, 0.0), (3786, 0.0), (3787, 0.0), (3788, 0.0), (3789, 0.0), (3790, 0.0), (3791, 0.0), (3792, 0.0), (3795, 0.0), (3796, 0.0), (3798, 0.0), (3800, 0.0), (3802, 0.0), (3803, 0.0), (3804, 0.0), (3805, 0.0), (3806, 0.0), (3808, 0.0), (3812, 0.0), (3814, 0.0), (3815, 0.0), (3816, 0.0), (3817, 0.0), (3818, 0.0), (3820, 0.0), (3823, 0.0), (3824, 0.0), (3830, 0.0), (3831, 0.0), (3833, 0.0), (3834, 0.0), (3836, 0.0), (3837, 0.0), (3838, 0.0), (3840, 0.0), (3841, 0.0), (3843, 0.0), (3844, 0.0), (3846, 0.0), (3847, 0.0), (3848, 0.0), (3849, 0.0), (3851, 0.0), (3856, 0.0), (3858, 0.0), (3859, 0.0), (3863, 0.0), (3869, 0.0), (3870, 0.0), (3872, 0.0), (3874, 0.0), (3877, 0.0), (3878, 0.0), (3879, 0.0), (3881, 0.0), (3884, 0.0), (3885, 0.0), (3886, 0.0), (3887, 0.0), (3889, 0.0), (3891, 0.0), (3894, 0.0), (3896, 0.0), (3897, 0.0), (3899, 0.0), (3905, 0.0), (3906, 0.0), (3907, 0.0), (3908, 0.0), (3911, 0.0), (3912, 0.0), (3914, 0.0), (3916, 0.0), (3918, 0.0), (3921, 0.0), (3929, 0.0), (3930, 0.0), (3931, 0.0), (3933, 0.0), (3935, 0.0), (3936, 0.0), (3937, 0.0), (3938, 0.0), (3939, 0.0), (3942, 0.0), (3943, 0.0), (3944, 0.0), (3945, 0.0), (3948, 0.0), (3949, 0.0), (3950, 0.0), (3963, 0.0), (3964, 0.0), (3965, 0.0), (3966, 0.0), (3967, 0.0), (3968, 0.0), (3969, 0.0), (3970, 0.0), (3971, 0.0), (3972, 0.0), (3975, 0.0), (3977, 0.0), (3979, 0.0), (3980, 0.0), (3981, 0.0), (3982, 0.0), (3985, 0.0), (3986, 0.0), (3987, 0.0), (3988, 0.0), (3989, 0.0), (3991, 0.0), (3994, 0.0), (3995, 0.0), (3996, 0.0), (3997, 0.0), (3999, 0.0), (4002, 0.0), (4003, 0.0), (4006, 0.0), (4010, 0.0), (4013, 0.0), (4015, 0.0), (4017, 0.0), (4018, 0.0), (4019, 0.0), (4021, 0.0), (4022, 0.0), (4023, 0.0), (4026, 0.0), (4027, 0.0), (4028, 0.0), (4029, 0.0), (4030, 0.0), (4031, 0.0), (4034, 0.0), (4037, 0.0), (4039, 0.0), (4040, 0.0), (4041, 0.0), (4042, 0.0), (4043, 0.0), (4044, 0.0), (4045, 0.0), (4047, 0.0), (4049, 0.0), (4058, 0.0), (4059, 0.0), (4063, 0.0), (4065, 0.0), (4067, 0.0), (4070, 0.0), (4071, 0.0), (4072, 0.0), (4073, 0.0), (4075, 0.0), (4076, 0.0), (4078, 0.0), (4080, 0.0), (4083, 0.0), (4084, 0.0), (4086, 0.0), (4089, 0.0), (4090, 0.0), (4091, 0.0), (4093, 0.0), (4094, 0.0), (4097, 0.0), (4100, 0.0), (4102, 0.0), (4103, 0.0), (4105, 0.0), (4107, 0.0), (4108, 0.0), (4109, 0.0), (4112, 0.0), (4114, 0.0), (4115, 0.0), (4119, 0.0), (4120, 0.0), (4122, 0.0), (4125, 0.0), (4126, 0.0), (4127, 0.0), (4129, 0.0), (4131, 0.0), (4132, 0.0), (4136, 0.0), (4139, 0.0), (4140, 0.0), (4142, 0.0), (4144, 0.0), (4145, 0.0), (4146, 0.0), (4147, 0.0), (4148, 0.0), (4150, 0.0), (4153, 0.0), (4155, 0.0), (4157, 0.0), (4159, 0.0), (4161, 0.0), (4162, 0.0), (4166, 0.0), (4167, 0.0), (4168, 0.0), (4169, 0.0), (4170, 0.0), (4172, 0.0), (4173, 0.0), (4174, 0.0), (4175, 0.0), (4179, 0.0), (4180, 0.0), (4181, 0.0), (4184, 0.0), (4185, 0.0), (4186, 0.0), (4188, 0.0), (4190, 0.0), (4191, 0.0), (4193, 0.0), (4194, 0.0), (4197, 0.0), (4198, 0.0), (4199, 0.0), (4200, 0.0), (4201, 0.0), (4204, 0.0), (4206, 0.0), (4207, 0.0), (4208, 0.0), (4209, 0.0), (4211, 0.0), (4212, 0.0), (4213, 0.0), (4214, 0.0), (4215, 0.0), (4218, 0.0), (4219, 0.0), (4220, 0.0), (4221, 0.0), (4222, 0.0), (4223, 0.0), (4224, 0.0), (4225, 0.0), (4228, 0.0), (4229, 0.0), (4230, 0.0), (4234, 0.0), (4237, 0.0), (4238, 0.0), (4239, 0.0), (4240, 0.0), (4241, 0.0), (4245, 0.0), (4248, 0.0), (4250, 0.0), (4251, 0.0), (4252, 0.0), (4253, 0.0), (4254, 0.0), (4256, 0.0), (4258, 0.0), (4260, 0.0), (4262, 0.0), (4263, 0.0), (4264, 0.0), (4265, 0.0), (4267, 0.0), (4270, 0.0), (4271, 0.0), (4273, 0.0), (4274, 0.0), (4275, 0.0), (4276, 0.0), (4277, 0.0), (4278, 0.0), (4279, 0.0), (4280, 0.0), (4285, 0.0), (4289, 0.0), (4290, 0.0), (4291, 0.0), (4292, 0.0), (4294, 0.0), (4296, 0.0), (4297, 0.0), (4298, 0.0), (4299, 0.0), (4300, 0.0), (4301, 0.0), (4302, 0.0), (4304, 0.0), (4305, 0.0), (4306, 0.0), (4307, 0.0), (4308, 0.0), (4310, 0.0), (4312, 0.0), (4313, 0.0), (4315, 0.0), (4316, 0.0), (4317, 0.0), (4318, 0.0), (4319, 0.0), (4320, 0.0), (4322, 0.0), (4323, 0.0), (4324, 0.0), (4326, 0.0), (4327, 0.0), (4328, 0.0), (4329, 0.0), (4331, 0.0), (4332, 0.0), (4338, 0.0), (4339, 0.0), (4340, 0.0), (4341, 0.0), (4343, 0.0), (4346, 0.0), (4347, 0.0), (4348, 0.0), (4352, 0.0), (4353, 0.0), (4354, 0.0), (4355, 0.0), (4358, 0.0), (4359, 0.0), (4360, 0.0), (4361, 0.0), (4363, 0.0), (4364, 0.0), (4365, 0.0), (4370, 0.0), (4372, 0.0), (4376, 0.0), (4377, 0.0), (4381, 0.0), (4383, 0.0), (4384, 0.0), (4386, 0.0), (4390, 0.0), (4391, 0.0), (4392, 0.0), (4393, 0.0), (4396, 0.0), (4397, 0.0), (4400, 0.0), (4404, 0.0), (4405, 0.0), (4406, 0.0), (4407, 0.0), (4408, 0.0), (4409, 0.0), (4410, 0.0), (4413, 0.0), (4414, 0.0), (4415, 0.0), (4416, 0.0), (4417, 0.0), (4418, 0.0), (4421, 0.0), (4423, 0.0), (4424, 0.0), (4425, 0.0), (4426, 0.0), (4427, 0.0), (4428, 0.0), (4431, 0.0), (4433, 0.0), (4434, 0.0), (4437, 0.0), (4438, 0.0), (4439, 0.0), (4441, 0.0), (4445, 0.0), (4447, 0.0), (4449, 0.0), (4451, 0.0), (4453, 0.0), (4454, 0.0), (4455, 0.0), (4457, 0.0), (4458, 0.0), (4460, 0.0), (4461, 0.0), (4462, 0.0), (4463, 0.0), (4464, 0.0), (4468, 0.0), (4471, 0.0), (4476, 0.0), (4478, 0.0), (4480, 0.0), (4483, 0.0), (4485, 0.0), (4491, 0.0), (4493, 0.0), (4495, 0.0), (4496, 0.0), (4497, 0.0), (4498, 0.0), (4499, 0.0), (4500, 0.0), (4505, 0.0), (4506, 0.0), (4508, 0.0), (4509, 0.0), (4513, 0.0), (4514, 0.0), (4515, 0.0), (4518, 0.0), (4519, 0.0), (4525, 0.0), (4526, 0.0), (4527, 0.0), (4529, 0.0), (4532, 0.0), (4537, 0.0), (4538, 0.0), (4539, 0.0), (4540, 0.0), (4541, 0.0), (4542, 0.0), (4543, 0.0), (4544, 0.0), (4545, 0.0), (4547, 0.0), (4549, 0.0), (4550, 0.0), (4552, 0.0), (4556, 0.0), (4558, 0.0), (4559, 0.0), (4560, 0.0), (4561, 0.0), (4562, 0.0), (4565, 0.0), (4567, 0.0), (4568, 0.0), (4569, 0.0), (4570, 0.0), (4572, 0.0), (4574, 0.0), (4577, 0.0), (4578, 0.0), (4579, 0.0), (4580, 0.0), (4582, 0.0), (4584, 0.0), (4585, 0.0), (4586, 0.0), (4587, 0.0), (4592, 0.0), (4595, 0.0), (4597, 0.0), (4598, 0.0), (4599, 0.0), (4600, 0.0), (4604, 0.0), (4606, 0.0), (4607, 0.0), (4609, 0.0), (4611, 0.0), (4612, 0.0), (4613, 0.0), (4615, 0.0), (4616, 0.0), (4618, 0.0), (4620, 0.0), (4621, 0.0), (4622, 0.0), (4628, 0.0), (4630, 0.0), (4631, 0.0), (4633, 0.0), (4634, 0.0), (4635, 0.0), (4639, 0.0), (4641, 0.0), (4642, 0.0), (4644, 0.0), (4645, 0.0), (4646, 0.0), (4647, 0.0), (4648, 0.0), (4651, 0.0), (4653, 0.0), (4654, 0.0), (4655, 0.0), (4659, 0.0), (4661, 0.0), (4662, 0.0), (4663, 0.0), (4664, 0.0), (4665, 0.0), (4666, 0.0), (4667, 0.0), (4671, 0.0), (4672, 0.0), (4675, 0.0), (4676, 0.0), (4677, 0.0), (4678, 0.0), (4680, 0.0), (4681, 0.0), (4683, 0.0), (4686, 0.0), (4687, 0.0), (4688, 0.0), (4689, 0.0), (4690, 0.0), (4691, 0.0), (4692, 0.0), (4693, 0.0), (4694, 0.0), (4696, 0.0), (4697, 0.0), (4698, 0.0), (4700, 0.0), (4702, 0.0), (4704, 0.0), (4705, 0.0), (4707, 0.0), (4708, 0.0), (4709, 0.0), (4711, 0.0), (4714, 0.0), (4715, 0.0), (4716, 0.0), (4717, 0.0), (4719, 0.0), (4720, 0.0), (4725, 0.0), (4728, 0.0), (4729, 0.0), (4730, 0.0), (4732, 0.0), (4736, 0.0), (4737, 0.0), (4740, 0.0), (4741, 0.0), (4742, 0.0), (4743, 0.0), (4744, 0.0), (4745, 0.0), (4746, 0.0), (4749, 0.0), (4750, 0.0), (4751, 0.0), (4753, 0.0), (4754, 0.0), (4755, 0.0), (4756, 0.0), (4757, 0.0), (4758, 0.0), (4759, 0.0)]\n"
          ]
        }
      ]
    },
    {
      "cell_type": "code",
      "source": [
        "# print the name of similar movies based on the index\n",
        "\n",
        "print('Top 30 Movies Suggested for you: \\n')\n",
        "\n",
        "i = 1\n",
        "\n",
        "for movie in Sorted_Similarity_Movies:\n",
        "  index = movie[0]\n",
        "  title_from_index = df[df.index==index]['Movie_Title'].values[0]\n",
        "  if (i<31):\n",
        "    print(i,'.',title_from_index)\n",
        "    i+=1"
      ],
      "metadata": {
        "colab": {
          "base_uri": "https://localhost:8080/"
        },
        "id": "m-7Df4ijUITF",
        "outputId": "0f12bfa8-1b3f-4887-9c83-8f0d7e89c151"
      },
      "execution_count": 32,
      "outputs": [
        {
          "output_type": "stream",
          "name": "stdout",
          "text": [
            "Top 30 Movies Suggested for you: \n",
            "\n",
            "1 . Niagara\n",
            "2 . Some Like It Hot\n",
            "3 . The Kentucky Fried Movie\n",
            "4 . The Juror\n",
            "5 . Enough\n",
            "6 . Duel in the Sun\n",
            "7 . Superman III\n",
            "8 . Eye for an Eye\n",
            "9 . The Misfits\n",
            "10 . Beyond the Black Rainbow\n",
            "11 . Brokeback Mountain\n",
            "12 . All That Jazz\n",
            "13 . Tora! Tora! Tora!\n",
            "14 . Master and Commander: The Far Side of the World\n",
            "15 . To Kill a Mockingbird\n",
            "16 . Harry Brown\n",
            "17 . The Dark Knight Rises\n",
            "18 . Running with Scissors\n",
            "19 . Edge of Darkness\n",
            "20 . Man on Wire\n",
            "21 . The Odd Life of Timothy Green\n",
            "22 . Intolerable Cruelty\n",
            "23 . The Curse of Downers Grove\n",
            "24 . The Great Gatsby\n",
            "25 . Mad Max 2: The Road Warrior\n",
            "26 . Source Code\n",
            "27 . Song One\n",
            "28 . The Longest Yard\n",
            "29 . The Boy Next Door\n",
            "30 . The Lazarus Effect\n"
          ]
        }
      ]
    },
    {
      "cell_type": "code",
      "source": [
        "Movie_Name = input('Enter your favourite movie name: ')\n",
        "\n",
        "list_of_all_titles = df['Movie_Title'].tolist()\n",
        "\n",
        "Find_Close_Match = difflib.get_close_matches(Movie_Name,list_of_all_titles)\n",
        "\n",
        "Close_Match = Find_Close_Match[0]\n",
        "\n",
        "Index_of_Movie = df[df.Movie_Title == Close_Match]['Movie_ID'].values[0]\n",
        "\n",
        "Recommendation_Score = list(enumerate(similarity_score[Index_of_Movie]))\n",
        "\n",
        "Sorted_Similar_Movies = sorted(Recommendation_Score,key = lambda x:x[1],reverse = True)\n",
        "\n",
        "print('Top 10 Movies suggested for you: \\n')\n",
        "\n",
        "i = 1\n",
        "\n",
        "for movie in Sorted_Similar_Movies:\n",
        "  index = movie[0]\n",
        "  title_from_index = df[df.Movie_ID==index]['Movie_Title'].values\n",
        "  if (i<11):\n",
        "    print(i,'.',title_from_index)\n",
        "    i+=1"
      ],
      "metadata": {
        "colab": {
          "base_uri": "https://localhost:8080/"
        },
        "id": "BDks5_JWUL8O",
        "outputId": "afa016db-c6ec-452f-ea9c-706cf4ebf5c7"
      },
      "execution_count": 33,
      "outputs": [
        {
          "output_type": "stream",
          "name": "stdout",
          "text": [
            "Enter your favourite movie name: avatar\n",
            "Top 10 Movies suggested for you: \n",
            "\n",
            "1 . ['Avatar']\n",
            "2 . ['The Godfather']\n",
            "3 . ['New Nightmare']\n",
            "4 . ['Elizabethtown']\n",
            "5 . ['Gerry']\n",
            "6 . ['Cradle Will Rock']\n",
            "7 . ['A Prairie Home Companion']\n",
            "8 . ['Bright Lights, Big City']\n",
            "9 . ['Rollerball']\n",
            "10 . ['Walking and Talking']\n"
          ]
        }
      ]
    }
  ]
}